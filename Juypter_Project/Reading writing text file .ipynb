{
 "cells": [
  {
   "cell_type": "code",
   "execution_count": 7,
   "metadata": {
    "collapsed": true
   },
   "outputs": [],
   "source": [
    "import numpy as np\n",
    "import pandas as pd\n",
    "from pandas import Series,DataFrame"
   ]
  },
  {
   "cell_type": "code",
   "execution_count": 8,
   "metadata": {
    "collapsed": true
   },
   "outputs": [],
   "source": [
    "dfrmae = pd.read_csv('test.csv') # CSV (Comma seprate values )"
   ]
  },
  {
   "cell_type": "code",
   "execution_count": 9,
   "metadata": {},
   "outputs": [
    {
     "data": {
      "text/html": [
       "<div>\n",
       "<style>\n",
       "    .dataframe thead tr:only-child th {\n",
       "        text-align: right;\n",
       "    }\n",
       "\n",
       "    .dataframe thead th {\n",
       "        text-align: left;\n",
       "    }\n",
       "\n",
       "    .dataframe tbody tr th {\n",
       "        vertical-align: top;\n",
       "    }\n",
       "</style>\n",
       "<table border=\"1\" class=\"dataframe\">\n",
       "  <thead>\n",
       "    <tr style=\"text-align: right;\">\n",
       "      <th></th>\n",
       "      <th>a</th>\n",
       "      <th>b</th>\n",
       "      <th>c</th>\n",
       "      <th>d</th>\n",
       "      <th>message</th>\n",
       "    </tr>\n",
       "  </thead>\n",
       "  <tbody>\n",
       "    <tr>\n",
       "      <th>0</th>\n",
       "      <td>1</td>\n",
       "      <td>2</td>\n",
       "      <td>3</td>\n",
       "      <td>4</td>\n",
       "      <td>hello</td>\n",
       "    </tr>\n",
       "    <tr>\n",
       "      <th>1</th>\n",
       "      <td>5</td>\n",
       "      <td>6</td>\n",
       "      <td>7</td>\n",
       "      <td>8</td>\n",
       "      <td>world</td>\n",
       "    </tr>\n",
       "    <tr>\n",
       "      <th>2</th>\n",
       "      <td>9</td>\n",
       "      <td>10</td>\n",
       "      <td>11</td>\n",
       "      <td>12</td>\n",
       "      <td>foo</td>\n",
       "    </tr>\n",
       "  </tbody>\n",
       "</table>\n",
       "</div>"
      ],
      "text/plain": [
       "   a   b   c   d message\n",
       "0  1   2   3   4   hello\n",
       "1  5   6   7   8   world\n",
       "2  9  10  11  12     foo"
      ]
     },
     "execution_count": 9,
     "metadata": {},
     "output_type": "execute_result"
    }
   ],
   "source": [
    "dfrmae"
   ]
  },
  {
   "cell_type": "code",
   "execution_count": 10,
   "metadata": {
    "collapsed": true
   },
   "outputs": [],
   "source": [
    "# It will add header as 0 to 4 , You can allow pandas to assign default column names.\n",
    "dfrmae = pd.read_csv('test.csv',header = None) "
   ]
  },
  {
   "cell_type": "code",
   "execution_count": 11,
   "metadata": {},
   "outputs": [
    {
     "data": {
      "text/html": [
       "<div>\n",
       "<style>\n",
       "    .dataframe thead tr:only-child th {\n",
       "        text-align: right;\n",
       "    }\n",
       "\n",
       "    .dataframe thead th {\n",
       "        text-align: left;\n",
       "    }\n",
       "\n",
       "    .dataframe tbody tr th {\n",
       "        vertical-align: top;\n",
       "    }\n",
       "</style>\n",
       "<table border=\"1\" class=\"dataframe\">\n",
       "  <thead>\n",
       "    <tr style=\"text-align: right;\">\n",
       "      <th></th>\n",
       "      <th>0</th>\n",
       "      <th>1</th>\n",
       "      <th>2</th>\n",
       "      <th>3</th>\n",
       "      <th>4</th>\n",
       "    </tr>\n",
       "  </thead>\n",
       "  <tbody>\n",
       "    <tr>\n",
       "      <th>0</th>\n",
       "      <td>a</td>\n",
       "      <td>b</td>\n",
       "      <td>c</td>\n",
       "      <td>d</td>\n",
       "      <td>message</td>\n",
       "    </tr>\n",
       "    <tr>\n",
       "      <th>1</th>\n",
       "      <td>1</td>\n",
       "      <td>2</td>\n",
       "      <td>3</td>\n",
       "      <td>4</td>\n",
       "      <td>hello</td>\n",
       "    </tr>\n",
       "    <tr>\n",
       "      <th>2</th>\n",
       "      <td>5</td>\n",
       "      <td>6</td>\n",
       "      <td>7</td>\n",
       "      <td>8</td>\n",
       "      <td>world</td>\n",
       "    </tr>\n",
       "    <tr>\n",
       "      <th>3</th>\n",
       "      <td>9</td>\n",
       "      <td>10</td>\n",
       "      <td>11</td>\n",
       "      <td>12</td>\n",
       "      <td>foo</td>\n",
       "    </tr>\n",
       "  </tbody>\n",
       "</table>\n",
       "</div>"
      ],
      "text/plain": [
       "   0   1   2   3        4\n",
       "0  a   b   c   d  message\n",
       "1  1   2   3   4    hello\n",
       "2  5   6   7   8    world\n",
       "3  9  10  11  12      foo"
      ]
     },
     "execution_count": 11,
     "metadata": {},
     "output_type": "execute_result"
    }
   ],
   "source": [
    "dfrmae"
   ]
  },
  {
   "cell_type": "code",
   "execution_count": 15,
   "metadata": {
    "collapsed": true
   },
   "outputs": [],
   "source": [
    "dframe = pd.read_table('test.csv',sep=',',header=None) # Same output like Pd.read_CSV"
   ]
  },
  {
   "cell_type": "code",
   "execution_count": 16,
   "metadata": {},
   "outputs": [
    {
     "data": {
      "text/html": [
       "<div>\n",
       "<style>\n",
       "    .dataframe thead tr:only-child th {\n",
       "        text-align: right;\n",
       "    }\n",
       "\n",
       "    .dataframe thead th {\n",
       "        text-align: left;\n",
       "    }\n",
       "\n",
       "    .dataframe tbody tr th {\n",
       "        vertical-align: top;\n",
       "    }\n",
       "</style>\n",
       "<table border=\"1\" class=\"dataframe\">\n",
       "  <thead>\n",
       "    <tr style=\"text-align: right;\">\n",
       "      <th></th>\n",
       "      <th>0</th>\n",
       "      <th>1</th>\n",
       "      <th>2</th>\n",
       "      <th>3</th>\n",
       "      <th>4</th>\n",
       "    </tr>\n",
       "  </thead>\n",
       "  <tbody>\n",
       "    <tr>\n",
       "      <th>0</th>\n",
       "      <td>a</td>\n",
       "      <td>b</td>\n",
       "      <td>c</td>\n",
       "      <td>d</td>\n",
       "      <td>message</td>\n",
       "    </tr>\n",
       "    <tr>\n",
       "      <th>1</th>\n",
       "      <td>1</td>\n",
       "      <td>2</td>\n",
       "      <td>3</td>\n",
       "      <td>4</td>\n",
       "      <td>hello</td>\n",
       "    </tr>\n",
       "    <tr>\n",
       "      <th>2</th>\n",
       "      <td>5</td>\n",
       "      <td>6</td>\n",
       "      <td>7</td>\n",
       "      <td>8</td>\n",
       "      <td>world</td>\n",
       "    </tr>\n",
       "    <tr>\n",
       "      <th>3</th>\n",
       "      <td>9</td>\n",
       "      <td>10</td>\n",
       "      <td>11</td>\n",
       "      <td>12</td>\n",
       "      <td>foo</td>\n",
       "    </tr>\n",
       "  </tbody>\n",
       "</table>\n",
       "</div>"
      ],
      "text/plain": [
       "   0   1   2   3        4\n",
       "0  a   b   c   d  message\n",
       "1  1   2   3   4    hello\n",
       "2  5   6   7   8    world\n",
       "3  9  10  11  12      foo"
      ]
     },
     "execution_count": 16,
     "metadata": {},
     "output_type": "execute_result"
    }
   ],
   "source": [
    "dframe"
   ]
  },
  {
   "cell_type": "code",
   "execution_count": 17,
   "metadata": {},
   "outputs": [
    {
     "data": {
      "text/html": [
       "<div>\n",
       "<style>\n",
       "    .dataframe thead tr:only-child th {\n",
       "        text-align: right;\n",
       "    }\n",
       "\n",
       "    .dataframe thead th {\n",
       "        text-align: left;\n",
       "    }\n",
       "\n",
       "    .dataframe tbody tr th {\n",
       "        vertical-align: top;\n",
       "    }\n",
       "</style>\n",
       "<table border=\"1\" class=\"dataframe\">\n",
       "  <thead>\n",
       "    <tr style=\"text-align: right;\">\n",
       "      <th></th>\n",
       "      <th>a</th>\n",
       "      <th>b</th>\n",
       "      <th>c</th>\n",
       "      <th>d</th>\n",
       "      <th>message</th>\n",
       "    </tr>\n",
       "  </thead>\n",
       "  <tbody>\n",
       "    <tr>\n",
       "      <th>0</th>\n",
       "      <td>a</td>\n",
       "      <td>b</td>\n",
       "      <td>c</td>\n",
       "      <td>d</td>\n",
       "      <td>message</td>\n",
       "    </tr>\n",
       "    <tr>\n",
       "      <th>1</th>\n",
       "      <td>1</td>\n",
       "      <td>2</td>\n",
       "      <td>3</td>\n",
       "      <td>4</td>\n",
       "      <td>hello</td>\n",
       "    </tr>\n",
       "    <tr>\n",
       "      <th>2</th>\n",
       "      <td>5</td>\n",
       "      <td>6</td>\n",
       "      <td>7</td>\n",
       "      <td>8</td>\n",
       "      <td>world</td>\n",
       "    </tr>\n",
       "    <tr>\n",
       "      <th>3</th>\n",
       "      <td>9</td>\n",
       "      <td>10</td>\n",
       "      <td>11</td>\n",
       "      <td>12</td>\n",
       "      <td>foo</td>\n",
       "    </tr>\n",
       "  </tbody>\n",
       "</table>\n",
       "</div>"
      ],
      "text/plain": [
       "   a   b   c   d  message\n",
       "0  a   b   c   d  message\n",
       "1  1   2   3   4    hello\n",
       "2  5   6   7   8    world\n",
       "3  9  10  11  12      foo"
      ]
     },
     "execution_count": 17,
     "metadata": {},
     "output_type": "execute_result"
    }
   ],
   "source": [
    "pd.read_csv('test.csv',names=['a','b','c','d','message'])"
   ]
  },
  {
   "cell_type": "code",
   "execution_count": 27,
   "metadata": {},
   "outputs": [
    {
     "data": {
      "text/html": [
       "<div>\n",
       "<style>\n",
       "    .dataframe thead tr:only-child th {\n",
       "        text-align: right;\n",
       "    }\n",
       "\n",
       "    .dataframe thead th {\n",
       "        text-align: left;\n",
       "    }\n",
       "\n",
       "    .dataframe tbody tr th {\n",
       "        vertical-align: top;\n",
       "    }\n",
       "</style>\n",
       "<table border=\"1\" class=\"dataframe\">\n",
       "  <thead>\n",
       "    <tr style=\"text-align: right;\">\n",
       "      <th></th>\n",
       "      <th>a</th>\n",
       "      <th>b</th>\n",
       "      <th>c</th>\n",
       "      <th>d</th>\n",
       "    </tr>\n",
       "    <tr>\n",
       "      <th>message</th>\n",
       "      <th></th>\n",
       "      <th></th>\n",
       "      <th></th>\n",
       "      <th></th>\n",
       "    </tr>\n",
       "  </thead>\n",
       "  <tbody>\n",
       "    <tr>\n",
       "      <th>hello</th>\n",
       "      <td>1</td>\n",
       "      <td>2</td>\n",
       "      <td>3</td>\n",
       "      <td>4</td>\n",
       "    </tr>\n",
       "    <tr>\n",
       "      <th>world</th>\n",
       "      <td>5</td>\n",
       "      <td>6</td>\n",
       "      <td>7</td>\n",
       "      <td>8</td>\n",
       "    </tr>\n",
       "    <tr>\n",
       "      <th>foo</th>\n",
       "      <td>9</td>\n",
       "      <td>10</td>\n",
       "      <td>11</td>\n",
       "      <td>12</td>\n",
       "    </tr>\n",
       "  </tbody>\n",
       "</table>\n",
       "</div>"
      ],
      "text/plain": [
       "         a   b   c   d\n",
       "message               \n",
       "hello    1   2   3   4\n",
       "world    5   6   7   8\n",
       "foo      9  10  11  12"
      ]
     },
     "execution_count": 27,
     "metadata": {},
     "output_type": "execute_result"
    }
   ],
   "source": [
    "# Suppose you wanted the message column to be the index of the returned DataFrame.You can either indicate you want \n",
    "# the column at index 4 or named 'message' using the index_col argument:\n",
    "\n",
    "pd.read_csv('test.csv',index_col='message')"
   ]
  },
  {
   "cell_type": "code",
   "execution_count": 30,
   "metadata": {},
   "outputs": [
    {
     "data": {
      "text/html": [
       "<div>\n",
       "<style>\n",
       "    .dataframe thead tr:only-child th {\n",
       "        text-align: right;\n",
       "    }\n",
       "\n",
       "    .dataframe thead th {\n",
       "        text-align: left;\n",
       "    }\n",
       "\n",
       "    .dataframe tbody tr th {\n",
       "        vertical-align: top;\n",
       "    }\n",
       "</style>\n",
       "<table border=\"1\" class=\"dataframe\">\n",
       "  <thead>\n",
       "    <tr style=\"text-align: right;\">\n",
       "      <th></th>\n",
       "      <th>0</th>\n",
       "      <th>1</th>\n",
       "      <th>2</th>\n",
       "      <th>3</th>\n",
       "      <th>4</th>\n",
       "    </tr>\n",
       "  </thead>\n",
       "  <tbody>\n",
       "    <tr>\n",
       "      <th>0</th>\n",
       "      <td>a</td>\n",
       "      <td>b</td>\n",
       "      <td>c</td>\n",
       "      <td>d</td>\n",
       "      <td>message</td>\n",
       "    </tr>\n",
       "    <tr>\n",
       "      <th>1</th>\n",
       "      <td>1</td>\n",
       "      <td>2</td>\n",
       "      <td>3</td>\n",
       "      <td>4</td>\n",
       "      <td>hello</td>\n",
       "    </tr>\n",
       "  </tbody>\n",
       "</table>\n",
       "</div>"
      ],
      "text/plain": [
       "   0  1  2  3        4\n",
       "0  a  b  c  d  message\n",
       "1  1  2  3  4    hello"
      ]
     },
     "execution_count": 30,
     "metadata": {},
     "output_type": "execute_result"
    }
   ],
   "source": [
    " # If we wanted to read first 2 rows\n",
    "pd.read_csv('test.csv',header=None,nrows=2)"
   ]
  },
  {
   "cell_type": "code",
   "execution_count": 31,
   "metadata": {
    "collapsed": true
   },
   "outputs": [],
   "source": [
    "# if we wanted to store dataframe into CSV file\n",
    "\n",
    "dframe.to_csv('OutTest.csv')"
   ]
  },
  {
   "cell_type": "code",
   "execution_count": 32,
   "metadata": {},
   "outputs": [
    {
     "name": "stdout",
     "output_type": "stream",
     "text": [
      ",0,1,2,3,4\n",
      "0,a,b,c,d,message\n",
      "1,1,2,3,4,hello\n",
      "2,5,6,7,8,world\n",
      "3,9,10,11,12,foo\n"
     ]
    }
   ],
   "source": [
    "import sys # to show the output in Ipython\n",
    "\n",
    "dframe.to_csv(sys.stdout)"
   ]
  },
  {
   "cell_type": "code",
   "execution_count": 34,
   "metadata": {},
   "outputs": [
    {
     "name": "stdout",
     "output_type": "stream",
     "text": [
      "!0!1!2!3!4\n",
      "0!a!b!c!d!message\n",
      "1!1!2!3!4!hello\n",
      "2!5!6!7!8!world\n",
      "3!9!10!11!12!foo\n"
     ]
    }
   ],
   "source": [
    "# if I wanted to sperate with specific delimeter\n",
    "\n",
    "dframe.to_csv(sys.stdout,sep=\"!\")\n"
   ]
  },
  {
   "cell_type": "code",
   "execution_count": 36,
   "metadata": {},
   "outputs": [
    {
     "name": "stdout",
     "output_type": "stream",
     "text": [
      ",0,1,2\n",
      "0,a,b,c\n",
      "1,1,2,3\n",
      "2,5,6,7\n",
      "3,9,10,11\n"
     ]
    }
   ],
   "source": [
    "# if We wanted to only save few cloums \n",
    "dframe.to_csv(sys.stdout,columns=[0,1,2])"
   ]
  },
  {
   "cell_type": "code",
   "execution_count": 40,
   "metadata": {
    "collapsed": true
   },
   "outputs": [],
   "source": [
    "Frame = pd.read_csv('Test2.csv')"
   ]
  },
  {
   "cell_type": "code",
   "execution_count": 41,
   "metadata": {},
   "outputs": [
    {
     "data": {
      "text/html": [
       "<div>\n",
       "<style>\n",
       "    .dataframe thead tr:only-child th {\n",
       "        text-align: right;\n",
       "    }\n",
       "\n",
       "    .dataframe thead th {\n",
       "        text-align: left;\n",
       "    }\n",
       "\n",
       "    .dataframe tbody tr th {\n",
       "        vertical-align: top;\n",
       "    }\n",
       "</style>\n",
       "<table border=\"1\" class=\"dataframe\">\n",
       "  <thead>\n",
       "    <tr style=\"text-align: right;\">\n",
       "      <th></th>\n",
       "      <th>key1</th>\n",
       "      <th>key2</th>\n",
       "      <th>value1</th>\n",
       "      <th>value2</th>\n",
       "    </tr>\n",
       "  </thead>\n",
       "  <tbody>\n",
       "    <tr>\n",
       "      <th>0</th>\n",
       "      <td>one</td>\n",
       "      <td>a</td>\n",
       "      <td>1</td>\n",
       "      <td>2</td>\n",
       "    </tr>\n",
       "    <tr>\n",
       "      <th>1</th>\n",
       "      <td>one</td>\n",
       "      <td>b</td>\n",
       "      <td>3</td>\n",
       "      <td>4</td>\n",
       "    </tr>\n",
       "    <tr>\n",
       "      <th>2</th>\n",
       "      <td>one</td>\n",
       "      <td>c</td>\n",
       "      <td>5</td>\n",
       "      <td>6</td>\n",
       "    </tr>\n",
       "    <tr>\n",
       "      <th>3</th>\n",
       "      <td>one</td>\n",
       "      <td>d</td>\n",
       "      <td>7</td>\n",
       "      <td>8</td>\n",
       "    </tr>\n",
       "    <tr>\n",
       "      <th>4</th>\n",
       "      <td>two</td>\n",
       "      <td>a</td>\n",
       "      <td>9</td>\n",
       "      <td>10</td>\n",
       "    </tr>\n",
       "    <tr>\n",
       "      <th>5</th>\n",
       "      <td>two</td>\n",
       "      <td>b</td>\n",
       "      <td>11</td>\n",
       "      <td>12</td>\n",
       "    </tr>\n",
       "    <tr>\n",
       "      <th>6</th>\n",
       "      <td>two</td>\n",
       "      <td>c</td>\n",
       "      <td>13</td>\n",
       "      <td>14</td>\n",
       "    </tr>\n",
       "    <tr>\n",
       "      <th>7</th>\n",
       "      <td>two</td>\n",
       "      <td>d</td>\n",
       "      <td>15</td>\n",
       "      <td>16</td>\n",
       "    </tr>\n",
       "  </tbody>\n",
       "</table>\n",
       "</div>"
      ],
      "text/plain": [
       "  key1 key2  value1  value2\n",
       "0  one    a       1       2\n",
       "1  one    b       3       4\n",
       "2  one    c       5       6\n",
       "3  one    d       7       8\n",
       "4  two    a       9      10\n",
       "5  two    b      11      12\n",
       "6  two    c      13      14\n",
       "7  two    d      15      16"
      ]
     },
     "execution_count": 41,
     "metadata": {},
     "output_type": "execute_result"
    }
   ],
   "source": [
    "Frame"
   ]
  },
  {
   "cell_type": "code",
   "execution_count": 44,
   "metadata": {
    "collapsed": true
   },
   "outputs": [],
   "source": [
    "# a hierarchical index from multiple columns, just pass a list of column numbers or names:\n",
    "Frame = pd.read_csv('Test2.csv',index_col=['key1','key2'])"
   ]
  },
  {
   "cell_type": "code",
   "execution_count": 45,
   "metadata": {},
   "outputs": [
    {
     "data": {
      "text/html": [
       "<div>\n",
       "<style>\n",
       "    .dataframe thead tr:only-child th {\n",
       "        text-align: right;\n",
       "    }\n",
       "\n",
       "    .dataframe thead th {\n",
       "        text-align: left;\n",
       "    }\n",
       "\n",
       "    .dataframe tbody tr th {\n",
       "        vertical-align: top;\n",
       "    }\n",
       "</style>\n",
       "<table border=\"1\" class=\"dataframe\">\n",
       "  <thead>\n",
       "    <tr style=\"text-align: right;\">\n",
       "      <th></th>\n",
       "      <th></th>\n",
       "      <th>value1</th>\n",
       "      <th>value2</th>\n",
       "    </tr>\n",
       "    <tr>\n",
       "      <th>key1</th>\n",
       "      <th>key2</th>\n",
       "      <th></th>\n",
       "      <th></th>\n",
       "    </tr>\n",
       "  </thead>\n",
       "  <tbody>\n",
       "    <tr>\n",
       "      <th rowspan=\"4\" valign=\"top\">one</th>\n",
       "      <th>a</th>\n",
       "      <td>1</td>\n",
       "      <td>2</td>\n",
       "    </tr>\n",
       "    <tr>\n",
       "      <th>b</th>\n",
       "      <td>3</td>\n",
       "      <td>4</td>\n",
       "    </tr>\n",
       "    <tr>\n",
       "      <th>c</th>\n",
       "      <td>5</td>\n",
       "      <td>6</td>\n",
       "    </tr>\n",
       "    <tr>\n",
       "      <th>d</th>\n",
       "      <td>7</td>\n",
       "      <td>8</td>\n",
       "    </tr>\n",
       "    <tr>\n",
       "      <th rowspan=\"4\" valign=\"top\">two</th>\n",
       "      <th>a</th>\n",
       "      <td>9</td>\n",
       "      <td>10</td>\n",
       "    </tr>\n",
       "    <tr>\n",
       "      <th>b</th>\n",
       "      <td>11</td>\n",
       "      <td>12</td>\n",
       "    </tr>\n",
       "    <tr>\n",
       "      <th>c</th>\n",
       "      <td>13</td>\n",
       "      <td>14</td>\n",
       "    </tr>\n",
       "    <tr>\n",
       "      <th>d</th>\n",
       "      <td>15</td>\n",
       "      <td>16</td>\n",
       "    </tr>\n",
       "  </tbody>\n",
       "</table>\n",
       "</div>"
      ],
      "text/plain": [
       "           value1  value2\n",
       "key1 key2                \n",
       "one  a          1       2\n",
       "     b          3       4\n",
       "     c          5       6\n",
       "     d          7       8\n",
       "two  a          9      10\n",
       "     b         11      12\n",
       "     c         13      14\n",
       "     d         15      16"
      ]
     },
     "execution_count": 45,
     "metadata": {},
     "output_type": "execute_result"
    }
   ],
   "source": [
    "Frame"
   ]
  },
  {
   "cell_type": "code",
   "execution_count": 46,
   "metadata": {},
   "outputs": [
    {
     "data": {
      "text/html": [
       "<div>\n",
       "<style>\n",
       "    .dataframe thead tr:only-child th {\n",
       "        text-align: right;\n",
       "    }\n",
       "\n",
       "    .dataframe thead th {\n",
       "        text-align: left;\n",
       "    }\n",
       "\n",
       "    .dataframe tbody tr th {\n",
       "        vertical-align: top;\n",
       "    }\n",
       "</style>\n",
       "<table border=\"1\" class=\"dataframe\">\n",
       "  <thead>\n",
       "    <tr style=\"text-align: right;\">\n",
       "      <th></th>\n",
       "      <th>0</th>\n",
       "      <th>1</th>\n",
       "      <th>2</th>\n",
       "      <th>3</th>\n",
       "      <th>4</th>\n",
       "    </tr>\n",
       "  </thead>\n",
       "  <tbody>\n",
       "    <tr>\n",
       "      <th>0</th>\n",
       "      <td>a</td>\n",
       "      <td>b</td>\n",
       "      <td>c</td>\n",
       "      <td>d</td>\n",
       "      <td>message</td>\n",
       "    </tr>\n",
       "    <tr>\n",
       "      <th>1</th>\n",
       "      <td>1</td>\n",
       "      <td>2</td>\n",
       "      <td>3</td>\n",
       "      <td>4</td>\n",
       "      <td>hello</td>\n",
       "    </tr>\n",
       "    <tr>\n",
       "      <th>2</th>\n",
       "      <td>5</td>\n",
       "      <td>6</td>\n",
       "      <td>7</td>\n",
       "      <td>8</td>\n",
       "      <td>world</td>\n",
       "    </tr>\n",
       "    <tr>\n",
       "      <th>3</th>\n",
       "      <td>9</td>\n",
       "      <td>10</td>\n",
       "      <td>11</td>\n",
       "      <td>12</td>\n",
       "      <td>foo</td>\n",
       "    </tr>\n",
       "  </tbody>\n",
       "</table>\n",
       "</div>"
      ],
      "text/plain": [
       "   0   1   2   3        4\n",
       "0  a   b   c   d  message\n",
       "1  1   2   3   4    hello\n",
       "2  5   6   7   8    world\n",
       "3  9  10  11  12      foo"
      ]
     },
     "execution_count": 46,
     "metadata": {},
     "output_type": "execute_result"
    }
   ],
   "source": [
    "dframe    "
   ]
  },
  {
   "cell_type": "code",
   "execution_count": 48,
   "metadata": {},
   "outputs": [
    {
     "data": {
      "text/html": [
       "<div>\n",
       "<style>\n",
       "    .dataframe thead tr:only-child th {\n",
       "        text-align: right;\n",
       "    }\n",
       "\n",
       "    .dataframe thead th {\n",
       "        text-align: left;\n",
       "    }\n",
       "\n",
       "    .dataframe tbody tr th {\n",
       "        vertical-align: top;\n",
       "    }\n",
       "</style>\n",
       "<table border=\"1\" class=\"dataframe\">\n",
       "  <thead>\n",
       "    <tr style=\"text-align: right;\">\n",
       "      <th></th>\n",
       "      <th>1</th>\n",
       "      <th>2</th>\n",
       "      <th>3</th>\n",
       "      <th>4</th>\n",
       "      <th>hello</th>\n",
       "    </tr>\n",
       "  </thead>\n",
       "  <tbody>\n",
       "    <tr>\n",
       "      <th>0</th>\n",
       "      <td>5</td>\n",
       "      <td>6</td>\n",
       "      <td>7</td>\n",
       "      <td>8</td>\n",
       "      <td>world</td>\n",
       "    </tr>\n",
       "  </tbody>\n",
       "</table>\n",
       "</div>"
      ],
      "text/plain": [
       "   1  2  3  4  hello\n",
       "0  5  6  7  8  world"
      ]
     },
     "execution_count": 48,
     "metadata": {},
     "output_type": "execute_result"
    }
   ],
   "source": [
    "pd.read_csv('test.csv',skiprows=[0,3]) # TO skip the rows"
   ]
  },
  {
   "cell_type": "code",
   "execution_count": 50,
   "metadata": {
    "collapsed": true
   },
   "outputs": [],
   "source": [
    "# JSON DATA (short for JavaScript Object Notation) #\n",
    "\n"
   ]
  },
  {
   "cell_type": "code",
   "execution_count": 51,
   "metadata": {
    "collapsed": true
   },
   "outputs": [],
   "source": [
    "# JSON Data in strin format\n",
    "josn_obj = \"\"\"\n",
    "{\"name\": \"Wes\",\"places_lived\": [\"United States\", \"Spain\", \"Germany\"],\"pet\": null,\n",
    "\"siblings\": [{\"name\": \"Scott\", \"age\": 25, \"pet\": \"Zuko\"},{\"name\": \"Katie\", \"age\": 33, \"pet\": \"Cisco\"}]\n",
    "}\n",
    "\"\"\""
   ]
  },
  {
   "cell_type": "code",
   "execution_count": 52,
   "metadata": {
    "collapsed": true
   },
   "outputs": [],
   "source": [
    "import json"
   ]
  },
  {
   "cell_type": "code",
   "execution_count": 53,
   "metadata": {
    "collapsed": true
   },
   "outputs": [],
   "source": [
    "data = json.loads(josn_obj) # loads() use for loading string JSON data"
   ]
  },
  {
   "cell_type": "code",
   "execution_count": 54,
   "metadata": {},
   "outputs": [
    {
     "data": {
      "text/plain": [
       "{'name': 'Wes',\n",
       " 'pet': None,\n",
       " 'places_lived': ['United States', 'Spain', 'Germany'],\n",
       " 'siblings': [{'age': 25, 'name': 'Scott', 'pet': 'Zuko'},\n",
       "  {'age': 33, 'name': 'Katie', 'pet': 'Cisco'}]}"
      ]
     },
     "execution_count": 54,
     "metadata": {},
     "output_type": "execute_result"
    }
   ],
   "source": [
    "data"
   ]
  },
  {
   "cell_type": "code",
   "execution_count": 55,
   "metadata": {},
   "outputs": [
    {
     "data": {
      "text/plain": [
       "dict"
      ]
     },
     "execution_count": 55,
     "metadata": {},
     "output_type": "execute_result"
    }
   ],
   "source": [
    "type(data)"
   ]
  },
  {
   "cell_type": "code",
   "execution_count": 59,
   "metadata": {},
   "outputs": [
    {
     "data": {
      "text/plain": [
       "'{\"name\": \"Wes\", \"places_lived\": [\"United States\", \"Spain\", \"Germany\"], \"pet\": null, \"siblings\": [{\"name\": \"Scott\", \"age\": 25, \"pet\": \"Zuko\"}, {\"name\": \"Katie\", \"age\": 33, \"pet\": \"Cisco\"}]}'"
      ]
     },
     "execution_count": 59,
     "metadata": {},
     "output_type": "execute_result"
    }
   ],
   "source": [
    "#We can also convert back data to JSON object\n",
    "\n",
    "json.dumps(data)"
   ]
  },
  {
   "cell_type": "code",
   "execution_count": 64,
   "metadata": {
    "collapsed": true
   },
   "outputs": [],
   "source": [
    "#Loading data into DataFrame\n",
    "DataFrmae1 = pd.DataFrame(data['siblings'])"
   ]
  },
  {
   "cell_type": "code",
   "execution_count": 65,
   "metadata": {},
   "outputs": [
    {
     "data": {
      "text/html": [
       "<div>\n",
       "<style>\n",
       "    .dataframe thead tr:only-child th {\n",
       "        text-align: right;\n",
       "    }\n",
       "\n",
       "    .dataframe thead th {\n",
       "        text-align: left;\n",
       "    }\n",
       "\n",
       "    .dataframe tbody tr th {\n",
       "        vertical-align: top;\n",
       "    }\n",
       "</style>\n",
       "<table border=\"1\" class=\"dataframe\">\n",
       "  <thead>\n",
       "    <tr style=\"text-align: right;\">\n",
       "      <th></th>\n",
       "      <th>age</th>\n",
       "      <th>name</th>\n",
       "      <th>pet</th>\n",
       "    </tr>\n",
       "  </thead>\n",
       "  <tbody>\n",
       "    <tr>\n",
       "      <th>0</th>\n",
       "      <td>25</td>\n",
       "      <td>Scott</td>\n",
       "      <td>Zuko</td>\n",
       "    </tr>\n",
       "    <tr>\n",
       "      <th>1</th>\n",
       "      <td>33</td>\n",
       "      <td>Katie</td>\n",
       "      <td>Cisco</td>\n",
       "    </tr>\n",
       "  </tbody>\n",
       "</table>\n",
       "</div>"
      ],
      "text/plain": [
       "   age   name    pet\n",
       "0   25  Scott   Zuko\n",
       "1   33  Katie  Cisco"
      ]
     },
     "execution_count": 65,
     "metadata": {},
     "output_type": "execute_result"
    }
   ],
   "source": [
    "DataFrmae1"
   ]
  },
  {
   "cell_type": "code",
   "execution_count": 66,
   "metadata": {},
   "outputs": [
    {
     "data": {
      "text/html": [
       "<div>\n",
       "<style>\n",
       "    .dataframe thead tr:only-child th {\n",
       "        text-align: right;\n",
       "    }\n",
       "\n",
       "    .dataframe thead th {\n",
       "        text-align: left;\n",
       "    }\n",
       "\n",
       "    .dataframe tbody tr th {\n",
       "        vertical-align: top;\n",
       "    }\n",
       "</style>\n",
       "<table border=\"1\" class=\"dataframe\">\n",
       "  <thead>\n",
       "    <tr style=\"text-align: right;\">\n",
       "      <th></th>\n",
       "      <th>0</th>\n",
       "    </tr>\n",
       "  </thead>\n",
       "  <tbody>\n",
       "    <tr>\n",
       "      <th>0</th>\n",
       "      <td>United States</td>\n",
       "    </tr>\n",
       "    <tr>\n",
       "      <th>1</th>\n",
       "      <td>Spain</td>\n",
       "    </tr>\n",
       "    <tr>\n",
       "      <th>2</th>\n",
       "      <td>Germany</td>\n",
       "    </tr>\n",
       "  </tbody>\n",
       "</table>\n",
       "</div>"
      ],
      "text/plain": [
       "               0\n",
       "0  United States\n",
       "1          Spain\n",
       "2        Germany"
      ]
     },
     "execution_count": 66,
     "metadata": {},
     "output_type": "execute_result"
    }
   ],
   "source": [
    "pd.DataFrame(data['places_lived'])"
   ]
  },
  {
   "cell_type": "code",
   "execution_count": 75,
   "metadata": {
    "collapsed": true
   },
   "outputs": [],
   "source": [
    "from pandas import read_html"
   ]
  },
  {
   "cell_type": "code",
   "execution_count": 77,
   "metadata": {
    "collapsed": true
   },
   "outputs": [],
   "source": [
    "from lxml.html import parse\n",
    "from urllib.request import urlopen"
   ]
  },
  {
   "cell_type": "code",
   "execution_count": 80,
   "metadata": {
    "collapsed": true
   },
   "outputs": [],
   "source": [
    "url = 'http://finance.yahoo.com/q/op?s=AAPL+Options'\n"
   ]
  },
  {
   "cell_type": "code",
   "execution_count": 81,
   "metadata": {
    "collapsed": true
   },
   "outputs": [],
   "source": [
    "Dframe_list = pd.io.html.read_html(url)"
   ]
  },
  {
   "cell_type": "code",
   "execution_count": 82,
   "metadata": {},
   "outputs": [
    {
     "data": {
      "text/plain": [
       "[    0       1\n",
       " 0 NaN  Search,\n",
       "           Contract Name         Last Trade Date  Strike  Last Price    Bid  \\\n",
       " 0   AAPL170908C00120000  2017-09-05 12:33PM EDT   120.0       41.00  41.80   \n",
       " 1   AAPL170908C00125000  2017-09-06 10:42PM EDT   125.0       37.10  36.65   \n",
       " 2   AAPL170908C00130000  2017-09-06 11:20AM EDT   130.0       31.05  31.80   \n",
       " 3   AAPL170908C00135000  2017-09-01 12:20PM EDT   135.0       29.15  28.70   \n",
       " 4   AAPL170908C00137000  2017-09-06 10:42PM EDT   137.0       25.00  24.60   \n",
       " 5   AAPL170908C00138000  2017-08-25 11:49PM EDT   138.0       22.45  21.70   \n",
       " 6   AAPL170908C00140000  2017-09-06 12:56PM EDT   140.0       21.85  21.75   \n",
       " 7   AAPL170908C00142000   2017-08-31 9:48AM EDT   142.0       22.00  21.75   \n",
       " 8   AAPL170908C00143000  2017-08-28 11:55AM EDT   143.0       18.73  20.75   \n",
       " 9   AAPL170908C00144000  2017-09-06 10:25AM EDT   144.0       17.75  17.70   \n",
       " 10  AAPL170908C00145000  2017-09-06 11:18AM EDT   145.0       15.80  16.75   \n",
       " 11  AAPL170908C00146000  2017-08-08 10:22AM EDT   146.0       13.97  12.15   \n",
       " 12  AAPL170908C00147000  2017-09-06 12:29PM EDT   147.0       14.50  14.70   \n",
       " 13  AAPL170908C00148000  2017-09-06 12:29PM EDT   148.0       13.50  13.70   \n",
       " 14  AAPL170908C00149000  2017-09-06 12:29PM EDT   149.0       12.50  12.75   \n",
       " 15  AAPL170908C00150000   2017-09-06 2:28PM EDT   150.0       12.10  11.80   \n",
       " 16  AAPL170908C00152500   2017-09-06 2:41PM EDT   152.5        9.55   9.15   \n",
       " 17  AAPL170908C00155000   2017-09-06 3:59PM EDT   155.0        6.91   6.85   \n",
       " 18  AAPL170908C00157500   2017-09-06 3:58PM EDT   157.5        4.52   4.35   \n",
       " 19  AAPL170908C00160000   2017-09-06 3:59PM EDT   160.0        2.18   2.20   \n",
       " 20  AAPL170908C00162500   2017-09-06 3:59PM EDT   162.5        0.64   0.62   \n",
       " 21  AAPL170908C00165000   2017-09-06 3:59PM EDT   165.0        0.13   0.12   \n",
       " 22  AAPL170908C00167500   2017-09-06 3:59PM EDT   167.5        0.03   0.03   \n",
       " 23  AAPL170908C00170000   2017-09-06 3:53PM EDT   170.0        0.03   0.02   \n",
       " 24  AAPL170908C00172500   2017-09-06 3:19PM EDT   172.5        0.01   0.01   \n",
       " 25  AAPL170908C00175000   2017-09-06 3:55PM EDT   175.0        0.01   0.00   \n",
       " 26  AAPL170908C00177500   2017-09-06 2:39PM EDT   177.5        0.02   0.00   \n",
       " 27  AAPL170908C00180000  2017-09-06 10:21AM EDT   180.0        0.01   0.00   \n",
       " 28  AAPL170908C00182500  2017-09-05 10:15AM EDT   182.5        0.01   0.00   \n",
       " 29  AAPL170908C00185000   2017-08-31 3:59PM EDT   185.0        0.01   0.00   \n",
       " 30  AAPL170908C00187500   2017-09-01 3:46PM EDT   187.5        0.01   0.00   \n",
       " 31  AAPL170908C00190000  2017-08-18 11:45PM EDT   190.0        0.02   0.00   \n",
       " \n",
       "       Ask  Change % Change  Volume  Open Interest Implied Volatility  \n",
       " 0   42.05    0.00        -       2             51            148.44%  \n",
       " 1   37.05    0.00        -       7              0            171.88%  \n",
       " 2   32.05    0.05   +0.16%      75              9            112.50%  \n",
       " 3   29.35    2.74  +10.37%       2              6            241.02%  \n",
       " 4   25.10    0.00        -       2              0            124.61%  \n",
       " 5   22.40    0.00        -       3              0              0.00%  \n",
       " 6   22.05   -2.05   -8.58%      38             14            105.08%  \n",
       " 7   22.40    0.00        -      55             45            195.21%  \n",
       " 8   21.40    0.00        -      63             65            188.38%  \n",
       " 9   18.05    1.35   +8.23%       8            127             87.70%  \n",
       " 10  17.10   -0.89   -5.33%       1             14             60.16%  \n",
       " 11  12.95    0.00        -      15              8              0.00%  \n",
       " 12  15.10   -0.95   -6.15%     393             72             79.39%  \n",
       " 13  14.10   -2.63  -16.31%     215             41             74.80%  \n",
       " 14  13.05   -2.64  -17.44%       9            150             66.21%  \n",
       " 15  12.00    0.01   +0.08%      54            277             56.84%  \n",
       " 16   9.50   -0.05   -0.52%     105            723             46.48%  \n",
       " 17   7.00   -0.26   -3.63%    1136           3265             35.94%  \n",
       " 18   4.60   -0.24   -5.04%    2885           4616             30.37%  \n",
       " 19   2.29   -0.55  -20.15%   14132          11736             22.66%  \n",
       " 20   0.66   -0.48  -42.86%   29100          15059             19.31%  \n",
       " 21   0.13   -0.21  -61.76%   19230          25711             20.66%  \n",
       " 22   0.04   -0.07  -70.00%    6888          14370             25.00%  \n",
       " 23   0.03   -0.01  -25.00%    4164          14475             32.23%  \n",
       " 24   0.02   -0.02  -66.67%     721           3685             38.28%  \n",
       " 25   0.02   -0.01  -50.00%    1935           6857             45.31%  \n",
       " 26   0.01    0.00        -    1315           1974             48.44%  \n",
       " 27   0.01    0.00        -       6           3706             51.56%  \n",
       " 28   0.01    0.00        -       8             84             56.25%  \n",
       " 29   0.01    0.00        -      36            106             62.50%  \n",
       " 30   0.01    0.00        -     306             13             68.75%  \n",
       " 31   0.04    0.00        -       1              1             85.16%  ,\n",
       "           Contract Name         Last Trade Date  Strike  Last Price    Bid  \\\n",
       " 0   AAPL170908P00120000   2017-08-24 3:05PM EDT   120.0        0.01   0.00   \n",
       " 1   AAPL170908P00125000   2017-08-30 3:45PM EDT   125.0        0.01   0.00   \n",
       " 2   AAPL170908P00130000   2017-08-30 3:50PM EDT   130.0        0.01   0.00   \n",
       " 3   AAPL170908P00135000   2017-08-31 3:59PM EDT   135.0        0.01   0.00   \n",
       " 4   AAPL170908P00137000  2017-09-01 10:48AM EDT   137.0        0.01   0.00   \n",
       " 5   AAPL170908P00138000   2017-09-01 1:32PM EDT   138.0        0.01   0.00   \n",
       " 6   AAPL170908P00139000   2017-09-01 3:04PM EDT   139.0        0.01   0.01   \n",
       " 7   AAPL170908P00140000   2017-09-06 2:56PM EDT   140.0        0.01   0.00   \n",
       " 8   AAPL170908P00141000  2017-09-05 12:31PM EDT   141.0        0.01   0.00   \n",
       " 9   AAPL170908P00142000  2017-09-05 12:49PM EDT   142.0        0.03   0.00   \n",
       " 10  AAPL170908P00143000  2017-09-06 12:31PM EDT   143.0        0.01   0.00   \n",
       " 11  AAPL170908P00144000   2017-09-06 1:05PM EDT   144.0        0.01   0.00   \n",
       " 12  AAPL170908P00145000   2017-09-06 3:31PM EDT   145.0        0.01   0.00   \n",
       " 13  AAPL170908P00146000   2017-09-06 3:56PM EDT   146.0        0.01   0.00   \n",
       " 14  AAPL170908P00147000  2017-09-06 11:59AM EDT   147.0        0.02   0.01   \n",
       " 15  AAPL170908P00148000  2017-09-06 11:57AM EDT   148.0        0.03   0.01   \n",
       " 16  AAPL170908P00149000  2017-09-06 11:40AM EDT   149.0        0.03   0.01   \n",
       " 17  AAPL170908P00150000   2017-09-06 3:25PM EDT   150.0        0.02   0.01   \n",
       " 18  AAPL170908P00152500   2017-09-06 3:59PM EDT   152.5        0.03   0.02   \n",
       " 19  AAPL170908P00155000   2017-09-06 3:53PM EDT   155.0        0.05   0.04   \n",
       " 20  AAPL170908P00157500   2017-09-06 3:59PM EDT   157.5        0.10   0.08   \n",
       " 21  AAPL170908P00160000   2017-09-06 3:59PM EDT   160.0        0.32   0.31   \n",
       " 22  AAPL170908P00162500   2017-09-06 3:59PM EDT   162.5        1.25   1.17   \n",
       " 23  AAPL170908P00165000   2017-09-06 3:59PM EDT   165.0        3.15   3.15   \n",
       " 24  AAPL170908P00167500   2017-09-06 2:48PM EDT   167.5        5.70   5.35   \n",
       " 25  AAPL170908P00170000   2017-09-06 2:40PM EDT   170.0        8.00   7.90   \n",
       " 26  AAPL170908P00172500   2017-09-06 3:21PM EDT   172.5       10.50  10.30   \n",
       " 27  AAPL170908P00175000  2017-09-06 10:36AM EDT   175.0       13.30  13.00   \n",
       " 28  AAPL170908P00177500  2017-09-06 11:18AM EDT   177.5       16.75  15.45   \n",
       " 29  AAPL170908P00180000   2017-09-01 3:47PM EDT   180.0       16.00  15.65   \n",
       " 30  AAPL170908P00187500   2017-09-06 9:46AM EDT   187.5       25.00  25.35   \n",
       " 31  AAPL170908P00210000  2017-09-06 10:43PM EDT   210.0       48.65  47.85   \n",
       " \n",
       "       Ask  Change % Change  Volume  Open Interest Implied Volatility  \n",
       " 0    0.03    0.00        -       6             80            148.44%  \n",
       " 1    0.01    0.00        -     150            307            118.75%  \n",
       " 2    0.02    0.00        -      34            201            107.81%  \n",
       " 3    0.01    0.00        -     206            246             84.38%  \n",
       " 4    0.01    0.00        -     202            567             78.13%  \n",
       " 5    0.01    0.00        -     219            280             75.00%  \n",
       " 6    0.02    0.00        -     289            190             80.47%  \n",
       " 7    0.01    0.00        -       7           1054             68.75%  \n",
       " 8    0.02    0.00        -      12           1127             70.31%  \n",
       " 9    0.01    0.00        -       1            243             62.50%  \n",
       " 10   0.02    0.00        -      34            306             64.06%  \n",
       " 11   0.01   -0.01  -50.00%      24            851             56.25%  \n",
       " 12   0.01    0.00        -      53           1145             53.13%  \n",
       " 13   0.01   -0.01  -50.00%     435           1082             50.00%  \n",
       " 14   0.02    0.00        -     113           1391             53.91%  \n",
       " 15   0.02    0.00        -     160            859             50.00%  \n",
       " 16   0.02    0.00        -     458           1838             48.44%  \n",
       " 17   0.02   -0.02  -50.00%     808           2799             45.31%  \n",
       " 18   0.03   -0.03  -50.00%    2073           5933             38.67%  \n",
       " 19   0.05   -0.06  -54.55%    3907           6019             32.23%  \n",
       " 20   0.10   -0.12  -54.55%    4653           8497             25.78%  \n",
       " 21   0.33   -0.22  -40.74%   27484          11744             21.29%  \n",
       " 22   1.25   -0.20  -13.79%   11642          11519             19.34%  \n",
       " 23   3.30    0.02   +0.64%    1736           5078             23.83%  \n",
       " 24   5.90    0.25   +4.59%      23            438             40.23%  \n",
       " 25   8.30   -0.01   -0.12%      11             85             46.97%  \n",
       " 26  10.75    0.65   +6.60%      21             18             53.91%  \n",
       " 27  13.35    1.65  +14.16%       2             43             56.25%  \n",
       " 28  15.75    1.00   +6.35%       2             24             72.46%  \n",
       " 29  16.25    0.20   +1.27%      17             24              0.00%  \n",
       " 30  25.80  -14.10  -36.06%      40              0            110.94%  \n",
       " 31  48.25    0.00        -       2              3            169.34%  ]"
      ]
     },
     "execution_count": 82,
     "metadata": {},
     "output_type": "execute_result"
    }
   ],
   "source": [
    "Dframe_list"
   ]
  },
  {
   "cell_type": "code",
   "execution_count": 87,
   "metadata": {
    "collapsed": true
   },
   "outputs": [],
   "source": [
    "Dframe = Dframe_list[1]"
   ]
  },
  {
   "cell_type": "code",
   "execution_count": 88,
   "metadata": {},
   "outputs": [
    {
     "data": {
      "text/html": [
       "<div>\n",
       "<style>\n",
       "    .dataframe thead tr:only-child th {\n",
       "        text-align: right;\n",
       "    }\n",
       "\n",
       "    .dataframe thead th {\n",
       "        text-align: left;\n",
       "    }\n",
       "\n",
       "    .dataframe tbody tr th {\n",
       "        vertical-align: top;\n",
       "    }\n",
       "</style>\n",
       "<table border=\"1\" class=\"dataframe\">\n",
       "  <thead>\n",
       "    <tr style=\"text-align: right;\">\n",
       "      <th></th>\n",
       "      <th>Contract Name</th>\n",
       "      <th>Last Trade Date</th>\n",
       "      <th>Strike</th>\n",
       "      <th>Last Price</th>\n",
       "      <th>Bid</th>\n",
       "      <th>Ask</th>\n",
       "      <th>Change</th>\n",
       "      <th>% Change</th>\n",
       "      <th>Volume</th>\n",
       "      <th>Open Interest</th>\n",
       "      <th>Implied Volatility</th>\n",
       "    </tr>\n",
       "  </thead>\n",
       "  <tbody>\n",
       "    <tr>\n",
       "      <th>0</th>\n",
       "      <td>AAPL170908C00120000</td>\n",
       "      <td>2017-09-05 12:33PM EDT</td>\n",
       "      <td>120.0</td>\n",
       "      <td>41.00</td>\n",
       "      <td>41.80</td>\n",
       "      <td>42.05</td>\n",
       "      <td>0.00</td>\n",
       "      <td>-</td>\n",
       "      <td>2</td>\n",
       "      <td>51</td>\n",
       "      <td>148.44%</td>\n",
       "    </tr>\n",
       "    <tr>\n",
       "      <th>1</th>\n",
       "      <td>AAPL170908C00125000</td>\n",
       "      <td>2017-09-06 10:42PM EDT</td>\n",
       "      <td>125.0</td>\n",
       "      <td>37.10</td>\n",
       "      <td>36.65</td>\n",
       "      <td>37.05</td>\n",
       "      <td>0.00</td>\n",
       "      <td>-</td>\n",
       "      <td>7</td>\n",
       "      <td>0</td>\n",
       "      <td>171.88%</td>\n",
       "    </tr>\n",
       "    <tr>\n",
       "      <th>2</th>\n",
       "      <td>AAPL170908C00130000</td>\n",
       "      <td>2017-09-06 11:20AM EDT</td>\n",
       "      <td>130.0</td>\n",
       "      <td>31.05</td>\n",
       "      <td>31.80</td>\n",
       "      <td>32.05</td>\n",
       "      <td>0.05</td>\n",
       "      <td>+0.16%</td>\n",
       "      <td>75</td>\n",
       "      <td>9</td>\n",
       "      <td>112.50%</td>\n",
       "    </tr>\n",
       "    <tr>\n",
       "      <th>3</th>\n",
       "      <td>AAPL170908C00135000</td>\n",
       "      <td>2017-09-01 12:20PM EDT</td>\n",
       "      <td>135.0</td>\n",
       "      <td>29.15</td>\n",
       "      <td>28.70</td>\n",
       "      <td>29.35</td>\n",
       "      <td>2.74</td>\n",
       "      <td>+10.37%</td>\n",
       "      <td>2</td>\n",
       "      <td>6</td>\n",
       "      <td>241.02%</td>\n",
       "    </tr>\n",
       "    <tr>\n",
       "      <th>4</th>\n",
       "      <td>AAPL170908C00137000</td>\n",
       "      <td>2017-09-06 10:42PM EDT</td>\n",
       "      <td>137.0</td>\n",
       "      <td>25.00</td>\n",
       "      <td>24.60</td>\n",
       "      <td>25.10</td>\n",
       "      <td>0.00</td>\n",
       "      <td>-</td>\n",
       "      <td>2</td>\n",
       "      <td>0</td>\n",
       "      <td>124.61%</td>\n",
       "    </tr>\n",
       "    <tr>\n",
       "      <th>5</th>\n",
       "      <td>AAPL170908C00138000</td>\n",
       "      <td>2017-08-25 11:49PM EDT</td>\n",
       "      <td>138.0</td>\n",
       "      <td>22.45</td>\n",
       "      <td>21.70</td>\n",
       "      <td>22.40</td>\n",
       "      <td>0.00</td>\n",
       "      <td>-</td>\n",
       "      <td>3</td>\n",
       "      <td>0</td>\n",
       "      <td>0.00%</td>\n",
       "    </tr>\n",
       "    <tr>\n",
       "      <th>6</th>\n",
       "      <td>AAPL170908C00140000</td>\n",
       "      <td>2017-09-06 12:56PM EDT</td>\n",
       "      <td>140.0</td>\n",
       "      <td>21.85</td>\n",
       "      <td>21.75</td>\n",
       "      <td>22.05</td>\n",
       "      <td>-2.05</td>\n",
       "      <td>-8.58%</td>\n",
       "      <td>38</td>\n",
       "      <td>14</td>\n",
       "      <td>105.08%</td>\n",
       "    </tr>\n",
       "    <tr>\n",
       "      <th>7</th>\n",
       "      <td>AAPL170908C00142000</td>\n",
       "      <td>2017-08-31 9:48AM EDT</td>\n",
       "      <td>142.0</td>\n",
       "      <td>22.00</td>\n",
       "      <td>21.75</td>\n",
       "      <td>22.40</td>\n",
       "      <td>0.00</td>\n",
       "      <td>-</td>\n",
       "      <td>55</td>\n",
       "      <td>45</td>\n",
       "      <td>195.21%</td>\n",
       "    </tr>\n",
       "    <tr>\n",
       "      <th>8</th>\n",
       "      <td>AAPL170908C00143000</td>\n",
       "      <td>2017-08-28 11:55AM EDT</td>\n",
       "      <td>143.0</td>\n",
       "      <td>18.73</td>\n",
       "      <td>20.75</td>\n",
       "      <td>21.40</td>\n",
       "      <td>0.00</td>\n",
       "      <td>-</td>\n",
       "      <td>63</td>\n",
       "      <td>65</td>\n",
       "      <td>188.38%</td>\n",
       "    </tr>\n",
       "    <tr>\n",
       "      <th>9</th>\n",
       "      <td>AAPL170908C00144000</td>\n",
       "      <td>2017-09-06 10:25AM EDT</td>\n",
       "      <td>144.0</td>\n",
       "      <td>17.75</td>\n",
       "      <td>17.70</td>\n",
       "      <td>18.05</td>\n",
       "      <td>1.35</td>\n",
       "      <td>+8.23%</td>\n",
       "      <td>8</td>\n",
       "      <td>127</td>\n",
       "      <td>87.70%</td>\n",
       "    </tr>\n",
       "    <tr>\n",
       "      <th>10</th>\n",
       "      <td>AAPL170908C00145000</td>\n",
       "      <td>2017-09-06 11:18AM EDT</td>\n",
       "      <td>145.0</td>\n",
       "      <td>15.80</td>\n",
       "      <td>16.75</td>\n",
       "      <td>17.10</td>\n",
       "      <td>-0.89</td>\n",
       "      <td>-5.33%</td>\n",
       "      <td>1</td>\n",
       "      <td>14</td>\n",
       "      <td>60.16%</td>\n",
       "    </tr>\n",
       "    <tr>\n",
       "      <th>11</th>\n",
       "      <td>AAPL170908C00146000</td>\n",
       "      <td>2017-08-08 10:22AM EDT</td>\n",
       "      <td>146.0</td>\n",
       "      <td>13.97</td>\n",
       "      <td>12.15</td>\n",
       "      <td>12.95</td>\n",
       "      <td>0.00</td>\n",
       "      <td>-</td>\n",
       "      <td>15</td>\n",
       "      <td>8</td>\n",
       "      <td>0.00%</td>\n",
       "    </tr>\n",
       "    <tr>\n",
       "      <th>12</th>\n",
       "      <td>AAPL170908C00147000</td>\n",
       "      <td>2017-09-06 12:29PM EDT</td>\n",
       "      <td>147.0</td>\n",
       "      <td>14.50</td>\n",
       "      <td>14.70</td>\n",
       "      <td>15.10</td>\n",
       "      <td>-0.95</td>\n",
       "      <td>-6.15%</td>\n",
       "      <td>393</td>\n",
       "      <td>72</td>\n",
       "      <td>79.39%</td>\n",
       "    </tr>\n",
       "    <tr>\n",
       "      <th>13</th>\n",
       "      <td>AAPL170908C00148000</td>\n",
       "      <td>2017-09-06 12:29PM EDT</td>\n",
       "      <td>148.0</td>\n",
       "      <td>13.50</td>\n",
       "      <td>13.70</td>\n",
       "      <td>14.10</td>\n",
       "      <td>-2.63</td>\n",
       "      <td>-16.31%</td>\n",
       "      <td>215</td>\n",
       "      <td>41</td>\n",
       "      <td>74.80%</td>\n",
       "    </tr>\n",
       "    <tr>\n",
       "      <th>14</th>\n",
       "      <td>AAPL170908C00149000</td>\n",
       "      <td>2017-09-06 12:29PM EDT</td>\n",
       "      <td>149.0</td>\n",
       "      <td>12.50</td>\n",
       "      <td>12.75</td>\n",
       "      <td>13.05</td>\n",
       "      <td>-2.64</td>\n",
       "      <td>-17.44%</td>\n",
       "      <td>9</td>\n",
       "      <td>150</td>\n",
       "      <td>66.21%</td>\n",
       "    </tr>\n",
       "    <tr>\n",
       "      <th>15</th>\n",
       "      <td>AAPL170908C00150000</td>\n",
       "      <td>2017-09-06 2:28PM EDT</td>\n",
       "      <td>150.0</td>\n",
       "      <td>12.10</td>\n",
       "      <td>11.80</td>\n",
       "      <td>12.00</td>\n",
       "      <td>0.01</td>\n",
       "      <td>+0.08%</td>\n",
       "      <td>54</td>\n",
       "      <td>277</td>\n",
       "      <td>56.84%</td>\n",
       "    </tr>\n",
       "    <tr>\n",
       "      <th>16</th>\n",
       "      <td>AAPL170908C00152500</td>\n",
       "      <td>2017-09-06 2:41PM EDT</td>\n",
       "      <td>152.5</td>\n",
       "      <td>9.55</td>\n",
       "      <td>9.15</td>\n",
       "      <td>9.50</td>\n",
       "      <td>-0.05</td>\n",
       "      <td>-0.52%</td>\n",
       "      <td>105</td>\n",
       "      <td>723</td>\n",
       "      <td>46.48%</td>\n",
       "    </tr>\n",
       "    <tr>\n",
       "      <th>17</th>\n",
       "      <td>AAPL170908C00155000</td>\n",
       "      <td>2017-09-06 3:59PM EDT</td>\n",
       "      <td>155.0</td>\n",
       "      <td>6.91</td>\n",
       "      <td>6.85</td>\n",
       "      <td>7.00</td>\n",
       "      <td>-0.26</td>\n",
       "      <td>-3.63%</td>\n",
       "      <td>1136</td>\n",
       "      <td>3265</td>\n",
       "      <td>35.94%</td>\n",
       "    </tr>\n",
       "    <tr>\n",
       "      <th>18</th>\n",
       "      <td>AAPL170908C00157500</td>\n",
       "      <td>2017-09-06 3:58PM EDT</td>\n",
       "      <td>157.5</td>\n",
       "      <td>4.52</td>\n",
       "      <td>4.35</td>\n",
       "      <td>4.60</td>\n",
       "      <td>-0.24</td>\n",
       "      <td>-5.04%</td>\n",
       "      <td>2885</td>\n",
       "      <td>4616</td>\n",
       "      <td>30.37%</td>\n",
       "    </tr>\n",
       "    <tr>\n",
       "      <th>19</th>\n",
       "      <td>AAPL170908C00160000</td>\n",
       "      <td>2017-09-06 3:59PM EDT</td>\n",
       "      <td>160.0</td>\n",
       "      <td>2.18</td>\n",
       "      <td>2.20</td>\n",
       "      <td>2.29</td>\n",
       "      <td>-0.55</td>\n",
       "      <td>-20.15%</td>\n",
       "      <td>14132</td>\n",
       "      <td>11736</td>\n",
       "      <td>22.66%</td>\n",
       "    </tr>\n",
       "    <tr>\n",
       "      <th>20</th>\n",
       "      <td>AAPL170908C00162500</td>\n",
       "      <td>2017-09-06 3:59PM EDT</td>\n",
       "      <td>162.5</td>\n",
       "      <td>0.64</td>\n",
       "      <td>0.62</td>\n",
       "      <td>0.66</td>\n",
       "      <td>-0.48</td>\n",
       "      <td>-42.86%</td>\n",
       "      <td>29100</td>\n",
       "      <td>15059</td>\n",
       "      <td>19.31%</td>\n",
       "    </tr>\n",
       "    <tr>\n",
       "      <th>21</th>\n",
       "      <td>AAPL170908C00165000</td>\n",
       "      <td>2017-09-06 3:59PM EDT</td>\n",
       "      <td>165.0</td>\n",
       "      <td>0.13</td>\n",
       "      <td>0.12</td>\n",
       "      <td>0.13</td>\n",
       "      <td>-0.21</td>\n",
       "      <td>-61.76%</td>\n",
       "      <td>19230</td>\n",
       "      <td>25711</td>\n",
       "      <td>20.66%</td>\n",
       "    </tr>\n",
       "    <tr>\n",
       "      <th>22</th>\n",
       "      <td>AAPL170908C00167500</td>\n",
       "      <td>2017-09-06 3:59PM EDT</td>\n",
       "      <td>167.5</td>\n",
       "      <td>0.03</td>\n",
       "      <td>0.03</td>\n",
       "      <td>0.04</td>\n",
       "      <td>-0.07</td>\n",
       "      <td>-70.00%</td>\n",
       "      <td>6888</td>\n",
       "      <td>14370</td>\n",
       "      <td>25.00%</td>\n",
       "    </tr>\n",
       "    <tr>\n",
       "      <th>23</th>\n",
       "      <td>AAPL170908C00170000</td>\n",
       "      <td>2017-09-06 3:53PM EDT</td>\n",
       "      <td>170.0</td>\n",
       "      <td>0.03</td>\n",
       "      <td>0.02</td>\n",
       "      <td>0.03</td>\n",
       "      <td>-0.01</td>\n",
       "      <td>-25.00%</td>\n",
       "      <td>4164</td>\n",
       "      <td>14475</td>\n",
       "      <td>32.23%</td>\n",
       "    </tr>\n",
       "    <tr>\n",
       "      <th>24</th>\n",
       "      <td>AAPL170908C00172500</td>\n",
       "      <td>2017-09-06 3:19PM EDT</td>\n",
       "      <td>172.5</td>\n",
       "      <td>0.01</td>\n",
       "      <td>0.01</td>\n",
       "      <td>0.02</td>\n",
       "      <td>-0.02</td>\n",
       "      <td>-66.67%</td>\n",
       "      <td>721</td>\n",
       "      <td>3685</td>\n",
       "      <td>38.28%</td>\n",
       "    </tr>\n",
       "    <tr>\n",
       "      <th>25</th>\n",
       "      <td>AAPL170908C00175000</td>\n",
       "      <td>2017-09-06 3:55PM EDT</td>\n",
       "      <td>175.0</td>\n",
       "      <td>0.01</td>\n",
       "      <td>0.00</td>\n",
       "      <td>0.02</td>\n",
       "      <td>-0.01</td>\n",
       "      <td>-50.00%</td>\n",
       "      <td>1935</td>\n",
       "      <td>6857</td>\n",
       "      <td>45.31%</td>\n",
       "    </tr>\n",
       "    <tr>\n",
       "      <th>26</th>\n",
       "      <td>AAPL170908C00177500</td>\n",
       "      <td>2017-09-06 2:39PM EDT</td>\n",
       "      <td>177.5</td>\n",
       "      <td>0.02</td>\n",
       "      <td>0.00</td>\n",
       "      <td>0.01</td>\n",
       "      <td>0.00</td>\n",
       "      <td>-</td>\n",
       "      <td>1315</td>\n",
       "      <td>1974</td>\n",
       "      <td>48.44%</td>\n",
       "    </tr>\n",
       "    <tr>\n",
       "      <th>27</th>\n",
       "      <td>AAPL170908C00180000</td>\n",
       "      <td>2017-09-06 10:21AM EDT</td>\n",
       "      <td>180.0</td>\n",
       "      <td>0.01</td>\n",
       "      <td>0.00</td>\n",
       "      <td>0.01</td>\n",
       "      <td>0.00</td>\n",
       "      <td>-</td>\n",
       "      <td>6</td>\n",
       "      <td>3706</td>\n",
       "      <td>51.56%</td>\n",
       "    </tr>\n",
       "    <tr>\n",
       "      <th>28</th>\n",
       "      <td>AAPL170908C00182500</td>\n",
       "      <td>2017-09-05 10:15AM EDT</td>\n",
       "      <td>182.5</td>\n",
       "      <td>0.01</td>\n",
       "      <td>0.00</td>\n",
       "      <td>0.01</td>\n",
       "      <td>0.00</td>\n",
       "      <td>-</td>\n",
       "      <td>8</td>\n",
       "      <td>84</td>\n",
       "      <td>56.25%</td>\n",
       "    </tr>\n",
       "    <tr>\n",
       "      <th>29</th>\n",
       "      <td>AAPL170908C00185000</td>\n",
       "      <td>2017-08-31 3:59PM EDT</td>\n",
       "      <td>185.0</td>\n",
       "      <td>0.01</td>\n",
       "      <td>0.00</td>\n",
       "      <td>0.01</td>\n",
       "      <td>0.00</td>\n",
       "      <td>-</td>\n",
       "      <td>36</td>\n",
       "      <td>106</td>\n",
       "      <td>62.50%</td>\n",
       "    </tr>\n",
       "    <tr>\n",
       "      <th>30</th>\n",
       "      <td>AAPL170908C00187500</td>\n",
       "      <td>2017-09-01 3:46PM EDT</td>\n",
       "      <td>187.5</td>\n",
       "      <td>0.01</td>\n",
       "      <td>0.00</td>\n",
       "      <td>0.01</td>\n",
       "      <td>0.00</td>\n",
       "      <td>-</td>\n",
       "      <td>306</td>\n",
       "      <td>13</td>\n",
       "      <td>68.75%</td>\n",
       "    </tr>\n",
       "    <tr>\n",
       "      <th>31</th>\n",
       "      <td>AAPL170908C00190000</td>\n",
       "      <td>2017-08-18 11:45PM EDT</td>\n",
       "      <td>190.0</td>\n",
       "      <td>0.02</td>\n",
       "      <td>0.00</td>\n",
       "      <td>0.04</td>\n",
       "      <td>0.00</td>\n",
       "      <td>-</td>\n",
       "      <td>1</td>\n",
       "      <td>1</td>\n",
       "      <td>85.16%</td>\n",
       "    </tr>\n",
       "  </tbody>\n",
       "</table>\n",
       "</div>"
      ],
      "text/plain": [
       "          Contract Name         Last Trade Date  Strike  Last Price    Bid  \\\n",
       "0   AAPL170908C00120000  2017-09-05 12:33PM EDT   120.0       41.00  41.80   \n",
       "1   AAPL170908C00125000  2017-09-06 10:42PM EDT   125.0       37.10  36.65   \n",
       "2   AAPL170908C00130000  2017-09-06 11:20AM EDT   130.0       31.05  31.80   \n",
       "3   AAPL170908C00135000  2017-09-01 12:20PM EDT   135.0       29.15  28.70   \n",
       "4   AAPL170908C00137000  2017-09-06 10:42PM EDT   137.0       25.00  24.60   \n",
       "5   AAPL170908C00138000  2017-08-25 11:49PM EDT   138.0       22.45  21.70   \n",
       "6   AAPL170908C00140000  2017-09-06 12:56PM EDT   140.0       21.85  21.75   \n",
       "7   AAPL170908C00142000   2017-08-31 9:48AM EDT   142.0       22.00  21.75   \n",
       "8   AAPL170908C00143000  2017-08-28 11:55AM EDT   143.0       18.73  20.75   \n",
       "9   AAPL170908C00144000  2017-09-06 10:25AM EDT   144.0       17.75  17.70   \n",
       "10  AAPL170908C00145000  2017-09-06 11:18AM EDT   145.0       15.80  16.75   \n",
       "11  AAPL170908C00146000  2017-08-08 10:22AM EDT   146.0       13.97  12.15   \n",
       "12  AAPL170908C00147000  2017-09-06 12:29PM EDT   147.0       14.50  14.70   \n",
       "13  AAPL170908C00148000  2017-09-06 12:29PM EDT   148.0       13.50  13.70   \n",
       "14  AAPL170908C00149000  2017-09-06 12:29PM EDT   149.0       12.50  12.75   \n",
       "15  AAPL170908C00150000   2017-09-06 2:28PM EDT   150.0       12.10  11.80   \n",
       "16  AAPL170908C00152500   2017-09-06 2:41PM EDT   152.5        9.55   9.15   \n",
       "17  AAPL170908C00155000   2017-09-06 3:59PM EDT   155.0        6.91   6.85   \n",
       "18  AAPL170908C00157500   2017-09-06 3:58PM EDT   157.5        4.52   4.35   \n",
       "19  AAPL170908C00160000   2017-09-06 3:59PM EDT   160.0        2.18   2.20   \n",
       "20  AAPL170908C00162500   2017-09-06 3:59PM EDT   162.5        0.64   0.62   \n",
       "21  AAPL170908C00165000   2017-09-06 3:59PM EDT   165.0        0.13   0.12   \n",
       "22  AAPL170908C00167500   2017-09-06 3:59PM EDT   167.5        0.03   0.03   \n",
       "23  AAPL170908C00170000   2017-09-06 3:53PM EDT   170.0        0.03   0.02   \n",
       "24  AAPL170908C00172500   2017-09-06 3:19PM EDT   172.5        0.01   0.01   \n",
       "25  AAPL170908C00175000   2017-09-06 3:55PM EDT   175.0        0.01   0.00   \n",
       "26  AAPL170908C00177500   2017-09-06 2:39PM EDT   177.5        0.02   0.00   \n",
       "27  AAPL170908C00180000  2017-09-06 10:21AM EDT   180.0        0.01   0.00   \n",
       "28  AAPL170908C00182500  2017-09-05 10:15AM EDT   182.5        0.01   0.00   \n",
       "29  AAPL170908C00185000   2017-08-31 3:59PM EDT   185.0        0.01   0.00   \n",
       "30  AAPL170908C00187500   2017-09-01 3:46PM EDT   187.5        0.01   0.00   \n",
       "31  AAPL170908C00190000  2017-08-18 11:45PM EDT   190.0        0.02   0.00   \n",
       "\n",
       "      Ask  Change % Change  Volume  Open Interest Implied Volatility  \n",
       "0   42.05    0.00        -       2             51            148.44%  \n",
       "1   37.05    0.00        -       7              0            171.88%  \n",
       "2   32.05    0.05   +0.16%      75              9            112.50%  \n",
       "3   29.35    2.74  +10.37%       2              6            241.02%  \n",
       "4   25.10    0.00        -       2              0            124.61%  \n",
       "5   22.40    0.00        -       3              0              0.00%  \n",
       "6   22.05   -2.05   -8.58%      38             14            105.08%  \n",
       "7   22.40    0.00        -      55             45            195.21%  \n",
       "8   21.40    0.00        -      63             65            188.38%  \n",
       "9   18.05    1.35   +8.23%       8            127             87.70%  \n",
       "10  17.10   -0.89   -5.33%       1             14             60.16%  \n",
       "11  12.95    0.00        -      15              8              0.00%  \n",
       "12  15.10   -0.95   -6.15%     393             72             79.39%  \n",
       "13  14.10   -2.63  -16.31%     215             41             74.80%  \n",
       "14  13.05   -2.64  -17.44%       9            150             66.21%  \n",
       "15  12.00    0.01   +0.08%      54            277             56.84%  \n",
       "16   9.50   -0.05   -0.52%     105            723             46.48%  \n",
       "17   7.00   -0.26   -3.63%    1136           3265             35.94%  \n",
       "18   4.60   -0.24   -5.04%    2885           4616             30.37%  \n",
       "19   2.29   -0.55  -20.15%   14132          11736             22.66%  \n",
       "20   0.66   -0.48  -42.86%   29100          15059             19.31%  \n",
       "21   0.13   -0.21  -61.76%   19230          25711             20.66%  \n",
       "22   0.04   -0.07  -70.00%    6888          14370             25.00%  \n",
       "23   0.03   -0.01  -25.00%    4164          14475             32.23%  \n",
       "24   0.02   -0.02  -66.67%     721           3685             38.28%  \n",
       "25   0.02   -0.01  -50.00%    1935           6857             45.31%  \n",
       "26   0.01    0.00        -    1315           1974             48.44%  \n",
       "27   0.01    0.00        -       6           3706             51.56%  \n",
       "28   0.01    0.00        -       8             84             56.25%  \n",
       "29   0.01    0.00        -      36            106             62.50%  \n",
       "30   0.01    0.00        -     306             13             68.75%  \n",
       "31   0.04    0.00        -       1              1             85.16%  "
      ]
     },
     "execution_count": 88,
     "metadata": {},
     "output_type": "execute_result"
    }
   ],
   "source": [
    "Dframe"
   ]
  },
  {
   "cell_type": "code",
   "execution_count": 89,
   "metadata": {},
   "outputs": [
    {
     "data": {
      "text/plain": [
       "array(['Contract Name', 'Last Trade Date', 'Strike', 'Last Price', 'Bid',\n",
       "       'Ask', 'Change', '% Change', 'Volume', 'Open Interest',\n",
       "       'Implied Volatility'], dtype=object)"
      ]
     },
     "execution_count": 89,
     "metadata": {},
     "output_type": "execute_result"
    }
   ],
   "source": [
    "Dframe.columns.values\n"
   ]
  },
  {
   "cell_type": "code",
   "execution_count": 90,
   "metadata": {
    "collapsed": true
   },
   "outputs": [],
   "source": [
    "parsed = parse(urlopen('http://finance.yahoo.com/q/op?s=AAPL+Options'))\n",
    "doc = parsed.getroot()"
   ]
  },
  {
   "cell_type": "code",
   "execution_count": 91,
   "metadata": {},
   "outputs": [
    {
     "data": {
      "text/plain": [
       "<Element html at 0x93d2a48>"
      ]
     },
     "execution_count": 91,
     "metadata": {},
     "output_type": "execute_result"
    }
   ],
   "source": [
    "doc"
   ]
  },
  {
   "cell_type": "code",
   "execution_count": 109,
   "metadata": {
    "collapsed": true
   },
   "outputs": [],
   "source": [
    "# EXCEL with Python\n",
    "\n",
    "\n",
    "ExcelData = pd.ExcelFile('Excel1.xlsx')"
   ]
  },
  {
   "cell_type": "code",
   "execution_count": 110,
   "metadata": {},
   "outputs": [
    {
     "data": {
      "text/plain": [
       "<pandas.io.excel.ExcelFile at 0x9fa4c50>"
      ]
     },
     "execution_count": 110,
     "metadata": {},
     "output_type": "execute_result"
    }
   ],
   "source": [
    "ExcelData"
   ]
  },
  {
   "cell_type": "code",
   "execution_count": 111,
   "metadata": {
    "collapsed": true
   },
   "outputs": [],
   "source": [
    "table = ExcelData.parse('Sheet1')"
   ]
  },
  {
   "cell_type": "code",
   "execution_count": 112,
   "metadata": {},
   "outputs": [
    {
     "data": {
      "text/html": [
       "<div>\n",
       "<style>\n",
       "    .dataframe thead tr:only-child th {\n",
       "        text-align: right;\n",
       "    }\n",
       "\n",
       "    .dataframe thead th {\n",
       "        text-align: left;\n",
       "    }\n",
       "\n",
       "    .dataframe tbody tr th {\n",
       "        vertical-align: top;\n",
       "    }\n",
       "</style>\n",
       "<table border=\"1\" class=\"dataframe\">\n",
       "  <thead>\n",
       "    <tr style=\"text-align: right;\">\n",
       "      <th></th>\n",
       "      <th>Name</th>\n",
       "      <th>Class</th>\n",
       "      <th>Locatio</th>\n",
       "    </tr>\n",
       "  </thead>\n",
       "  <tbody>\n",
       "    <tr>\n",
       "      <th>0</th>\n",
       "      <td>Pawan</td>\n",
       "      <td>34</td>\n",
       "      <td>PPP</td>\n",
       "    </tr>\n",
       "    <tr>\n",
       "      <th>1</th>\n",
       "      <td>Rahul</td>\n",
       "      <td>38</td>\n",
       "      <td>RRR</td>\n",
       "    </tr>\n",
       "    <tr>\n",
       "      <th>2</th>\n",
       "      <td>Dinesh</td>\n",
       "      <td>10</td>\n",
       "      <td>YYY</td>\n",
       "    </tr>\n",
       "  </tbody>\n",
       "</table>\n",
       "</div>"
      ],
      "text/plain": [
       "     Name  Class Locatio\n",
       "0   Pawan     34     PPP\n",
       "1   Rahul     38     RRR\n",
       "2  Dinesh     10     YYY"
      ]
     },
     "execution_count": 112,
     "metadata": {},
     "output_type": "execute_result"
    }
   ],
   "source": [
    "table"
   ]
  },
  {
   "cell_type": "code",
   "execution_count": 113,
   "metadata": {
    "collapsed": true
   },
   "outputs": [],
   "source": [
    "#Interacting with Databases\n",
    "\n",
    "import sqlite3"
   ]
  },
  {
   "cell_type": "code",
   "execution_count": 114,
   "metadata": {
    "collapsed": true
   },
   "outputs": [],
   "source": [
    "query = \"\"\"\n",
    "CREATE TABLE test\n",
    "(a VARCHAR(20), b VARCHAR(20),\n",
    "c REAL, d INTEGER\n",
    ");\"\"\""
   ]
  },
  {
   "cell_type": "code",
   "execution_count": 115,
   "metadata": {
    "collapsed": true
   },
   "outputs": [],
   "source": [
    "con = sqlite3.connect(':memory:')"
   ]
  },
  {
   "cell_type": "code",
   "execution_count": 116,
   "metadata": {},
   "outputs": [
    {
     "data": {
      "text/plain": [
       "<sqlite3.Cursor at 0x9d327a0>"
      ]
     },
     "execution_count": 116,
     "metadata": {},
     "output_type": "execute_result"
    }
   ],
   "source": [
    "con.execute(query)"
   ]
  },
  {
   "cell_type": "code",
   "execution_count": 117,
   "metadata": {
    "collapsed": true
   },
   "outputs": [],
   "source": [
    "con.commit()"
   ]
  },
  {
   "cell_type": "code",
   "execution_count": 118,
   "metadata": {
    "collapsed": true
   },
   "outputs": [],
   "source": [
    "data = [('Atlanta', 'Georgia', 1.25, 6),('Tallahassee', 'Florida', 2.6, 3),('Sacramento', 'California', 1.7, 5)]"
   ]
  },
  {
   "cell_type": "code",
   "execution_count": 119,
   "metadata": {
    "collapsed": true
   },
   "outputs": [],
   "source": [
    "stmt = \"INSERT INTO test VALUES(?, ?, ?, ?)\""
   ]
  },
  {
   "cell_type": "code",
   "execution_count": 120,
   "metadata": {
    "collapsed": true
   },
   "outputs": [],
   "source": [
    "con.executemany(stmt, data)\n",
    "con.commit()"
   ]
  },
  {
   "cell_type": "code",
   "execution_count": 121,
   "metadata": {
    "collapsed": true
   },
   "outputs": [],
   "source": [
    "cursor = con.execute('select * from test')"
   ]
  },
  {
   "cell_type": "code",
   "execution_count": 122,
   "metadata": {},
   "outputs": [
    {
     "data": {
      "text/plain": [
       "<sqlite3.Cursor at 0x9d32c70>"
      ]
     },
     "execution_count": 122,
     "metadata": {},
     "output_type": "execute_result"
    }
   ],
   "source": [
    "cursor"
   ]
  },
  {
   "cell_type": "code",
   "execution_count": 123,
   "metadata": {
    "collapsed": true
   },
   "outputs": [],
   "source": [
    "rows = cursor.fetchall()"
   ]
  },
  {
   "cell_type": "code",
   "execution_count": 124,
   "metadata": {},
   "outputs": [
    {
     "data": {
      "text/plain": [
       "[('Atlanta', 'Georgia', 1.25, 6),\n",
       " ('Tallahassee', 'Florida', 2.6, 3),\n",
       " ('Sacramento', 'California', 1.7, 5)]"
      ]
     },
     "execution_count": 124,
     "metadata": {},
     "output_type": "execute_result"
    }
   ],
   "source": [
    "rows"
   ]
  },
  {
   "cell_type": "code",
   "execution_count": 125,
   "metadata": {},
   "outputs": [
    {
     "data": {
      "text/plain": [
       "(('a', None, None, None, None, None, None),\n",
       " ('b', None, None, None, None, None, None),\n",
       " ('c', None, None, None, None, None, None),\n",
       " ('d', None, None, None, None, None, None))"
      ]
     },
     "execution_count": 125,
     "metadata": {},
     "output_type": "execute_result"
    }
   ],
   "source": [
    "cursor.description"
   ]
  },
  {
   "cell_type": "code",
   "execution_count": 133,
   "metadata": {
    "collapsed": true
   },
   "outputs": [],
   "source": [
    "#In Python 2, zip returned a list. In Python 3, zip returns an iterable object. \n",
    "#But you can make it into a list just by calling list, e.g. list(zip(*ngram))\n",
    "\n",
    "DatabseFrsme = DataFrame(rows, columns=list(zip(*cursor.description))[0])"
   ]
  },
  {
   "cell_type": "code",
   "execution_count": 134,
   "metadata": {},
   "outputs": [
    {
     "data": {
      "text/html": [
       "<div>\n",
       "<style>\n",
       "    .dataframe thead tr:only-child th {\n",
       "        text-align: right;\n",
       "    }\n",
       "\n",
       "    .dataframe thead th {\n",
       "        text-align: left;\n",
       "    }\n",
       "\n",
       "    .dataframe tbody tr th {\n",
       "        vertical-align: top;\n",
       "    }\n",
       "</style>\n",
       "<table border=\"1\" class=\"dataframe\">\n",
       "  <thead>\n",
       "    <tr style=\"text-align: right;\">\n",
       "      <th></th>\n",
       "      <th>a</th>\n",
       "      <th>b</th>\n",
       "      <th>c</th>\n",
       "      <th>d</th>\n",
       "    </tr>\n",
       "  </thead>\n",
       "  <tbody>\n",
       "    <tr>\n",
       "      <th>0</th>\n",
       "      <td>Atlanta</td>\n",
       "      <td>Georgia</td>\n",
       "      <td>1.25</td>\n",
       "      <td>6</td>\n",
       "    </tr>\n",
       "    <tr>\n",
       "      <th>1</th>\n",
       "      <td>Tallahassee</td>\n",
       "      <td>Florida</td>\n",
       "      <td>2.60</td>\n",
       "      <td>3</td>\n",
       "    </tr>\n",
       "    <tr>\n",
       "      <th>2</th>\n",
       "      <td>Sacramento</td>\n",
       "      <td>California</td>\n",
       "      <td>1.70</td>\n",
       "      <td>5</td>\n",
       "    </tr>\n",
       "  </tbody>\n",
       "</table>\n",
       "</div>"
      ],
      "text/plain": [
       "             a           b     c  d\n",
       "0      Atlanta     Georgia  1.25  6\n",
       "1  Tallahassee     Florida  2.60  3\n",
       "2   Sacramento  California  1.70  5"
      ]
     },
     "execution_count": 134,
     "metadata": {},
     "output_type": "execute_result"
    }
   ],
   "source": [
    "DatabseFrsme"
   ]
  },
  {
   "cell_type": "code",
   "execution_count": 135,
   "metadata": {
    "collapsed": true
   },
   "outputs": [],
   "source": [
    "import pandas.io.sql as sql"
   ]
  },
  {
   "cell_type": "code",
   "execution_count": 137,
   "metadata": {},
   "outputs": [
    {
     "data": {
      "text/html": [
       "<div>\n",
       "<style>\n",
       "    .dataframe thead tr:only-child th {\n",
       "        text-align: right;\n",
       "    }\n",
       "\n",
       "    .dataframe thead th {\n",
       "        text-align: left;\n",
       "    }\n",
       "\n",
       "    .dataframe tbody tr th {\n",
       "        vertical-align: top;\n",
       "    }\n",
       "</style>\n",
       "<table border=\"1\" class=\"dataframe\">\n",
       "  <thead>\n",
       "    <tr style=\"text-align: right;\">\n",
       "      <th></th>\n",
       "      <th>a</th>\n",
       "      <th>b</th>\n",
       "      <th>c</th>\n",
       "      <th>d</th>\n",
       "    </tr>\n",
       "  </thead>\n",
       "  <tbody>\n",
       "    <tr>\n",
       "      <th>0</th>\n",
       "      <td>Atlanta</td>\n",
       "      <td>Georgia</td>\n",
       "      <td>1.25</td>\n",
       "      <td>6</td>\n",
       "    </tr>\n",
       "    <tr>\n",
       "      <th>1</th>\n",
       "      <td>Tallahassee</td>\n",
       "      <td>Florida</td>\n",
       "      <td>2.60</td>\n",
       "      <td>3</td>\n",
       "    </tr>\n",
       "    <tr>\n",
       "      <th>2</th>\n",
       "      <td>Sacramento</td>\n",
       "      <td>California</td>\n",
       "      <td>1.70</td>\n",
       "      <td>5</td>\n",
       "    </tr>\n",
       "  </tbody>\n",
       "</table>\n",
       "</div>"
      ],
      "text/plain": [
       "             a           b     c  d\n",
       "0      Atlanta     Georgia  1.25  6\n",
       "1  Tallahassee     Florida  2.60  3\n",
       "2   Sacramento  California  1.70  5"
      ]
     },
     "execution_count": 137,
     "metadata": {},
     "output_type": "execute_result"
    }
   ],
   "source": [
    "sql.read_sql('select * from test',con)"
   ]
  },
  {
   "cell_type": "code",
   "execution_count": null,
   "metadata": {
    "collapsed": true
   },
   "outputs": [],
   "source": []
  }
 ],
 "metadata": {
  "kernelspec": {
   "display_name": "Python 3",
   "language": "python",
   "name": "python3"
  },
  "language_info": {
   "codemirror_mode": {
    "name": "ipython",
    "version": 3
   },
   "file_extension": ".py",
   "mimetype": "text/x-python",
   "name": "python",
   "nbconvert_exporter": "python",
   "pygments_lexer": "ipython3",
   "version": "3.6.1"
  }
 },
 "nbformat": 4,
 "nbformat_minor": 2
}
