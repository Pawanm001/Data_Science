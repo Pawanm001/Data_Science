{
 "cells": [
  {
   "cell_type": "code",
   "execution_count": 2,
   "metadata": {},
   "outputs": [],
   "source": [
    "import numpy as np\n",
    "import pandas as pd\n",
    "import matplotlib as mpl\n",
    "import matplotlib.pyplot as plt\n",
    "import seaborn as sns"
   ]
  },
  {
   "cell_type": "code",
   "execution_count": 3,
   "metadata": {
    "collapsed": true
   },
   "outputs": [],
   "source": [
    "%matplotlib inline"
   ]
  },
  {
   "cell_type": "code",
   "execution_count": 6,
   "metadata": {},
   "outputs": [
    {
     "data": {
      "text/plain": [
       "(array([  2.,   4.,   9.,  16.,  14.,  21.,  17.,  11.,   4.,   2.]),\n",
       " array([-2.88007745, -2.31765309, -1.75522873, -1.19280437, -0.63038002,\n",
       "        -0.06795566,  0.4944687 ,  1.05689306,  1.61931742,  2.18174177,\n",
       "         2.74416613]),\n",
       " <a list of 10 Patch objects>)"
      ]
     },
     "execution_count": 6,
     "metadata": {},
     "output_type": "execute_result"
    },
    {
     "data": {
      "image/png": "[encoded data removed]",
      "text/plain": [
       "<matplotlib.figure.Figure at 0xa300a20>"
      ]
     },
     "metadata": {},
     "output_type": "display_data"
    }
   ],
   "source": [
    "dataset1 = np.random.randn(100)\n",
    "plt.hist(dataset1)"
   ]
  },
  {
   "cell_type": "code",
   "execution_count": 8,
   "metadata": {},
   "outputs": [
    {
     "data": {
      "text/plain": [
       "(array([  1.,   1.,   6.,  15.,  13.,  16.,  16.,   5.,   4.,   3.]),\n",
       " array([-2.98544232, -2.43163056, -1.87781881, -1.32400705, -0.7701953 ,\n",
       "        -0.21638354,  0.33742821,  0.89123997,  1.44505172,  1.99886348,\n",
       "         2.55267523]),\n",
       " <a list of 10 Patch objects>)"
      ]
     },
     "execution_count": 8,
     "metadata": {},
     "output_type": "execute_result"
    },
    {
     "data": {
      "image/png": "[encoded data removed]",
      "text/plain": [
       "<matplotlib.figure.Figure at 0xb499a58>"
      ]
     },
     "metadata": {},
     "output_type": "display_data"
    }
   ],
   "source": [
    "dataset2 = np.random.randn(80)\n",
    "plt.hist(dataset2,color=\"red\",alpha=0.5)"
   ]
  },
  {
   "cell_type": "code",
   "execution_count": 12,
   "metadata": {},
   "outputs": [
    {
     "data": {
      "text/plain": [
       "(array([ 0.04514169,  0.        ,  0.        ,  0.04514169,  0.22570846,\n",
       "         0.04514169,  0.36113354,  0.31599185,  0.18056677,  0.40627523,\n",
       "         0.40627523,  0.31599185,  0.31599185,  0.40627523,  0.13542508,\n",
       "         0.09028339,  0.04514169,  0.13542508,  0.04514169,  0.09028339]),\n",
       " array([-2.98544232, -2.70853644, -2.43163056, -2.15472469, -1.87781881,\n",
       "        -1.60091293, -1.32400705, -1.04710118, -0.7701953 , -0.49328942,\n",
       "        -0.21638354,  0.06052234,  0.33742821,  0.61433409,  0.89123997,\n",
       "         1.16814585,  1.44505172,  1.7219576 ,  1.99886348,  2.27576936,\n",
       "         2.55267523]),\n",
       " <a list of 20 Patch objects>)"
      ]
     },
     "execution_count": 12,
     "metadata": {},
     "output_type": "execute_result"
    },
    {
     "data": {
      "image/png": "[encoded data removed]",
      "text/plain": [
       "<matplotlib.figure.Figure at 0xb92eb00>"
      ]
     },
     "metadata": {},
     "output_type": "display_data"
    }
   ],
   "source": [
    "plt.hist(dataset1,color=\"indianred\",alpha=0.5,normed=True,bins=20)\n",
    "plt.hist(dataset2,alpha=0.5,normed=True,bins=20)\n"
   ]
  },
  {
   "cell_type": "code",
   "execution_count": null,
   "metadata": {
    "collapsed": true
   },
   "outputs": [],
   "source": [
    "data1 = np.random.randn(1000)"
   ]
  }
 ],
 "metadata": {
  "kernelspec": {
   "display_name": "Python 3",
   "language": "python",
   "name": "python3"
  },
  "language_info": {
   "codemirror_mode": {
    "name": "ipython",
    "version": 3
   },
   "file_extension": ".py",
   "mimetype": "text/x-python",
   "name": "python",
   "nbconvert_exporter": "python",
   "pygments_lexer": "ipython3",
   "version": "3.6.1"
  }
 },
 "nbformat": 4,
 "nbformat_minor": 2
}
