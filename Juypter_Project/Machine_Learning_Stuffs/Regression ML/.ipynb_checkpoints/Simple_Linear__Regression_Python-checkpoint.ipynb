{
 "cells": [
  {
   "cell_type": "code",
   "execution_count": 1,
   "metadata": {},
   "outputs": [],
   "source": [
    "from statistics import mean\n",
    "import numpy as np\n",
    "import matplotlib.pyplot as plt"
   ]
  },
  {
   "cell_type": "code",
   "execution_count": 2,
   "metadata": {
    "collapsed": true
   },
   "outputs": [],
   "source": [
    "xs = np.array([1,2,3,4,5,6,],dtype=float)\n",
    "ys= np.array([5,4,6,5,6,7],dtype=float)"
   ]
  },
  {
   "cell_type": "code",
   "execution_count": 3,
   "metadata": {},
   "outputs": [
    {
     "data": {
      "image/png": "[encoded data removed]",
      "text/plain": [
       "<matplotlib.figure.Figure at 0x80c0d30>"
      ]
     },
     "metadata": {},
     "output_type": "display_data"
    }
   ],
   "source": [
    "plt.scatter(xs,ys)\n",
    "plt.show()"
   ]
  },
  {
   "cell_type": "code",
   "execution_count": 4,
   "metadata": {},
   "outputs": [
    {
     "name": "stdout",
     "output_type": "stream",
     "text": [
      "0.428571428571\n",
      "4.0\n"
     ]
    }
   ],
   "source": [
    "def best_fit_slope(xs,ys):\n",
    "    m=(((mean(xs) * mean(ys))- mean(xs*ys)) / ((mean(xs)*mean(xs)) - mean(xs*xs)))\n",
    "    b= mean(ys)-m*mean(xs)\n",
    "    return m,b\n",
    "\n",
    "m,b= best_fit_slope(xs,ys)\n",
    "print(m)\n",
    "print (b)"
   ]
  },
  {
   "cell_type": "code",
   "execution_count": 5,
   "metadata": {},
   "outputs": [
    {
     "name": "stdout",
     "output_type": "stream",
     "text": [
      "[4.4285714285714288, 4.8571428571428577, 5.2857142857142865, 5.7142857142857144, 6.1428571428571432, 6.5714285714285721]\n"
     ]
    }
   ],
   "source": [
    "regression_line_y = [(m*x)+b for x in xs]\n",
    "print (regression_line_y)"
   ]
  },
  {
   "cell_type": "code",
   "execution_count": 6,
   "metadata": {},
   "outputs": [
    {
     "data": {
      "image/png": "[encoded data removed]",
      "text/plain": [
       "<matplotlib.figure.Figure at 0x81dd048>"
      ]
     },
     "metadata": {},
     "output_type": "display_data"
    }
   ],
   "source": [
    "plt.scatter(xs,ys)\n",
    "plt.plot(xs,regression_line_y)\n",
    "plt.show()"
   ]
  },
  {
   "cell_type": "code",
   "execution_count": 7,
   "metadata": {},
   "outputs": [
    {
     "data": {
      "image/png": "[encoded data removed]",
      "text/plain": [
       "<matplotlib.figure.Figure at 0x8573f60>"
      ]
     },
     "metadata": {},
     "output_type": "display_data"
    }
   ],
   "source": [
    "\"Now I am going to make predection \"\n",
    "predeict_x = 8\n",
    "predeict_y = (m*predeict_x)+b\n",
    "plt.scatter(xs,ys)\n",
    "plt.scatter(predeict_x,predeict_y)\n",
    "plt.plot(xs,regression_line_y)\n",
    "plt.show()"
   ]
  },
  {
   "cell_type": "code",
   "execution_count": 8,
   "metadata": {},
   "outputs": [
    {
     "name": "stdout",
     "output_type": "stream",
     "text": [
      "0.584415584416\n"
     ]
    }
   ],
   "source": [
    "\"determine accurecy of regression line(Squared error)\"\n",
    "def squard_error(ys_orig,ys_line):\n",
    "    return sum((ys_line - ys_orig)**2)\n",
    "\n",
    "def coefficient_of_determination(ys_orig,ys_line):\n",
    "    y_mean_line = [mean(ys_orig) for y in ys_orig]\n",
    "    Squred_error_regression = squard_error(ys_orig,ys_line)\n",
    "    Squred_error_y_Mean = squard_error(ys_orig,y_mean_line)\n",
    "    return 1-(Squred_error_regression / Squred_error_y_Mean)\n",
    "\n",
    "\n",
    "R_Squred = coefficient_of_determination(ys,regression_line_y)\n",
    "print(R_Squred)\n",
    "\n",
    "        \n"
   ]
  },
  {
   "cell_type": "code",
   "execution_count": null,
   "metadata": {
    "collapsed": true
   },
   "outputs": [],
   "source": []
  }
 ],
 "metadata": {
  "kernelspec": {
   "display_name": "Python 3",
   "language": "python",
   "name": "python3"
  },
  "language_info": {
   "codemirror_mode": {
    "name": "ipython",
    "version": 3
   },
   "file_extension": ".py",
   "mimetype": "text/x-python",
   "name": "python",
   "nbconvert_exporter": "python",
   "pygments_lexer": "ipython3",
   "version": "3.6.1"
  }
 },
 "nbformat": 4,
 "nbformat_minor": 2
}
