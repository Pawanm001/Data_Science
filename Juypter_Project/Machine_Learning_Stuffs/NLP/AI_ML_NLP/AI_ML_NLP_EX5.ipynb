{
 "cells": [
  {
   "cell_type": "code",
   "execution_count": 1,
   "metadata": {},
   "outputs": [
    {
     "name": "stdout",
     "output_type": "stream",
     "text": [
      "Rose is beautiful.\n",
      "\n",
      "positive sentiment\n",
      "Place is nasty to stay.\n",
      "\n",
      "negative sentiment\n",
      "This is the beauty of this technique.\n",
      "\n",
      "positive sentiment\n",
      "Concept is explained beautifully in this book.\n",
      "\n",
      "positive sentiment\n",
      "He annoyed me.\n",
      "\n",
      "negative sentiment\n",
      "Its the supreme place to stay.\n",
      "\n",
      "positive sentiment\n",
      "I hate this place.\n",
      "\n",
      "negative sentiment\n",
      "Dont annoy the customer.\n",
      "\n",
      "negative sentiment\n",
      "He has given nasty comments about his stay.\n",
      "\n",
      "negative sentiment\n",
      "Dessert is awesome.\n",
      "\n",
      "positive sentiment\n",
      "Your gift is wonderful.\n",
      "positive sentiment\n"
     ]
    }
   ],
   "source": [
    "from nltk.tokenize import word_tokenize\n",
    "\n",
    "\n",
    "#fopen = open('NLPdataEx5dict.txt','r')\n",
    "#for lines in fopen:\n",
    "#    (negative_word,positive_word) = lines.split('\\t')\n",
    "negative_word=[\"hate\",\"hatred\",\"annoyed\",\"annoy\",\"annoyingly\",\"nasty\"]\n",
    "positive_word=[\"nice\",\"excellent\",\"good\",\"wonderful\",\"best\",\"better\",\"awesome\",\"beautiful\",\"beauty\",\"beautifully\",\"supreme\"]\n",
    "\n",
    "\n",
    "senti_dict = {}\n",
    "\n",
    "def create_pos_sent_dict(words):\n",
    "    for word in words:\n",
    "      senti_dict[word] = 1\n",
    " \n",
    "def create_neg_sent_dict(words):\n",
    "    for word in words:\n",
    "      senti_dict[word] = -1  \n",
    "\n",
    "create_pos_sent_dict(positive_word)\n",
    "create_neg_sent_dict(negative_word)\n",
    "\n",
    "Sent_file = open(\"NLPdataEx5data_senti_analyze.txt\",\"r\") \n",
    "\n",
    "message = Sent_file.readline()\n",
    " \n",
    "while message:\n",
    "    print(message)\n",
    "    words = word_tokenize(message)\n",
    "    s =(sum( senti_dict.get(word, 0) for word in words ))\n",
    "    if s >= 1 :\n",
    "      print(\"positive sentiment\")\n",
    "    elif s == 0:\n",
    "      print(\"neutral sentiment\")\n",
    "    else :\n",
    "      print(\"negative sentiment\")\n",
    "    message = Sent_file.readline()"
   ]
  },
  {
   "cell_type": "code",
   "execution_count": null,
   "metadata": {
    "collapsed": true
   },
   "outputs": [],
   "source": []
  }
 ],
 "metadata": {
  "kernelspec": {
   "display_name": "Python 3",
   "language": "python",
   "name": "python3"
  },
  "language_info": {
   "codemirror_mode": {
    "name": "ipython",
    "version": 3
   },
   "file_extension": ".py",
   "mimetype": "text/x-python",
   "name": "python",
   "nbconvert_exporter": "python",
   "pygments_lexer": "ipython3",
   "version": "3.6.1"
  }
 },
 "nbformat": 4,
 "nbformat_minor": 2
}
