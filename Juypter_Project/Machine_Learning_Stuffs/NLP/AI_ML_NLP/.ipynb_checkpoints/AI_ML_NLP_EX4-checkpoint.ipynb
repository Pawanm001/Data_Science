{
 "cells": [
  {
   "cell_type": "code",
   "execution_count": 1,
   "metadata": {},
   "outputs": [],
   "source": [
    "from nltk.tokenize import word_tokenize\n",
    "from nltk.stem import SnowballStemmer\n",
    "from nltk import stem\n",
    "from nltk.corpus import stopwords\n",
    "\n",
    "ps = SnowballStemmer ('english')\n",
    "wn_lemat = stem.WordNetLemmatizer()\n",
    "stop_words = set(stopwords.words('english'))"
   ]
  },
  {
   "cell_type": "code",
   "execution_count": 2,
   "metadata": {
    "collapsed": true
   },
   "outputs": [],
   "source": [
    "file = open(\"data_in.txt\", \"r\")"
   ]
  },
  {
   "cell_type": "code",
   "execution_count": 3,
   "metadata": {},
   "outputs": [],
   "source": [
    "S = file.readlines()"
   ]
  },
  {
   "cell_type": "code",
   "execution_count": 4,
   "metadata": {},
   "outputs": [
    {
     "name": "stdout",
     "output_type": "stream",
     "text": [
      "Word:  Hello \t\t Stemming:  hello \t\t Lemmatizing: Hello\n",
      "Word:  Weather \t\t Stemming:  weather \t\t Lemmatizing: Weather\n",
      "Word:  awesome \t\t Stemming:  awesom \t\t Lemmatizing: awesome\n",
      "Word:  Its \t\t Stemming:  it \t\t Lemmatizing: Its\n",
      "Word:  raining \t\t Stemming:  rain \t\t Lemmatizing: raining\n",
      "Word:  Hello \t\t Stemming:  hello \t\t Lemmatizing: Hello\n",
      "Word:  Mr. \t\t Stemming:  mr. \t\t Lemmatizing: Mr.\n",
      "Word:  Raja \t\t Stemming:  raja \t\t Lemmatizing: Raja\n",
      "Word:  Weather \t\t Stemming:  weather \t\t Lemmatizing: Weather\n",
      "Word:  awesome \t\t Stemming:  awesom \t\t Lemmatizing: awesome\n",
      "Word:  Its \t\t Stemming:  it \t\t Lemmatizing: Its\n",
      "Word:  raining \t\t Stemming:  rain \t\t Lemmatizing: raining\n",
      "Word:  Hello \t\t Stemming:  hello \t\t Lemmatizing: Hello\n",
      "Word:  Mr. \t\t Stemming:  mr. \t\t Lemmatizing: Mr.\n",
      "Word:  Raja \t\t Stemming:  raja \t\t Lemmatizing: Raja\n",
      "Word:  Weather \t\t Stemming:  weather \t\t Lemmatizing: Weather\n",
      "Word:  bad \t\t Stemming:  bad \t\t Lemmatizing: bad\n",
      "Word:  Its \t\t Stemming:  it \t\t Lemmatizing: Its\n",
      "Word:  heavily \t\t Stemming:  heavili \t\t Lemmatizing: heavily\n",
      "Word:  raining \t\t Stemming:  rain \t\t Lemmatizing: raining\n",
      "Word:  NLP \t\t Stemming:  nlp \t\t Lemmatizing: NLP\n",
      "Word:  great \t\t Stemming:  great \t\t Lemmatizing: great\n",
      "Word:  technique \t\t Stemming:  techniqu \t\t Lemmatizing: technique\n",
      "Word:  It \t\t Stemming:  it \t\t Lemmatizing: It\n",
      "Word:  nice \t\t Stemming:  nice \t\t Lemmatizing: nice\n",
      "Word:  learn \t\t Stemming:  learn \t\t Lemmatizing: learn\n",
      "Word:  technique \t\t Stemming:  techniqu \t\t Lemmatizing: technique\n",
      "Word:  AI \t\t Stemming:  ai \t\t Lemmatizing: AI\n",
      "Word:  making \t\t Stemming:  make \t\t Lemmatizing: making\n",
      "Word:  difference \t\t Stemming:  differ \t\t Lemmatizing: difference\n",
      "Word:  world \t\t Stemming:  world \t\t Lemmatizing: world\n",
      "Word:  It \t\t Stemming:  it \t\t Lemmatizing: It\n",
      "Word:  would \t\t Stemming:  would \t\t Lemmatizing: would\n",
      "Word:  helpful \t\t Stemming:  help \t\t Lemmatizing: helpful\n",
      "Word:  betterment \t\t Stemming:  better \t\t Lemmatizing: betterment\n",
      "Word:  human \t\t Stemming:  human \t\t Lemmatizing: human\n",
      "Word:  life \t\t Stemming:  life \t\t Lemmatizing: life\n",
      "Word:  We \t\t Stemming:  we \t\t Lemmatizing: We\n",
      "Word:  need \t\t Stemming:  need \t\t Lemmatizing: need\n",
      "Word:  make \t\t Stemming:  make \t\t Lemmatizing: make\n",
      "Word:  advantage \t\t Stemming:  advantag \t\t Lemmatizing: advantage\n"
     ]
    }
   ],
   "source": [
    "for sentence in (S):\n",
    "    word_token = word_tokenize(sentence)\n",
    "    for word in word_token:\n",
    "        if word not in stop_words and len(word) != 1:\n",
    "            print(\"Word: \", word,\"\\t\\t Stemming: \", ps.stem(word) , \"\\t\\t Lemmatizing:\", wn_lemat.lemmatize(word))\n",
    "\n",
    "file.close()    "
   ]
  },
  {
   "cell_type": "code",
   "execution_count": null,
   "metadata": {
    "collapsed": true
   },
   "outputs": [],
   "source": []
  },
  {
   "cell_type": "code",
   "execution_count": null,
   "metadata": {
    "collapsed": true
   },
   "outputs": [],
   "source": []
  }
 ],
 "metadata": {
  "kernelspec": {
   "display_name": "Python 3",
   "language": "python",
   "name": "python3"
  },
  "language_info": {
   "codemirror_mode": {
    "name": "ipython",
    "version": 3
   },
   "file_extension": ".py",
   "mimetype": "text/x-python",
   "name": "python",
   "nbconvert_exporter": "python",
   "pygments_lexer": "ipython3",
   "version": "3.6.1"
  }
 },
 "nbformat": 4,
 "nbformat_minor": 2
}
