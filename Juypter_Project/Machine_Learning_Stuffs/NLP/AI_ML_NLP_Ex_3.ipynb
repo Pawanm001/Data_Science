{
 "cells": [
  {
   "cell_type": "code",
   "execution_count": 1,
   "metadata": {},
   "outputs": [
    {
     "name": "stdout",
     "output_type": "stream",
     "text": [
      "[nltk_data] Downloading package averaged_perceptron_tagger to\n",
      "[nltk_data]     C:\\Users\\Bhaskar\\AppData\\Roaming\\nltk_data...\n",
      "[nltk_data]   Package averaged_perceptron_tagger is already up-to-\n",
      "[nltk_data]       date!\n",
      "[nltk_data] Downloading package maxent_ne_chunker to\n",
      "[nltk_data]     C:\\Users\\Bhaskar\\AppData\\Roaming\\nltk_data...\n",
      "[nltk_data]   Package maxent_ne_chunker is already up-to-date!\n",
      "[nltk_data] Downloading package words to\n",
      "[nltk_data]     C:\\Users\\Bhaskar\\AppData\\Roaming\\nltk_data...\n",
      "[nltk_data]   Package words is already up-to-date!\n",
      "Hello there, how are you? Weather is awesome. Its raining here now.\n",
      "\n",
      "Hello Mr. Raja, how are you? Weather is awesome. Its raining here now.\n",
      "\n",
      "Hello Mr. Raja, how are you. Weather is bad. Its heavily raining here now.\n",
      "\n",
      "NLP is great technique. It is nice to learn this technique.\n",
      "\n",
      "AI is making difference in this world now.  It would be helpful for betterment of human life. We need to make advantage of that.\n",
      "\n"
     ]
    }
   ],
   "source": [
    "import nltk\n",
    "from nltk.chunk import ne_chunk\n",
    "from nltk.tokenize import word_tokenize\n",
    "from nltk.tag import pos_tag\n",
    "\n",
    "nltk.download('averaged_perceptron_tagger')\n",
    "nltk.download('maxent_ne_chunker')\n",
    "nltk.download('words')\n",
    "\n",
    "fd = open(\"C:\\Users\\Bhaskar\\Documents\\PythonScripts\\NLPdataEx3&4-data_in.txt\",\"r\") \n",
    "\n",
    "msg = fd.readline()\n",
    " \n",
    "while msg:\n",
    "    print msg\n",
    "    words = word_tokenize(msg)\n",
    "    pos_words = pos_tag(words)\n",
    "    print (pos_words)\n",
    "    chunk_sentence = ne_chunk(pos_words)\n",
    "    print (chunk_sentence)\n",
    "    chunk_sentence.draw()\n",
    "# read next message\n",
    "    msg = fd.readline()\n",
    "\n",
    "fd.close()"
   ]
  }
 ],
 "metadata": {
  "kernelspec": {
   "display_name": "Python 2",
   "language": "python",
   "name": "python2"
  },
  "language_info": {
   "codemirror_mode": {
    "name": "ipython",
    "version": 2
   },
   "file_extension": ".py",
   "mimetype": "text/x-python",
   "name": "python",
   "nbconvert_exporter": "python",
   "pygments_lexer": "ipython2",
   "version": "2.7.14"
  }
 },
 "nbformat": 4,
 "nbformat_minor": 2
}
