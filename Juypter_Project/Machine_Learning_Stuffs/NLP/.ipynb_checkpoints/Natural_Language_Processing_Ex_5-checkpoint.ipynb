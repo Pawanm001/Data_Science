{
 "cells": [
  {
   "cell_type": "code",
   "execution_count": 1,
   "metadata": {
    "collapsed": true
   },
   "outputs": [],
   "source": [
    "import pandas as pd\n",
    "import re"
   ]
  },
  {
   "cell_type": "code",
   "execution_count": 2,
   "metadata": {
    "collapsed": true
   },
   "outputs": [],
   "source": [
    "dict = pd.read_csv('dict_modifed.txt',header=None, delimiter=r\"\\s+\")"
   ]
  },
  {
   "cell_type": "code",
   "execution_count": 3,
   "metadata": {},
   "outputs": [
    {
     "data": {
      "text/plain": [
       "{'annoy': -2,\n",
       " 'annoyed': -2,\n",
       " 'annoyingly': -2,\n",
       " 'awesome': 3,\n",
       " 'beautiful': 2,\n",
       " 'beautifully': 2,\n",
       " 'beauty': 3,\n",
       " 'best': 2,\n",
       " 'better': 1,\n",
       " 'excellent': 2,\n",
       " 'good': 1,\n",
       " 'hate': -1,\n",
       " 'hatred': -1,\n",
       " 'nasty': -3,\n",
       " 'nice': 1,\n",
       " 'supreme': 4,\n",
       " 'wonderful': 3}"
      ]
     },
     "execution_count": 3,
     "metadata": {},
     "output_type": "execute_result"
    }
   ],
   "source": [
    "senti_dict = {}\n",
    "for i in range(len(dict)):\n",
    "    senti_dict[dict[0][i]] = dict[1][i]\n",
    "senti_dict"
   ]
  },
  {
   "cell_type": "code",
   "execution_count": 4,
   "metadata": {},
   "outputs": [
    {
     "data": {
      "text/html": [
       "<div>\n",
       "<style scoped>\n",
       "    .dataframe tbody tr th:only-of-type {\n",
       "        vertical-align: middle;\n",
       "    }\n",
       "\n",
       "    .dataframe tbody tr th {\n",
       "        vertical-align: top;\n",
       "    }\n",
       "\n",
       "    .dataframe thead th {\n",
       "        text-align: right;\n",
       "    }\n",
       "</style>\n",
       "<table border=\"1\" class=\"dataframe\">\n",
       "  <thead>\n",
       "    <tr style=\"text-align: right;\">\n",
       "      <th></th>\n",
       "      <th>0</th>\n",
       "    </tr>\n",
       "  </thead>\n",
       "  <tbody>\n",
       "    <tr>\n",
       "      <th>0</th>\n",
       "      <td>Rose is beautiful.</td>\n",
       "    </tr>\n",
       "    <tr>\n",
       "      <th>1</th>\n",
       "      <td>Place is nasty to stay.</td>\n",
       "    </tr>\n",
       "    <tr>\n",
       "      <th>2</th>\n",
       "      <td>This is the beauty of this technique.</td>\n",
       "    </tr>\n",
       "    <tr>\n",
       "      <th>3</th>\n",
       "      <td>Concept is explained beautifully in this book.</td>\n",
       "    </tr>\n",
       "    <tr>\n",
       "      <th>4</th>\n",
       "      <td>He annoyed me.</td>\n",
       "    </tr>\n",
       "  </tbody>\n",
       "</table>\n",
       "</div>"
      ],
      "text/plain": [
       "                                                0\n",
       "0                              Rose is beautiful.\n",
       "1                         Place is nasty to stay.\n",
       "2           This is the beauty of this technique.\n",
       "3  Concept is explained beautifully in this book.\n",
       "4                                  He annoyed me."
      ]
     },
     "execution_count": 4,
     "metadata": {},
     "output_type": "execute_result"
    }
   ],
   "source": [
    "df = pd.read_csv('data_senti_analyze.txt',header=None)\n",
    "df.head()"
   ]
  },
  {
   "cell_type": "code",
   "execution_count": 5,
   "metadata": {},
   "outputs": [
    {
     "name": "stdout",
     "output_type": "stream",
     "text": [
      "Sentiment Score:  2   Sentence:  Rose is beautiful.\n",
      "Sentiment Score: -3   Sentence:  Place is nasty to stay.\n",
      "Sentiment Score:  3   Sentence:  This is the beauty of this technique.\n",
      "Sentiment Score:  2   Sentence:  Concept is explained beautifully in this book.\n",
      "Sentiment Score: -2   Sentence:  He annoyed me.\n",
      "Sentiment Score:  4   Sentence:  Its the supreme place to stay.\n",
      "Sentiment Score: -1   Sentence:  I hate this place.\n",
      "Sentiment Score: -2   Sentence:  Dont annoy the customer.\n",
      "Sentiment Score: -3   Sentence:  He has given nasty comments about his stay.\n",
      "Sentiment Score:  3   Sentence:  Dessert is awesome.\n",
      "Sentiment Score:  3   Sentence:  Your gift is wonderful.\n"
     ]
    }
   ],
   "source": [
    "for i in range(len(df)):\n",
    "    words = df[0][i].lower().split()\n",
    "    score = sum(senti_dict.get(re.sub(\"[^a-z]+\", \"\",word), 0) for word in words)\n",
    "    if score < 0:\n",
    "        temp = \"Sentiment Score:\"\n",
    "    else:\n",
    "        temp = \"Sentiment Score: \"\n",
    "    print( temp, score, \"  Sentence: \", df[0][i])"
   ]
  },
  {
   "cell_type": "code",
   "execution_count": null,
   "metadata": {
    "collapsed": true
   },
   "outputs": [],
   "source": []
  }
 ],
 "metadata": {
  "kernelspec": {
   "display_name": "Python 3",
   "language": "python",
   "name": "python3"
  },
  "language_info": {
   "codemirror_mode": {
    "name": "ipython",
    "version": 3
   },
   "file_extension": ".py",
   "mimetype": "text/x-python",
   "name": "python",
   "nbconvert_exporter": "python",
   "pygments_lexer": "ipython3",
   "version": "3.6.1"
  }
 },
 "nbformat": 4,
 "nbformat_minor": 2
}
