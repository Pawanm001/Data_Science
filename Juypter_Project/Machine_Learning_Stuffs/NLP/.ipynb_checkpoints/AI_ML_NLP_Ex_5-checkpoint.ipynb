{
 "cells": [
  {
   "cell_type": "code",
   "execution_count": 21,
   "metadata": {},
   "outputs": [
    {
     "name": "stdout",
     "output_type": "stream",
     "text": [
      "Rose is beautiful.\n",
      "\n",
      "positive sentiment\n",
      "Place is nasty to stay.\n",
      "\n",
      "negative sentiment\n",
      "This is the beauty of this technique.\n",
      "\n",
      "positive sentiment\n",
      "Concept is explained beautifully in this book.\n",
      "\n",
      "positive sentiment\n",
      "He annoyed me.\n",
      "\n",
      "negative sentiment\n",
      "Its the supreme place to stay.\n",
      "\n",
      "positive sentiment\n",
      "I hate this place.\n",
      "\n",
      "negative sentiment\n",
      "Dont annoy the customer.\n",
      "\n",
      "negative sentiment\n",
      "He has given nasty comments about his stay.\n",
      "\n",
      "negative sentiment\n",
      "Dessert is awesome.\n",
      "\n",
      "positive sentiment\n",
      "Your gift is wonderful.\n",
      "positive sentiment\n"
     ]
    }
   ],
   "source": [
    "#from nltk.chunk import ne_chunk\n",
    "#from nltk.tokenize import word_tokenize\n",
    "#from nltk.tag import pos_tag\n",
    "#import nltk\n",
    "from nltk.tokenize import word_tokenize\n",
    "\n",
    "neg_words=[\"hate\",\"hatred\",\"annoyed\",\"annoy\",\"annoyingly\",\"nasty\"]\n",
    "pos_words=[\"nice\",\"excellent\",\"good\",\"wonderful\",\"best\",\"better\",\"awesome\",\"beautiful\",\"beauty\",\"beautifully\",\"supreme\"]\n",
    "\n",
    "senti_dict = {}\n",
    "\n",
    "def create_pos_sent_dict(words):\n",
    "    for word in words:\n",
    "      senti_dict[word] = 1\n",
    " \n",
    "def create_neg_sent_dict(words):\n",
    "    for word in words:\n",
    "      senti_dict[word] = -1  \n",
    "\n",
    "create_pos_sent_dict(pos_words)\n",
    "create_neg_sent_dict(neg_words)\n",
    "\n",
    "fd = open(\"C:\\Users\\Bhaskar\\Documents\\PythonScripts\\NLPdataEx5data_senti_analyze.txt\",\"r\") \n",
    "\n",
    "msg = fd.readline()\n",
    " \n",
    "while msg:\n",
    "    print msg\n",
    "    words = word_tokenize(msg)\n",
    "    s =(sum( senti_dict.get(word, 0) for word in words ))\n",
    "    if s >= 1 :\n",
    "      print \"positive sentiment\"\n",
    "    elif s == 0:\n",
    "      print \"neutral sentiment\"\n",
    "    else :\n",
    "      print \"negative sentiment\"\n",
    "    msg = fd.readline()"
   ]
  }
 ],
 "metadata": {
  "kernelspec": {
   "display_name": "Python 2",
   "language": "python",
   "name": "python2"
  },
  "language_info": {
   "codemirror_mode": {
    "name": "ipython",
    "version": 2
   },
   "file_extension": ".py",
   "mimetype": "text/x-python",
   "name": "python",
   "nbconvert_exporter": "python",
   "pygments_lexer": "ipython2",
   "version": "2.7.14"
  }
 },
 "nbformat": 4,
 "nbformat_minor": 2
}
