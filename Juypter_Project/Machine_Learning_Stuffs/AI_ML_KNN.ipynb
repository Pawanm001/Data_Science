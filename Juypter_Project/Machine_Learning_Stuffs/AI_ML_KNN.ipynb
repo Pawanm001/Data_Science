{
 "cells": [
  {
   "cell_type": "code",
   "execution_count": 22,
   "metadata": {},
   "outputs": [
    {
     "name": "stdout",
     "output_type": "stream",
     "text": [
      "Accuracy is  72.9157070474 % K_value:  1\n",
      "Accuracy is  79.2261630585 % K_value:  2\n",
      "Accuracy is  76.1553815446 % K_value:  3\n",
      "Accuracy is  79.1340396131 % K_value:  4\n",
      "Accuracy is  77.9671426378 % K_value:  5\n",
      "Accuracy is  79.4104099493 % K_value:  6\n",
      "Accuracy is  78.4738215876 % K_value:  7\n",
      "Accuracy is  79.4871794872 % K_value:  8\n",
      "Accuracy is  79.0112083525 % K_value:  9\n",
      "Accuracy is  79.3336404115 % K_value:  10\n",
      "Accuracy is  79.1801013358 % K_value:  11\n",
      "Accuracy is  79.3643482266 % K_value:  12\n",
      "Accuracy is  79.3950560418 % K_value:  13\n",
      "Accuracy is  79.4411177645 % K_value:  14\n",
      "Accuracy is  79.3950560418 % K_value:  15\n",
      "Accuracy is  79.671426378 % K_value:  16\n",
      "Accuracy is  79.5332412099 % K_value:  17\n",
      "Accuracy is  79.7021341932 % K_value:  18\n",
      "Accuracy is  79.6867802856 % K_value:  19\n",
      "Accuracy is  79.7481959159 % K_value:  20\n"
     ]
    }
   ],
   "source": [
    "import numpy\n",
    "import urllib\n",
    "import pandas\n",
    "\n",
    "\n",
    "url = \"https://archive.ics.uci.edu/ml/machine-learning-databases/adult/adult.data\"\n",
    "\n",
    "#Columns in data\n",
    "names = ['age', 'workclass', 'fnlwgt', 'education', 'education-num', 'martial-status', \n",
    "         'occupation', 'relationship', 'race', 'sex', 'capital-gain', 'capital-loss', \n",
    "         'hours-per-week', 'native-country', 'Income']\n",
    "\n",
    "#Read data from csv file\n",
    "dataset = pandas.read_csv(url, delim_whitespace=False, names=names)\n",
    "\n",
    "#from sklearn import LabelEncoder\n",
    "from sklearn.preprocessing import LabelEncoder\n",
    "\n",
    "for column in dataset.columns:\n",
    "    if dataset[column].dtype == type(object):\n",
    "        le = LabelEncoder()\n",
    "        dataset[column] = le.fit_transform(dataset[column])\n",
    "        \n",
    "X = dataset.drop('Income', axis=1)\n",
    "y = dataset[['Income']]\n",
    "\n",
    "X = X.values\n",
    "y = y.values\n",
    "y = y.ravel()\n",
    "\n",
    "#print X\n",
    "#print y\n",
    "\n",
    "from sklearn.neighbors import KNeighborsClassifier\n",
    "from sklearn import model_selection\n",
    "from sklearn.metrics import accuracy_score\n",
    "\n",
    "validation_size = 0.20\n",
    "seed = 7\n",
    "X_train, X_validation, Y_train, Y_validation = model_selection.train_test_split(X, y, \n",
    "                      test_size=validation_size, random_state=seed)\n",
    "#K_value = 5\n",
    "for K_value in range(20):\n",
    "  K_value +=1\n",
    "  knn = KNeighborsClassifier(n_neighbors = K_value, weights='uniform', algorithm='auto')\n",
    "  knn.fit(X_train, Y_train)\n",
    "  y_predict = knn.predict(X_validation)\n",
    "\n",
    "  #print Y_validation\n",
    "  #print y_predict\n",
    "  print \"Accuracy is \", accuracy_score(Y_validation, y_predict)*100, \"% K_value: \", K_value"
   ]
  }
 ],
 "metadata": {
  "kernelspec": {
   "display_name": "Python 3",
   "language": "python",
   "name": "python3"
  },
  "language_info": {
   "codemirror_mode": {
    "name": "ipython",
    "version": 3
   },
   "file_extension": ".py",
   "mimetype": "text/x-python",
   "name": "python",
   "nbconvert_exporter": "python",
   "pygments_lexer": "ipython3",
   "version": "3.6.1"
  }
 },
 "nbformat": 4,
 "nbformat_minor": 2
}
