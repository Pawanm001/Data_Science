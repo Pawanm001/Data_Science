{
 "cells": [
  {
   "cell_type": "markdown",
   "metadata": {},
   "source": [
    "### Machine Learning KNN assignments"
   ]
  },
  {
   "cell_type": "code",
   "execution_count": 1,
   "metadata": {
    "collapsed": true
   },
   "outputs": [],
   "source": [
    "import numpy as np\n",
    "import pandas as pd\n",
    "import matplotlib.pyplot as plt\n",
    "import seaborn as sns\n",
    "%matplotlib inline"
   ]
  },
  {
   "cell_type": "markdown",
   "metadata": {},
   "source": [
    "### Ex 1. Data: 1. Download the census data file from UCI Machine Learning repository http://archive.ics.uci.edu/ml/machine-learningdatabases/haberman/\n",
    "### 2. Identify target variable and independent variable.\n",
    "### 3. Prepare the data file"
   ]
  },
  {
   "cell_type": "code",
   "execution_count": 2,
   "metadata": {
    "collapsed": true
   },
   "outputs": [],
   "source": [
    "data = pd.read_csv(\"survival_data.csv\")"
   ]
  },
  {
   "cell_type": "code",
   "execution_count": 3,
   "metadata": {},
   "outputs": [
    {
     "data": {
      "text/html": [
       "<div>\n",
       "<style>\n",
       "    .dataframe thead tr:only-child th {\n",
       "        text-align: right;\n",
       "    }\n",
       "\n",
       "    .dataframe thead th {\n",
       "        text-align: left;\n",
       "    }\n",
       "\n",
       "    .dataframe tbody tr th {\n",
       "        vertical-align: top;\n",
       "    }\n",
       "</style>\n",
       "<table border=\"1\" class=\"dataframe\">\n",
       "  <thead>\n",
       "    <tr style=\"text-align: right;\">\n",
       "      <th></th>\n",
       "      <th>Age</th>\n",
       "      <th>Year</th>\n",
       "      <th>Axillary Nodes</th>\n",
       "      <th>Survival Status</th>\n",
       "    </tr>\n",
       "  </thead>\n",
       "  <tbody>\n",
       "    <tr>\n",
       "      <th>0</th>\n",
       "      <td>30</td>\n",
       "      <td>64</td>\n",
       "      <td>1</td>\n",
       "      <td>1</td>\n",
       "    </tr>\n",
       "    <tr>\n",
       "      <th>1</th>\n",
       "      <td>30</td>\n",
       "      <td>62</td>\n",
       "      <td>3</td>\n",
       "      <td>1</td>\n",
       "    </tr>\n",
       "    <tr>\n",
       "      <th>2</th>\n",
       "      <td>30</td>\n",
       "      <td>65</td>\n",
       "      <td>0</td>\n",
       "      <td>1</td>\n",
       "    </tr>\n",
       "    <tr>\n",
       "      <th>3</th>\n",
       "      <td>31</td>\n",
       "      <td>59</td>\n",
       "      <td>2</td>\n",
       "      <td>1</td>\n",
       "    </tr>\n",
       "    <tr>\n",
       "      <th>4</th>\n",
       "      <td>31</td>\n",
       "      <td>65</td>\n",
       "      <td>4</td>\n",
       "      <td>1</td>\n",
       "    </tr>\n",
       "  </tbody>\n",
       "</table>\n",
       "</div>"
      ],
      "text/plain": [
       "   Age  Year  Axillary Nodes  Survival Status\n",
       "0   30    64               1                1\n",
       "1   30    62               3                1\n",
       "2   30    65               0                1\n",
       "3   31    59               2                1\n",
       "4   31    65               4                1"
      ]
     },
     "execution_count": 3,
     "metadata": {},
     "output_type": "execute_result"
    }
   ],
   "source": [
    "data.head()"
   ]
  },
  {
   "cell_type": "code",
   "execution_count": 4,
   "metadata": {
    "collapsed": true
   },
   "outputs": [],
   "source": [
    "#2. Identify target variable and independent variable.\n",
    "independent_variable = [\"Age\",\"Year\",\"Axillary Nodes\"] \n",
    "Feature = data[independent_variable]\n",
    "Target = data[\"Survival Status\"]"
   ]
  },
  {
   "cell_type": "markdown",
   "metadata": {},
   "source": [
    "### Prepare the data file"
   ]
  },
  {
   "cell_type": "code",
   "execution_count": 5,
   "metadata": {},
   "outputs": [
    {
     "name": "stdout",
     "output_type": "stream",
     "text": [
      "<class 'pandas.core.frame.DataFrame'>\n",
      "RangeIndex: 306 entries, 0 to 305\n",
      "Data columns (total 4 columns):\n",
      "Age                306 non-null int64\n",
      "Year               306 non-null int64\n",
      "Axillary Nodes     306 non-null int64\n",
      "Survival Status    306 non-null int64\n",
      "dtypes: int64(4)\n",
      "memory usage: 9.6 KB\n"
     ]
    }
   ],
   "source": [
    "# Found Survival Status as Int, It should be Categorical\n",
    "data.info() "
   ]
  },
  {
   "cell_type": "code",
   "execution_count": 6,
   "metadata": {
    "collapsed": true
   },
   "outputs": [],
   "source": [
    "data[\"Survival Status\"] = data[\"Survival Status\"].astype(\"O\")"
   ]
  },
  {
   "cell_type": "code",
   "execution_count": 7,
   "metadata": {},
   "outputs": [
    {
     "name": "stdout",
     "output_type": "stream",
     "text": [
      "<class 'pandas.core.frame.DataFrame'>\n",
      "RangeIndex: 306 entries, 0 to 305\n",
      "Data columns (total 4 columns):\n",
      "Age                306 non-null int64\n",
      "Year               306 non-null int64\n",
      "Axillary Nodes     306 non-null int64\n",
      "Survival Status    306 non-null object\n",
      "dtypes: int64(3), object(1)\n",
      "memory usage: 9.6+ KB\n"
     ]
    }
   ],
   "source": [
    "data.info()"
   ]
  },
  {
   "cell_type": "code",
   "execution_count": 8,
   "metadata": {},
   "outputs": [
    {
     "data": {
      "text/plain": [
       "Age                False\n",
       "Year               False\n",
       "Axillary Nodes     False\n",
       "Survival Status    False\n",
       "dtype: bool"
      ]
     },
     "execution_count": 8,
     "metadata": {},
     "output_type": "execute_result"
    }
   ],
   "source": [
    "data.isnull().any() # Found NO Missing Values"
   ]
  },
  {
   "cell_type": "code",
   "execution_count": 9,
   "metadata": {},
   "outputs": [
    {
     "name": "stdout",
     "output_type": "stream",
     "text": [
      "Number of rows: 306\n",
      "Number of columns: 4\n",
      "Columns: Age, Year, Axillary Nodes, Survival Status\n",
      "Target variable distribution\n",
      "1    225\n",
      "2     81\n",
      "Name: Survival Status, dtype: int64\n",
      "**************************************************\n",
      "1    0.735294\n",
      "2    0.264706\n",
      "Name: Survival Status, dtype: float64\n"
     ]
    }
   ],
   "source": [
    "print(\"Number of rows: \" + str(data.shape[0]))\n",
    "print(\"Number of columns: \" + str(data.shape[1]))\n",
    "print(\"Columns: \" + \", \".join(data.columns))\n",
    "\n",
    "print(\"Target variable distribution\")\n",
    "print(data.iloc[:,-1].value_counts())\n",
    "print(\"*\"*50)\n",
    "print(data.iloc[:,-1].value_counts(normalize = True))"
   ]
  },
  {
   "cell_type": "code",
   "execution_count": 10,
   "metadata": {},
   "outputs": [
    {
     "data": {
      "text/plain": [
       "<matplotlib.axes._subplots.AxesSubplot at 0xa1e54a8>"
      ]
     },
     "execution_count": 10,
     "metadata": {},
     "output_type": "execute_result"
    },
    {
     "data": {
      "image/png": "[encoded data removed]",
      "text/plain": [
       "<matplotlib.figure.Figure at 0xa192c88>"
      ]
     },
     "metadata": {},
     "output_type": "display_data"
    }
   ],
   "source": [
    "data.iloc[:,-1].value_counts().plot(kind = \"bar\")"
   ]
  },
  {
   "cell_type": "markdown",
   "metadata": {},
   "source": [
    "### Ex 2. Import relevant python libraries and sklearn KNN model"
   ]
  },
  {
   "cell_type": "code",
   "execution_count": 11,
   "metadata": {},
   "outputs": [
    {
     "name": "stderr",
     "output_type": "stream",
     "text": [
      "C:\\Users\\Pawan\\Anaconda3\\lib\\site-packages\\sklearn\\cross_validation.py:44: DeprecationWarning: This module was deprecated in version 0.18 in favor of the model_selection module into which all the refactored classes and functions are moved. Also note that the interface of the new CV iterators are different from that of this module. This module will be removed in 0.20.\n",
      "  \"This module will be removed in 0.20.\", DeprecationWarning)\n"
     ]
    }
   ],
   "source": [
    "import sklearn\n",
    "from sklearn import preprocessing, cross_validation\n",
    "from sklearn.neighbors import KNeighborsClassifier"
   ]
  },
  {
   "cell_type": "markdown",
   "metadata": {},
   "source": [
    "### Ex 3. Split the file into train [80%] and test [20%] data"
   ]
  },
  {
   "cell_type": "code",
   "execution_count": 12,
   "metadata": {
    "collapsed": true
   },
   "outputs": [],
   "source": [
    "x_train,x_test,y_train,y_test = cross_validation.train_test_split(Feature,Target,test_size=0.40,random_state = 3)"
   ]
  },
  {
   "cell_type": "markdown",
   "metadata": {},
   "source": [
    "### Ex 4. Apply KNN algorithm"
   ]
  },
  {
   "cell_type": "code",
   "execution_count": 13,
   "metadata": {},
   "outputs": [
    {
     "name": "stdout",
     "output_type": "stream",
     "text": [
      "Accuracy with training dataset  0.978142076503 K_value:  1\n",
      "Accuracy with testing dataset   0.723577235772 K_value:  1\n",
      "Accuracy with training dataset  0.808743169399 K_value:  2\n",
      "Accuracy with testing dataset   0.780487804878 K_value:  2\n",
      "Accuracy with training dataset  0.808743169399 K_value:  3\n",
      "Accuracy with testing dataset   0.772357723577 K_value:  3\n",
      "Accuracy with training dataset  0.75956284153 K_value:  4\n",
      "Accuracy with testing dataset   0.772357723577 K_value:  4\n",
      "Accuracy with training dataset  0.792349726776 K_value:  5\n",
      "Accuracy with testing dataset   0.780487804878 K_value:  5\n",
      "Accuracy with training dataset  0.75956284153 K_value:  6\n",
      "Accuracy with testing dataset   0.780487804878 K_value:  6\n",
      "Accuracy with training dataset  0.748633879781 K_value:  7\n",
      "Accuracy with testing dataset   0.780487804878 K_value:  7\n",
      "Accuracy with training dataset  0.732240437158 K_value:  8\n",
      "Accuracy with testing dataset   0.788617886179 K_value:  8\n",
      "Accuracy with training dataset  0.732240437158 K_value:  9\n",
      "Accuracy with testing dataset   0.80487804878 K_value:  9\n",
      "Accuracy with training dataset  0.737704918033 K_value:  10\n",
      "Accuracy with testing dataset   0.788617886179 K_value:  10\n",
      "Accuracy with training dataset  0.732240437158 K_value:  11\n",
      "Accuracy with testing dataset   0.788617886179 K_value:  11\n",
      "Accuracy with training dataset  0.72131147541 K_value:  12\n",
      "Accuracy with testing dataset   0.788617886179 K_value:  12\n",
      "Accuracy with training dataset  0.732240437158 K_value:  13\n",
      "Accuracy with testing dataset   0.780487804878 K_value:  13\n",
      "Accuracy with training dataset  0.732240437158 K_value:  14\n",
      "Accuracy with testing dataset   0.788617886179 K_value:  14\n",
      "Accuracy with training dataset  0.726775956284 K_value:  15\n",
      "Accuracy with testing dataset   0.780487804878 K_value:  15\n"
     ]
    }
   ],
   "source": [
    "for Kvalue in range(15): # Lets try with different K Values.\n",
    "  Kvalue +=1\n",
    "  knn = KNeighborsClassifier(n_neighbors = Kvalue)\n",
    "  knn.fit(x_train,y_train)          # Ex 5. Train the model using the training set\n",
    "  prediction = knn.predict(x_test)   #Ex 6. Predict using test data\n",
    "  print(\"Accuracy with training dataset \", knn.score(x_train,y_train), \"K_value: \", Kvalue) # Ex 7. Perform Accuracy check with train data\n",
    "  print(\"Accuracy with testing dataset  \", knn.score(x_test,y_test), \"K_value: \", Kvalue) # Ex 7. Perform Accuracy check with test data"
   ]
  },
  {
   "cell_type": "markdown",
   "metadata": {},
   "source": [
    "### After changing the K values, I can see that K = 9 gave me best Accuracy with train model i.e. with test data set.\n",
    "#### Accuracy with training dataset  0.732240437158 K_value:  9\n",
    "#### Accuracy with testing dataset   0.80487804878 K_value:  9"
   ]
  },
  {
   "cell_type": "code",
   "execution_count": null,
   "metadata": {
    "collapsed": true
   },
   "outputs": [],
   "source": []
  }
 ],
 "metadata": {
  "kernelspec": {
   "display_name": "Python 3",
   "language": "python",
   "name": "python3"
  },
  "language_info": {
   "codemirror_mode": {
    "name": "ipython",
    "version": 3
   },
   "file_extension": ".py",
   "mimetype": "text/x-python",
   "name": "python",
   "nbconvert_exporter": "python",
   "pygments_lexer": "ipython3",
   "version": "3.6.1"
  }
 },
 "nbformat": 4,
 "nbformat_minor": 2
}
