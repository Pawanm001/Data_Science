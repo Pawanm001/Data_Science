{
 "cells": [
  {
   "cell_type": "markdown",
   "metadata": {},
   "source": [
    "### 3. Write a program to receive a string from keybord and check if the string has two 'e' in the characters.If yes return True else False.\n"
   ]
  },
  {
   "cell_type": "code",
   "execution_count": 1,
   "metadata": {},
   "outputs": [
    {
     "name": "stdout",
     "output_type": "stream",
     "text": [
      "Enter string: Hello eric\n",
      "True\n"
     ]
    }
   ],
   "source": [
    "a=input(\"Enter string: \")\n",
    "b = a.count('e')\n",
    "if b==2:\n",
    "    print('True')\n",
    "else:\n",
    "    print('False')\n"
   ]
  },
  {
   "cell_type": "markdown",
   "metadata": {},
   "source": [
    "### 5.\tWrite a code to read  the data from  input file called input.txt and count the number of characters per line, number of words per line and write these into output file called as output.txt "
   ]
  },
  {
   "cell_type": "code",
   "execution_count": 14,
   "metadata": {},
   "outputs": [
    {
     "data": {
      "text/plain": [
       "['Hello Pawan.\\n', 'Welcome to Machine Learning.']"
      ]
     },
     "execution_count": 14,
     "metadata": {},
     "output_type": "execute_result"
    }
   ],
   "source": [
    "val = open('input.txt','r')\n",
    "line = val.readlines()\n",
    "str(line)\n",
    "line"
   ]
  },
  {
   "cell_type": "code",
   "execution_count": 3,
   "metadata": {},
   "outputs": [
    {
     "ename": "IndentationError",
     "evalue": "expected an indented block (<ipython-input-3-6f1f0d78ec8e>, line 3)",
     "output_type": "error",
     "traceback": [
      "\u001b[1;36m  File \u001b[1;32m\"<ipython-input-3-6f1f0d78ec8e>\"\u001b[1;36m, line \u001b[1;32m3\u001b[0m\n\u001b[1;33m    word_count = len(line.split(\" \"))\u001b[0m\n\u001b[1;37m             ^\u001b[0m\n\u001b[1;31mIndentationError\u001b[0m\u001b[1;31m:\u001b[0m expected an indented block\n"
     ]
    }
   ],
   "source": [
    "while line:\n",
    "    #counting words\n",
    "word_count = len(line.split(\" \"))\n",
    "    #counting characters\n",
    "char_count = len(line)\n",
    "    #writing to file\n",
    "out.write(str(char_count))\n",
    "out.write(\"                \")\n",
    "out.write(str(word_count))\n",
    "out.write(\"\\n\")\n",
    "\n",
    "line = val.readline()\n",
    "#closing readed and writed files\n",
    "val.close()\n",
    "out.close()\n"
   ]
  },
  {
   "cell_type": "code",
   "execution_count": null,
   "metadata": {
    "collapsed": true
   },
   "outputs": [],
   "source": []
  }
 ],
 "metadata": {
  "kernelspec": {
   "display_name": "Python 3",
   "language": "python",
   "name": "python3"
  },
  "language_info": {
   "codemirror_mode": {
    "name": "ipython",
    "version": 3
   },
   "file_extension": ".py",
   "mimetype": "text/x-python",
   "name": "python",
   "nbconvert_exporter": "python",
   "pygments_lexer": "ipython3",
   "version": "3.6.1"
  }
 },
 "nbformat": 4,
 "nbformat_minor": 2
}
