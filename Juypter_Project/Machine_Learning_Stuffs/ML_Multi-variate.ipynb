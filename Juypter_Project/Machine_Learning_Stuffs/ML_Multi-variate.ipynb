{
 "cells": [
  {
   "cell_type": "code",
   "execution_count": 29,
   "metadata": {
    "collapsed": true
   },
   "outputs": [],
   "source": [
    "import numpy as np\n",
    "import pandas as pd\n",
    "import matplotlib.pyplot as plt"
   ]
  },
  {
   "cell_type": "code",
   "execution_count": 30,
   "metadata": {},
   "outputs": [
    {
     "data": {
      "text/html": [
       "<div>\n",
       "<style scoped>\n",
       "    .dataframe tbody tr th:only-of-type {\n",
       "        vertical-align: middle;\n",
       "    }\n",
       "\n",
       "    .dataframe tbody tr th {\n",
       "        vertical-align: top;\n",
       "    }\n",
       "\n",
       "    .dataframe thead th {\n",
       "        text-align: right;\n",
       "    }\n",
       "</style>\n",
       "<table border=\"1\" class=\"dataframe\">\n",
       "  <thead>\n",
       "    <tr style=\"text-align: right;\">\n",
       "      <th></th>\n",
       "      <th>mpg</th>\n",
       "      <th>cylinders</th>\n",
       "      <th>displacement</th>\n",
       "      <th>horsepower</th>\n",
       "      <th>weight</th>\n",
       "      <th>acceleration</th>\n",
       "      <th>model_year</th>\n",
       "    </tr>\n",
       "  </thead>\n",
       "  <tbody>\n",
       "    <tr>\n",
       "      <th>0</th>\n",
       "      <td>18.0</td>\n",
       "      <td>8</td>\n",
       "      <td>307.0</td>\n",
       "      <td>130</td>\n",
       "      <td>3504</td>\n",
       "      <td>12.0</td>\n",
       "      <td>70</td>\n",
       "    </tr>\n",
       "    <tr>\n",
       "      <th>1</th>\n",
       "      <td>15.0</td>\n",
       "      <td>8</td>\n",
       "      <td>350.0</td>\n",
       "      <td>165</td>\n",
       "      <td>3693</td>\n",
       "      <td>11.5</td>\n",
       "      <td>70</td>\n",
       "    </tr>\n",
       "    <tr>\n",
       "      <th>2</th>\n",
       "      <td>18.0</td>\n",
       "      <td>8</td>\n",
       "      <td>318.0</td>\n",
       "      <td>150</td>\n",
       "      <td>3436</td>\n",
       "      <td>11.0</td>\n",
       "      <td>70</td>\n",
       "    </tr>\n",
       "    <tr>\n",
       "      <th>3</th>\n",
       "      <td>16.0</td>\n",
       "      <td>8</td>\n",
       "      <td>304.0</td>\n",
       "      <td>150</td>\n",
       "      <td>3433</td>\n",
       "      <td>12.0</td>\n",
       "      <td>70</td>\n",
       "    </tr>\n",
       "    <tr>\n",
       "      <th>4</th>\n",
       "      <td>17.0</td>\n",
       "      <td>8</td>\n",
       "      <td>302.0</td>\n",
       "      <td>140</td>\n",
       "      <td>3449</td>\n",
       "      <td>10.5</td>\n",
       "      <td>70</td>\n",
       "    </tr>\n",
       "  </tbody>\n",
       "</table>\n",
       "</div>"
      ],
      "text/plain": [
       "    mpg  cylinders  displacement  horsepower  weight  acceleration  model_year\n",
       "0  18.0          8         307.0         130    3504          12.0          70\n",
       "1  15.0          8         350.0         165    3693          11.5          70\n",
       "2  18.0          8         318.0         150    3436          11.0          70\n",
       "3  16.0          8         304.0         150    3433          12.0          70\n",
       "4  17.0          8         302.0         140    3449          10.5          70"
      ]
     },
     "execution_count": 30,
     "metadata": {},
     "output_type": "execute_result"
    }
   ],
   "source": [
    "df=pd.read_csv('auto-mpg.csv',sep=',',index_col=None)\n",
    "df.head()\n"
   ]
  },
  {
   "cell_type": "code",
   "execution_count": 31,
   "metadata": {
    "collapsed": true
   },
   "outputs": [],
   "source": [
    "model=pd.DataFrame(df,columns=['mpg','acceleration'])\n",
    "points=model\n",
    "points=points.reset_index().values"
   ]
  },
  {
   "cell_type": "code",
   "execution_count": 32,
   "metadata": {
    "collapsed": true
   },
   "outputs": [],
   "source": [
    "learningrate=0.0001\n",
    "initial_c=0\n",
    "initial_m=0\n",
    "num_iterations=1400"
   ]
  },
  {
   "cell_type": "code",
   "execution_count": 33,
   "metadata": {
    "collapsed": true
   },
   "outputs": [],
   "source": [
    "def compute_error_for_line_given_points(c,m,points):\n",
    "    totalError=0\n",
    "    for i in range(0,len(points)):\n",
    "        x=points[i,2]\n",
    "        y=points[i,1]\n",
    "        totalError += (y-(m*x+c))**2\n",
    "    return totalError/float(len(points))"
   ]
  },
  {
   "cell_type": "code",
   "execution_count": 34,
   "metadata": {
    "collapsed": true
   },
   "outputs": [],
   "source": [
    "def step_gradient(c_current,m_current,points,learningRate):\n",
    "    c_gradient=0\n",
    "    m_gradient=0\n",
    "    n=float(len(points))\n",
    "    for i in range(0,len(points)):\n",
    "        x=points[i,2]\n",
    "        y=points[i,1]\n",
    "        c_gradient += -(2/n)*(y-((m_current*x)+c_current))\n",
    "        m_gradient += -(2/n)*x*(y-((m_current*x)+c_current))\n",
    "    new_c=c_current-(learningRate*c_gradient)\n",
    "    new_m=m_current-(learningRate*m_gradient)\n",
    "    return (new_c,new_m)"
   ]
  },
  {
   "cell_type": "code",
   "execution_count": 35,
   "metadata": {
    "collapsed": true
   },
   "outputs": [],
   "source": [
    "def gradient_descent_runner(points,starting_c,starting_m,learningRate,num_iterations):\n",
    "    c=starting_c\n",
    "    m=starting_m\n",
    "    for i in range(num_iterations):\n",
    "        c,m=step_gradient(c,m,points,learningRate)\n",
    "    return (c,m)"
   ]
  },
  {
   "cell_type": "code",
   "execution_count": 36,
   "metadata": {},
   "outputs": [
    {
     "name": "stdout",
     "output_type": "stream",
     "text": [
      "starting gradient descent at c=0,m=0,error=613.871256281\n"
     ]
    }
   ],
   "source": [
    "print \"starting gradient descent at c={0},m={1},error={2}\".format(initial_c,initial_m,compute_error_for_line_given_points(initial_c,initial_m,points))"
   ]
  },
  {
   "cell_type": "code",
   "execution_count": 37,
   "metadata": {},
   "outputs": [
    {
     "name": "stdout",
     "output_type": "stream",
     "text": [
      "After 1400 iterations c = 0.134231660908, m = 1.49242160054, error = 50.8818322887\n"
     ]
    }
   ],
   "source": [
    "[c,m]=gradient_descent_runner(points,initial_c,initial_m,learningrate,num_iterations)\n",
    "print \"After {0} iterations c = {1}, m = {2}, error = {3}\".format(num_iterations, c, m, compute_error_for_line_given_points(c, m, points))"
   ]
  },
  {
   "cell_type": "code",
   "execution_count": 38,
   "metadata": {},
   "outputs": [
    {
     "data": {
      "image/png": "[encoded data removed]",
      "text/plain": [
       "<matplotlib.figure.Figure at 0xb6e2d30>"
      ]
     },
     "metadata": {},
     "output_type": "display_data"
    }
   ],
   "source": [
    "for i in range (0,len(points)):\n",
    "    x=points[i,2]\n",
    "    y=points[i,1]\n",
    "    plt.scatter(x,y,color='black')\n",
    "    plt.plot(model.acceleration,(m*model.acceleration+c),color='red',linewidth=3)"
   ]
  },
  {
   "cell_type": "code",
   "execution_count": 39,
   "metadata": {},
   "outputs": [
    {
     "name": "stdout",
     "output_type": "stream",
     "text": [
      "y = 1.49242160054x + 0.134231660908\n"
     ]
    }
   ],
   "source": [
    "print 'y = {0}x + {1}'.format(m,c)"
   ]
  },
  {
   "cell_type": "code",
   "execution_count": null,
   "metadata": {
    "collapsed": true
   },
   "outputs": [],
   "source": []
  }
 ],
 "metadata": {
  "kernelspec": {
   "display_name": "Python 3",
   "language": "python",
   "name": "python3"
  },
  "language_info": {
   "codemirror_mode": {
    "name": "ipython",
    "version": 3
   },
   "file_extension": ".py",
   "mimetype": "text/x-python",
   "name": "python",
   "nbconvert_exporter": "python",
   "pygments_lexer": "ipython3",
   "version": "3.6.1"
  }
 },
 "nbformat": 4,
 "nbformat_minor": 2
}
