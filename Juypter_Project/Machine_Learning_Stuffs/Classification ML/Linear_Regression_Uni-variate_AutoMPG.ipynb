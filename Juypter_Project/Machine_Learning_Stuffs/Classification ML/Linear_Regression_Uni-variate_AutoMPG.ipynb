{
 "cells": [
  {
   "cell_type": "code",
   "execution_count": 1,
   "metadata": {
    "collapsed": true
   },
   "outputs": [],
   "source": [
    "import pandas as pd\n",
    "import matplotlib.pyplot as plt\n",
    "import numpy as np\n",
    "%matplotlib inline\n",
    "from sklearn import linear_model\n",
    "import random"
   ]
  },
  {
   "cell_type": "code",
   "execution_count": 2,
   "metadata": {
    "collapsed": true
   },
   "outputs": [],
   "source": [
    "df = pd.read_csv('auto-mpg.data',header=None, delimiter=r\"\\s+\")"
   ]
  },
  {
   "cell_type": "code",
   "execution_count": 3,
   "metadata": {},
   "outputs": [
    {
     "data": {
      "text/html": [
       "<div>\n",
       "<style>\n",
       "    .dataframe thead tr:only-child th {\n",
       "        text-align: right;\n",
       "    }\n",
       "\n",
       "    .dataframe thead th {\n",
       "        text-align: left;\n",
       "    }\n",
       "\n",
       "    .dataframe tbody tr th {\n",
       "        vertical-align: top;\n",
       "    }\n",
       "</style>\n",
       "<table border=\"1\" class=\"dataframe\">\n",
       "  <thead>\n",
       "    <tr style=\"text-align: right;\">\n",
       "      <th></th>\n",
       "      <th>0</th>\n",
       "      <th>1</th>\n",
       "      <th>2</th>\n",
       "      <th>3</th>\n",
       "      <th>4</th>\n",
       "      <th>5</th>\n",
       "      <th>6</th>\n",
       "      <th>7</th>\n",
       "      <th>8</th>\n",
       "    </tr>\n",
       "  </thead>\n",
       "  <tbody>\n",
       "    <tr>\n",
       "      <th>0</th>\n",
       "      <td>18.0</td>\n",
       "      <td>8</td>\n",
       "      <td>307.0</td>\n",
       "      <td>130.0</td>\n",
       "      <td>3504.0</td>\n",
       "      <td>12.0</td>\n",
       "      <td>70</td>\n",
       "      <td>1</td>\n",
       "      <td>chevrolet chevelle malibu</td>\n",
       "    </tr>\n",
       "    <tr>\n",
       "      <th>1</th>\n",
       "      <td>15.0</td>\n",
       "      <td>8</td>\n",
       "      <td>350.0</td>\n",
       "      <td>165.0</td>\n",
       "      <td>3693.0</td>\n",
       "      <td>11.5</td>\n",
       "      <td>70</td>\n",
       "      <td>1</td>\n",
       "      <td>buick skylark 320</td>\n",
       "    </tr>\n",
       "    <tr>\n",
       "      <th>2</th>\n",
       "      <td>18.0</td>\n",
       "      <td>8</td>\n",
       "      <td>318.0</td>\n",
       "      <td>150.0</td>\n",
       "      <td>3436.0</td>\n",
       "      <td>11.0</td>\n",
       "      <td>70</td>\n",
       "      <td>1</td>\n",
       "      <td>plymouth satellite</td>\n",
       "    </tr>\n",
       "    <tr>\n",
       "      <th>3</th>\n",
       "      <td>16.0</td>\n",
       "      <td>8</td>\n",
       "      <td>304.0</td>\n",
       "      <td>150.0</td>\n",
       "      <td>3433.0</td>\n",
       "      <td>12.0</td>\n",
       "      <td>70</td>\n",
       "      <td>1</td>\n",
       "      <td>amc rebel sst</td>\n",
       "    </tr>\n",
       "    <tr>\n",
       "      <th>4</th>\n",
       "      <td>17.0</td>\n",
       "      <td>8</td>\n",
       "      <td>302.0</td>\n",
       "      <td>140.0</td>\n",
       "      <td>3449.0</td>\n",
       "      <td>10.5</td>\n",
       "      <td>70</td>\n",
       "      <td>1</td>\n",
       "      <td>ford torino</td>\n",
       "    </tr>\n",
       "  </tbody>\n",
       "</table>\n",
       "</div>"
      ],
      "text/plain": [
       "      0  1      2      3       4     5   6  7                          8\n",
       "0  18.0  8  307.0  130.0  3504.0  12.0  70  1  chevrolet chevelle malibu\n",
       "1  15.0  8  350.0  165.0  3693.0  11.5  70  1          buick skylark 320\n",
       "2  18.0  8  318.0  150.0  3436.0  11.0  70  1         plymouth satellite\n",
       "3  16.0  8  304.0  150.0  3433.0  12.0  70  1              amc rebel sst\n",
       "4  17.0  8  302.0  140.0  3449.0  10.5  70  1                ford torino"
      ]
     },
     "execution_count": 3,
     "metadata": {},
     "output_type": "execute_result"
    }
   ],
   "source": [
    "df.head()"
   ]
  },
  {
   "cell_type": "code",
   "execution_count": 4,
   "metadata": {},
   "outputs": [
    {
     "data": {
      "text/html": [
       "<div>\n",
       "<style>\n",
       "    .dataframe thead tr:only-child th {\n",
       "        text-align: right;\n",
       "    }\n",
       "\n",
       "    .dataframe thead th {\n",
       "        text-align: left;\n",
       "    }\n",
       "\n",
       "    .dataframe tbody tr th {\n",
       "        vertical-align: top;\n",
       "    }\n",
       "</style>\n",
       "<table border=\"1\" class=\"dataframe\">\n",
       "  <thead>\n",
       "    <tr style=\"text-align: right;\">\n",
       "      <th></th>\n",
       "      <th>0</th>\n",
       "      <th>5</th>\n",
       "    </tr>\n",
       "  </thead>\n",
       "  <tbody>\n",
       "    <tr>\n",
       "      <th>0</th>\n",
       "      <td>18.0</td>\n",
       "      <td>12.0</td>\n",
       "    </tr>\n",
       "    <tr>\n",
       "      <th>1</th>\n",
       "      <td>15.0</td>\n",
       "      <td>11.5</td>\n",
       "    </tr>\n",
       "    <tr>\n",
       "      <th>2</th>\n",
       "      <td>18.0</td>\n",
       "      <td>11.0</td>\n",
       "    </tr>\n",
       "    <tr>\n",
       "      <th>3</th>\n",
       "      <td>16.0</td>\n",
       "      <td>12.0</td>\n",
       "    </tr>\n",
       "    <tr>\n",
       "      <th>4</th>\n",
       "      <td>17.0</td>\n",
       "      <td>10.5</td>\n",
       "    </tr>\n",
       "  </tbody>\n",
       "</table>\n",
       "</div>"
      ],
      "text/plain": [
       "      0     5\n",
       "0  18.0  12.0\n",
       "1  15.0  11.5\n",
       "2  18.0  11.0\n",
       "3  16.0  12.0\n",
       "4  17.0  10.5"
      ]
     },
     "execution_count": 4,
     "metadata": {},
     "output_type": "execute_result"
    }
   ],
   "source": [
    "# Load MPG and acceleration\n",
    "model = pd.DataFrame(df, columns = [0, 5])\n",
    "model[:5]"
   ]
  },
  {
   "cell_type": "code",
   "execution_count": 5,
   "metadata": {
    "collapsed": true
   },
   "outputs": [],
   "source": [
    "train_split = 0.8\n",
    "df_X_train = []\n",
    "df_X_test = []\n",
    "df_Y_train = []\n",
    "df_Y_test = []\n",
    "\n",
    "for i in range(len(model)):\n",
    "    if random.random() <= train_split:\n",
    "        df_X_train.append(model[5][i])\n",
    "        df_Y_train.append(model[0][i])\n",
    "    else:\n",
    "        df_X_test.append(model[5][i])\n",
    "        df_Y_test.append(model[0][i])"
   ]
  },
  {
   "cell_type": "code",
   "execution_count": 6,
   "metadata": {
    "collapsed": true
   },
   "outputs": [],
   "source": [
    "regr = linear_model.LinearRegression()"
   ]
  },
  {
   "cell_type": "code",
   "execution_count": 7,
   "metadata": {},
   "outputs": [
    {
     "name": "stdout",
     "output_type": "stream",
     "text": [
      "(311, 1) (311, 1) (87, 1) (87, 1)\n"
     ]
    }
   ],
   "source": [
    "df_X_train = np.array(pd.DataFrame(df_X_train))\n",
    "df_Y_train = np.array(pd.DataFrame(df_Y_train))\n",
    "df_X_test = np.array(pd.DataFrame(df_X_test))\n",
    "df_Y_test = np.array(pd.DataFrame(df_Y_test))\n",
    "df_X_train = np.array(np.array(df_X_train))\n",
    "\n",
    "print(df_X_train.shape, df_Y_train.shape, df_X_test.shape, df_Y_test.shape)"
   ]
  },
  {
   "cell_type": "code",
   "execution_count": 8,
   "metadata": {},
   "outputs": [
    {
     "name": "stdout",
     "output_type": "stream",
     "text": [
      "(311, 1) (311, 1) (87, 1) (87, 1)\n"
     ]
    }
   ],
   "source": [
    "df_X_train = df_X_train.reshape(len(df_X_train),1)\n",
    "df_Y_train = df_Y_train.reshape(len(df_Y_train),1)\n",
    "df_X_test = df_X_test.reshape(len(df_X_test),1)\n",
    "df_Y_test = df_Y_test.reshape(len(df_Y_test),1)\n",
    "print(df_X_train.shape, df_Y_train.shape, df_X_test.shape, df_Y_test.shape)"
   ]
  },
  {
   "cell_type": "code",
   "execution_count": 9,
   "metadata": {},
   "outputs": [
    {
     "data": {
      "text/plain": [
       "LinearRegression(copy_X=True, fit_intercept=True, n_jobs=1, normalize=False)"
      ]
     },
     "execution_count": 9,
     "metadata": {},
     "output_type": "execute_result"
    }
   ],
   "source": [
    "regr.fit(df_X_train,df_Y_train)"
   ]
  },
  {
   "cell_type": "code",
   "execution_count": 10,
   "metadata": {},
   "outputs": [
    {
     "name": "stdout",
     "output_type": "stream",
     "text": [
      "Coefficients: [[ 1.17084487]]  Intercept:  [ 5.34834962]\n"
     ]
    }
   ],
   "source": [
    "print(\"Coefficients:\", regr.coef_, \" Intercept: \", regr.intercept_)"
   ]
  },
  {
   "cell_type": "code",
   "execution_count": 11,
   "metadata": {
    "collapsed": true
   },
   "outputs": [],
   "source": [
    "predict_outcome = regr.predict(df_X_test)"
   ]
  },
  {
   "cell_type": "code",
   "execution_count": 12,
   "metadata": {},
   "outputs": [
    {
     "name": "stdout",
     "output_type": "stream",
     "text": [
      "X_test:  [ 11.5]  Y_test_actual:  [ 15.]  Y_test_predicted:  [ 18.81306564]\n",
      "X_test:  [ 9.]  Y_test_actual:  [ 14.]  Y_test_predicted:  [ 15.88595346]\n",
      "X_test:  [ 12.5]  Y_test_actual:  [ 26.]  Y_test_predicted:  [ 19.98391051]\n",
      "X_test:  [ 14.]  Y_test_actual:  [ 25.]  Y_test_predicted:  [ 21.74017781]\n",
      "X_test:  [ 15.5]  Y_test_actual:  [ 16.]  Y_test_predicted:  [ 23.49644512]\n",
      "X_test:  [ 12.]  Y_test_actual:  [ 14.]  Y_test_predicted:  [ 19.39848807]\n",
      "X_test:  [ 13.5]  Y_test_actual:  [ 14.]  Y_test_predicted:  [ 21.15475538]\n",
      "X_test:  [ 13.5]  Y_test_actual:  [ 18.]  Y_test_predicted:  [ 21.15475538]\n",
      "X_test:  [ 14.5]  Y_test_actual:  [ 30.]  Y_test_predicted:  [ 22.32560025]\n",
      "X_test:  [ 19.]  Y_test_actual:  [ 27.]  Y_test_predicted:  [ 27.59440217]\n",
      "X_test:  [ 20.5]  Y_test_actual:  [ 26.]  Y_test_predicted:  [ 29.35066947]\n",
      "X_test:  [ 13.]  Y_test_actual:  [ 14.]  Y_test_predicted:  [ 20.56933294]\n",
      "X_test:  [ 11.5]  Y_test_actual:  [ 17.]  Y_test_predicted:  [ 18.81306564]\n",
      "X_test:  [ 14.5]  Y_test_actual:  [ 18.]  Y_test_predicted:  [ 22.32560025]\n",
      "X_test:  [ 18.]  Y_test_actual:  [ 26.]  Y_test_predicted:  [ 26.4235573]\n",
      "X_test:  [ 15.]  Y_test_actual:  [ 28.]  Y_test_predicted:  [ 22.91102268]\n",
      "X_test:  [ 16.5]  Y_test_actual:  [ 27.]  Y_test_predicted:  [ 24.66728999]\n",
      "X_test:  [ 12.]  Y_test_actual:  [ 13.]  Y_test_predicted:  [ 19.39848807]\n",
      "X_test:  [ 14.5]  Y_test_actual:  [ 14.]  Y_test_predicted:  [ 22.32560025]\n",
      "X_test:  [ 16.5]  Y_test_actual:  [ 18.]  Y_test_predicted:  [ 24.66728999]\n",
      "X_test:  [ 16.5]  Y_test_actual:  [ 18.]  Y_test_predicted:  [ 24.66728999]\n",
      "X_test:  [ 21.]  Y_test_actual:  [ 26.]  Y_test_predicted:  [ 29.93609191]\n",
      "X_test:  [ 14.]  Y_test_actual:  [ 11.]  Y_test_predicted:  [ 21.74017781]\n",
      "X_test:  [ 13.]  Y_test_actual:  [ 13.]  Y_test_predicted:  [ 20.56933294]\n",
      "X_test:  [ 12.5]  Y_test_actual:  [ 12.]  Y_test_predicted:  [ 19.98391051]\n",
      "X_test:  [ 19.5]  Y_test_actual:  [ 21.]  Y_test_predicted:  [ 28.1798246]\n",
      "X_test:  [ 15.5]  Y_test_actual:  [ 26.]  Y_test_predicted:  [ 23.49644512]\n",
      "X_test:  [ 9.5]  Y_test_actual:  [ 16.]  Y_test_predicted:  [ 16.4713759]\n",
      "X_test:  [ 14.]  Y_test_actual:  [ 24.]  Y_test_predicted:  [ 21.74017781]\n",
      "X_test:  [ 16.]  Y_test_actual:  [ 19.]  Y_test_predicted:  [ 24.08186756]\n",
      "X_test:  [ 21.]  Y_test_actual:  [ 32.]  Y_test_predicted:  [ 29.93609191]\n",
      "X_test:  [ 14.5]  Y_test_actual:  [ 13.]  Y_test_predicted:  [ 22.32560025]\n",
      "X_test:  [ 16.5]  Y_test_actual:  [ 29.]  Y_test_predicted:  [ 24.66728999]\n",
      "X_test:  [ 15.]  Y_test_actual:  [ 24.]  Y_test_predicted:  [ 22.91102268]\n",
      "X_test:  [ 16.]  Y_test_actual:  [ 18.]  Y_test_predicted:  [ 24.08186756]\n",
      "X_test:  [ 13.5]  Y_test_actual:  [ 14.]  Y_test_predicted:  [ 21.15475538]\n",
      "X_test:  [ 15.]  Y_test_actual:  [ 21.]  Y_test_predicted:  [ 22.91102268]\n",
      "X_test:  [ 13.5]  Y_test_actual:  [ 20.]  Y_test_predicted:  [ 21.15475538]\n",
      "X_test:  [ 12.]  Y_test_actual:  [ 13.]  Y_test_predicted:  [ 19.39848807]\n",
      "X_test:  [ 17.]  Y_test_actual:  [ 23.]  Y_test_predicted:  [ 25.25271243]\n",
      "X_test:  [ 17.]  Y_test_actual:  [ 19.]  Y_test_predicted:  [ 25.25271243]\n",
      "X_test:  [ 14.9]  Y_test_actual:  [ 25.]  Y_test_predicted:  [ 22.7939382]\n",
      "X_test:  [ 13.]  Y_test_actual:  [ 16.]  Y_test_predicted:  [ 20.56933294]\n",
      "X_test:  [ 13.9]  Y_test_actual:  [ 15.5]  Y_test_predicted:  [ 21.62309333]\n",
      "X_test:  [ 15.4]  Y_test_actual:  [ 22.]  Y_test_predicted:  [ 23.37936063]\n",
      "X_test:  [ 14.5]  Y_test_actual:  [ 22.]  Y_test_predicted:  [ 22.32560025]\n",
      "X_test:  [ 17.6]  Y_test_actual:  [ 22.5]  Y_test_predicted:  [ 25.95521935]\n",
      "X_test:  [ 17.]  Y_test_actual:  [ 32.]  Y_test_predicted:  [ 25.25271243]\n",
      "X_test:  [ 21.9]  Y_test_actual:  [ 19.]  Y_test_predicted:  [ 30.98985229]\n",
      "X_test:  [ 15.5]  Y_test_actual:  [ 19.]  Y_test_predicted:  [ 23.49644512]\n",
      "X_test:  [ 12.1]  Y_test_actual:  [ 16.5]  Y_test_predicted:  [ 19.51557256]\n",
      "X_test:  [ 15.]  Y_test_actual:  [ 13.]  Y_test_predicted:  [ 22.91102268]\n",
      "X_test:  [ 14.]  Y_test_actual:  [ 13.]  Y_test_predicted:  [ 21.74017781]\n",
      "X_test:  [ 15.5]  Y_test_actual:  [ 25.5]  Y_test_predicted:  [ 23.49644512]\n",
      "X_test:  [ 16.9]  Y_test_actual:  [ 20.5]  Y_test_predicted:  [ 25.13562794]\n",
      "X_test:  [ 12.2]  Y_test_actual:  [ 15.5]  Y_test_predicted:  [ 19.63265705]\n",
      "X_test:  [ 14.5]  Y_test_actual:  [ 16.]  Y_test_predicted:  [ 22.32560025]\n",
      "X_test:  [ 16.]  Y_test_actual:  [ 24.5]  Y_test_predicted:  [ 24.08186756]\n",
      "X_test:  [ 15.9]  Y_test_actual:  [ 33.5]  Y_test_predicted:  [ 23.96478307]\n",
      "X_test:  [ 14.5]  Y_test_actual:  [ 22.]  Y_test_predicted:  [ 22.32560025]\n",
      "X_test:  [ 18.2]  Y_test_actual:  [ 20.5]  Y_test_predicted:  [ 26.65772627]\n",
      "X_test:  [ 13.2]  Y_test_actual:  [ 19.2]  Y_test_predicted:  [ 20.80350192]\n",
      "X_test:  [ 17.6]  Y_test_actual:  [ 23.8]  Y_test_predicted:  [ 25.95521935]\n",
      "X_test:  [ 14.9]  Y_test_actual:  [ 23.9]  Y_test_predicted:  [ 22.7939382]\n",
      "X_test:  [ 16.6]  Y_test_actual:  [ 20.6]  Y_test_predicted:  [ 24.78437448]\n",
      "X_test:  [ 15.4]  Y_test_actual:  [ 17.]  Y_test_predicted:  [ 23.37936063]\n",
      "X_test:  [ 13.4]  Y_test_actual:  [ 17.6]  Y_test_predicted:  [ 21.03767089]\n",
      "X_test:  [ 13.2]  Y_test_actual:  [ 34.2]  Y_test_predicted:  [ 20.80350192]\n",
      "X_test:  [ 14.9]  Y_test_actual:  [ 34.5]  Y_test_predicted:  [ 22.7939382]\n",
      "X_test:  [ 16.]  Y_test_actual:  [ 28.4]  Y_test_predicted:  [ 24.08186756]\n",
      "X_test:  [ 12.9]  Y_test_actual:  [ 26.8]  Y_test_predicted:  [ 20.45224846]\n",
      "X_test:  [ 15.]  Y_test_actual:  [ 37.]  Y_test_predicted:  [ 22.91102268]\n",
      "X_test:  [ 17.3]  Y_test_actual:  [ 40.9]  Y_test_predicted:  [ 25.60396589]\n",
      "X_test:  [ 12.5]  Y_test_actual:  [ 23.7]  Y_test_predicted:  [ 19.98391051]\n",
      "X_test:  [ 15.7]  Y_test_actual:  [ 27.2]  Y_test_predicted:  [ 23.73061409]\n",
      "X_test:  [ 16.9]  Y_test_actual:  [ 39.1]  Y_test_predicted:  [ 25.13562794]\n",
      "X_test:  [ 17.3]  Y_test_actual:  [ 37.7]  Y_test_predicted:  [ 25.60396589]\n",
      "X_test:  [ 19.6]  Y_test_actual:  [ 30.7]  Y_test_predicted:  [ 28.29690909]\n",
      "X_test:  [ 12.6]  Y_test_actual:  [ 25.4]  Y_test_predicted:  [ 20.10099499]\n",
      "X_test:  [ 19.]  Y_test_actual:  [ 26.6]  Y_test_predicted:  [ 27.59440217]\n",
      "X_test:  [ 19.6]  Y_test_actual:  [ 28.]  Y_test_predicted:  [ 28.29690909]\n",
      "X_test:  [ 18.2]  Y_test_actual:  [ 37.]  Y_test_predicted:  [ 26.65772627]\n",
      "X_test:  [ 14.7]  Y_test_actual:  [ 38.]  Y_test_predicted:  [ 22.55976922]\n",
      "X_test:  [ 15.]  Y_test_actual:  [ 38.]  Y_test_predicted:  [ 22.91102268]\n",
      "X_test:  [ 14.5]  Y_test_actual:  [ 26.]  Y_test_predicted:  [ 22.32560025]\n",
      "X_test:  [ 13.]  Y_test_actual:  [ 36.]  Y_test_predicted:  [ 20.56933294]\n",
      "X_test:  [ 19.4]  Y_test_actual:  [ 31.]  Y_test_predicted:  [ 28.06274012]\n"
     ]
    }
   ],
   "source": [
    "for i in range(len(df_X_test)):\n",
    "    print(\"X_test: \", df_X_test[i], \" Y_test_actual: \",  df_Y_test[i], \" Y_test_predicted: \",  predict_outcome[i])"
   ]
  },
  {
   "cell_type": "code",
   "execution_count": 13,
   "metadata": {},
   "outputs": [
    {
     "name": "stdout",
     "output_type": "stream",
     "text": [
      "Mean squared error: 46.1135284635\n"
     ]
    }
   ],
   "source": [
    "MSE = np.mean((predict_outcome - df_Y_test) ** 2)\n",
    "print(\"Mean squared error:\", MSE)"
   ]
  },
  {
   "cell_type": "code",
   "execution_count": 14,
   "metadata": {},
   "outputs": [
    {
     "name": "stdout",
     "output_type": "stream",
     "text": [
      "Variance score: 0.179508838926\n"
     ]
    }
   ],
   "source": [
    "VAR = regr.score(df_X_test, df_Y_test)\n",
    "print('Variance score:', VAR)"
   ]
  },
  {
   "cell_type": "code",
   "execution_count": 15,
   "metadata": {},
   "outputs": [
    {
     "data": {
      "text/plain": [
       "((87, 1), (311, 1), (311, 1), (87, 1))"
      ]
     },
     "execution_count": 15,
     "metadata": {},
     "output_type": "execute_result"
    }
   ],
   "source": [
    "df_X_test.shape,df_X_train.shape,df_Y_train.shape,df_Y_test.shape"
   ]
  },
  {
   "cell_type": "code",
   "execution_count": 16,
   "metadata": {},
   "outputs": [
    {
     "data": {
      "text/plain": [
       "[<matplotlib.lines.Line2D at 0xb460e10>]"
      ]
     },
     "execution_count": 16,
     "metadata": {},
     "output_type": "execute_result"
    },
    {
     "data": {
      "image/png": "[encoded data removed]",
      "text/plain": [
       "<matplotlib.figure.Figure at 0xb460e80>"
      ]
     },
     "metadata": {},
     "output_type": "display_data"
    }
   ],
   "source": [
    "plt.scatter(df_X_test, df_Y_test, color='red')\n",
    "plt.plot(df_X_test, predict_outcome, color='blue', linewidth=3)"
   ]
  },
  {
   "cell_type": "code",
   "execution_count": null,
   "metadata": {
    "collapsed": true
   },
   "outputs": [],
   "source": []
  }
 ],
 "metadata": {
  "kernelspec": {
   "display_name": "Python 3",
   "language": "python",
   "name": "python3"
  },
  "language_info": {
   "codemirror_mode": {
    "name": "ipython",
    "version": 3
   },
   "file_extension": ".py",
   "mimetype": "text/x-python",
   "name": "python",
   "nbconvert_exporter": "python",
   "pygments_lexer": "ipython3",
   "version": "3.6.1"
  }
 },
 "nbformat": 4,
 "nbformat_minor": 2
}
