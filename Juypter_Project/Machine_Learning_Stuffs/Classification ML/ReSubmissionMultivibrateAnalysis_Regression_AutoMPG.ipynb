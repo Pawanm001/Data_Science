{
 "cells": [
  {
   "cell_type": "code",
   "execution_count": 1,
   "metadata": {
    "collapsed": true
   },
   "outputs": [],
   "source": [
    "import pandas as pd \n",
    "import numpy as np\n",
    "import matplotlib.pyplot as plt\n",
    "import seaborn as sns\n",
    "%matplotlib inline"
   ]
  },
  {
   "cell_type": "markdown",
   "metadata": {},
   "source": [
    "### 1. Use the downloaded data"
   ]
  },
  {
   "cell_type": "code",
   "execution_count": 2,
   "metadata": {
    "collapsed": true
   },
   "outputs": [],
   "source": [
    "df =pd.read_csv(\"auto-mpg.data\", delim_whitespace=True, names=['mpg','cylinders','displacement','horsepower','weight','acceleration','model year','origin','car_name'])"
   ]
  },
  {
   "cell_type": "code",
   "execution_count": 3,
   "metadata": {},
   "outputs": [
    {
     "data": {
      "text/html": [
       "<div>\n",
       "<style>\n",
       "    .dataframe thead tr:only-child th {\n",
       "        text-align: right;\n",
       "    }\n",
       "\n",
       "    .dataframe thead th {\n",
       "        text-align: left;\n",
       "    }\n",
       "\n",
       "    .dataframe tbody tr th {\n",
       "        vertical-align: top;\n",
       "    }\n",
       "</style>\n",
       "<table border=\"1\" class=\"dataframe\">\n",
       "  <thead>\n",
       "    <tr style=\"text-align: right;\">\n",
       "      <th></th>\n",
       "      <th>mpg</th>\n",
       "      <th>cylinders</th>\n",
       "      <th>displacement</th>\n",
       "      <th>horsepower</th>\n",
       "      <th>weight</th>\n",
       "      <th>acceleration</th>\n",
       "      <th>model year</th>\n",
       "      <th>origin</th>\n",
       "      <th>car_name</th>\n",
       "    </tr>\n",
       "  </thead>\n",
       "  <tbody>\n",
       "    <tr>\n",
       "      <th>0</th>\n",
       "      <td>18.0</td>\n",
       "      <td>8</td>\n",
       "      <td>307.0</td>\n",
       "      <td>130.0</td>\n",
       "      <td>3504.0</td>\n",
       "      <td>12.0</td>\n",
       "      <td>70</td>\n",
       "      <td>1</td>\n",
       "      <td>chevrolet chevelle malibu</td>\n",
       "    </tr>\n",
       "    <tr>\n",
       "      <th>1</th>\n",
       "      <td>15.0</td>\n",
       "      <td>8</td>\n",
       "      <td>350.0</td>\n",
       "      <td>165.0</td>\n",
       "      <td>3693.0</td>\n",
       "      <td>11.5</td>\n",
       "      <td>70</td>\n",
       "      <td>1</td>\n",
       "      <td>buick skylark 320</td>\n",
       "    </tr>\n",
       "    <tr>\n",
       "      <th>2</th>\n",
       "      <td>18.0</td>\n",
       "      <td>8</td>\n",
       "      <td>318.0</td>\n",
       "      <td>150.0</td>\n",
       "      <td>3436.0</td>\n",
       "      <td>11.0</td>\n",
       "      <td>70</td>\n",
       "      <td>1</td>\n",
       "      <td>plymouth satellite</td>\n",
       "    </tr>\n",
       "    <tr>\n",
       "      <th>3</th>\n",
       "      <td>16.0</td>\n",
       "      <td>8</td>\n",
       "      <td>304.0</td>\n",
       "      <td>150.0</td>\n",
       "      <td>3433.0</td>\n",
       "      <td>12.0</td>\n",
       "      <td>70</td>\n",
       "      <td>1</td>\n",
       "      <td>amc rebel sst</td>\n",
       "    </tr>\n",
       "    <tr>\n",
       "      <th>4</th>\n",
       "      <td>17.0</td>\n",
       "      <td>8</td>\n",
       "      <td>302.0</td>\n",
       "      <td>140.0</td>\n",
       "      <td>3449.0</td>\n",
       "      <td>10.5</td>\n",
       "      <td>70</td>\n",
       "      <td>1</td>\n",
       "      <td>ford torino</td>\n",
       "    </tr>\n",
       "  </tbody>\n",
       "</table>\n",
       "</div>"
      ],
      "text/plain": [
       "    mpg  cylinders  displacement horsepower  weight  acceleration  model year  \\\n",
       "0  18.0          8         307.0      130.0  3504.0          12.0          70   \n",
       "1  15.0          8         350.0      165.0  3693.0          11.5          70   \n",
       "2  18.0          8         318.0      150.0  3436.0          11.0          70   \n",
       "3  16.0          8         304.0      150.0  3433.0          12.0          70   \n",
       "4  17.0          8         302.0      140.0  3449.0          10.5          70   \n",
       "\n",
       "   origin                   car_name  \n",
       "0       1  chevrolet chevelle malibu  \n",
       "1       1          buick skylark 320  \n",
       "2       1         plymouth satellite  \n",
       "3       1              amc rebel sst  \n",
       "4       1                ford torino  "
      ]
     },
     "execution_count": 3,
     "metadata": {},
     "output_type": "execute_result"
    }
   ],
   "source": [
    "df.head()"
   ]
  },
  {
   "cell_type": "code",
   "execution_count": 4,
   "metadata": {},
   "outputs": [
    {
     "name": "stdout",
     "output_type": "stream",
     "text": [
      "<class 'pandas.core.frame.DataFrame'>\n",
      "RangeIndex: 398 entries, 0 to 397\n",
      "Data columns (total 9 columns):\n",
      "mpg             398 non-null float64\n",
      "cylinders       398 non-null int64\n",
      "displacement    398 non-null float64\n",
      "horsepower      398 non-null object\n",
      "weight          398 non-null float64\n",
      "acceleration    398 non-null float64\n",
      "model year      398 non-null int64\n",
      "origin          398 non-null int64\n",
      "car_name        398 non-null object\n",
      "dtypes: float64(4), int64(3), object(2)\n",
      "memory usage: 28.1+ KB\n"
     ]
    }
   ],
   "source": [
    "df.info()"
   ]
  },
  {
   "cell_type": "code",
   "execution_count": 5,
   "metadata": {
    "collapsed": true
   },
   "outputs": [],
   "source": [
    "df = df[df.horsepower != '?']"
   ]
  },
  {
   "cell_type": "code",
   "execution_count": 6,
   "metadata": {},
   "outputs": [
    {
     "data": {
      "text/plain": [
       "mpg             float64\n",
       "cylinders         int64\n",
       "displacement    float64\n",
       "horsepower      float64\n",
       "weight          float64\n",
       "acceleration    float64\n",
       "model year        int64\n",
       "origin            int64\n",
       "car_name         object\n",
       "dtype: object"
      ]
     },
     "execution_count": 6,
     "metadata": {},
     "output_type": "execute_result"
    }
   ],
   "source": [
    "df.horsepower = df.horsepower.astype('float')\n",
    "df.dtypes\n"
   ]
  },
  {
   "cell_type": "markdown",
   "metadata": {},
   "source": [
    "### Ex 2. Convert this data to array"
   ]
  },
  {
   "cell_type": "code",
   "execution_count": 7,
   "metadata": {
    "collapsed": true
   },
   "outputs": [],
   "source": [
    "model = pd.DataFrame(df, columns = ['mpg', 'acceleration']) #predicting 'mpg' based on 'acceleration' / 'displacement' gave memory error so using 'acceleration'\n",
    "points = model\n",
    "points=points.reset_index().values"
   ]
  },
  {
   "cell_type": "markdown",
   "metadata": {},
   "source": [
    "### Ex 3. Define the learning rate and no. of iterations as 0.0001 and 1000 respectively along with y-intercept and slope"
   ]
  },
  {
   "cell_type": "code",
   "execution_count": 8,
   "metadata": {
    "collapsed": true
   },
   "outputs": [],
   "source": [
    "learning_rate = 0.0001\n",
    "num_iterations = 1000\n",
    "y_initial = 0 \n",
    "m_initial = 0 "
   ]
  },
  {
   "cell_type": "markdown",
   "metadata": {},
   "source": [
    "### Ex 4. Create the functions to get the BEST FIT line\n",
    "#### 1-Compute error for the line given the points\n",
    "#### 2-Step gradient function\n",
    "#### 3-Gradient descent"
   ]
  },
  {
   "cell_type": "code",
   "execution_count": 9,
   "metadata": {
    "collapsed": true
   },
   "outputs": [],
   "source": [
    "def compute_error_for_line_given_points(b, m, points):\n",
    "    totalError = 0\n",
    "    for i in range(0, len(points)):\n",
    "        x = points[i, 2]\n",
    "        y = points[i, 1]\n",
    "        totalError += (y - (m * x + b)) ** 2\n",
    "    return totalError / float(len(points))"
   ]
  },
  {
   "cell_type": "code",
   "execution_count": 10,
   "metadata": {
    "collapsed": true
   },
   "outputs": [],
   "source": [
    " def step_gradient(b_current, m_current, points, learningRate):\n",
    "    b_gradient = 0\n",
    "    m_gradient = 0\n",
    "    N = float(len(points))\n",
    "    for i in range(0, len(points)):\n",
    "        x = points[i, 2]\n",
    "        y = points[i, 1]\n",
    "        b_gradient += -(2/N) * (y - ((m_current * x) + b_current))\n",
    "        m_gradient += -(2/N) * x * (y - ((m_current * x) + b_current))\n",
    "    new_b = b_current - (learningRate * b_gradient)\n",
    "    new_m = m_current - (learningRate * m_gradient)\n",
    "    return [new_b, new_m]"
   ]
  },
  {
   "cell_type": "code",
   "execution_count": 11,
   "metadata": {},
   "outputs": [
    {
     "name": "stdout",
     "output_type": "stream",
     "text": [
      "Starting gradient descent at b = 0, m = 0, error = 610.4738265306123\n"
     ]
    }
   ],
   "source": [
    "def gradient_descent_runner(points, starting_b, starting_m, learning_rate, num_iterations):\n",
    "    b = starting_b\n",
    "    m = starting_m\n",
    "    for i in range(num_iterations):\n",
    "        b, m = step_gradient(b, m, points, learning_rate)\n",
    "    return [b, m]\n",
    "\n",
    "print(\"Starting gradient descent at b = {0}, m = {1}, error = {2}\".format(y_initial,m_initial,compute_error_for_line_given_points(y_initial, m_initial, points)))"
   ]
  },
  {
   "cell_type": "code",
   "execution_count": 12,
   "metadata": {},
   "outputs": [
    {
     "name": "stdout",
     "output_type": "stream",
     "text": [
      "After 1000 iterations b = 0.12186397820871156, m = 1.4915737460714782, error = 50.550071550466335\n"
     ]
    }
   ],
   "source": [
    "[b, m] = gradient_descent_runner(points, y_initial, m_initial, learning_rate, num_iterations)\n",
    "print(\"After {0} iterations b = {1}, m = {2}, error = {3}\".format(num_iterations, b, m, compute_error_for_line_given_points(b, m, points)))"
   ]
  },
  {
   "cell_type": "markdown",
   "metadata": {},
   "source": [
    "### Ex 5. Display using scatter plot the data points and the best fit line"
   ]
  },
  {
   "cell_type": "code",
   "execution_count": 13,
   "metadata": {},
   "outputs": [
    {
     "data": {
      "image/png": "[encoded data removed]",
      "text/plain": [
       "<matplotlib.figure.Figure at 0xa19bdd8>"
      ]
     },
     "metadata": {},
     "output_type": "display_data"
    }
   ],
   "source": [
    " for i in range(0, len(points)):\n",
    "        x = points[i, 2]\n",
    "        y = points[i, 1]\n",
    "        plt.scatter(x,y,color='red')\n",
    "\n",
    "        plt.plot(model.acceleration, (m * model.acceleration + b), color='green',linewidth=2)"
   ]
  },
  {
   "cell_type": "markdown",
   "metadata": {},
   "source": [
    "### Ex 6. Display the Gradient and y-intercept value in the form y = mx+c"
   ]
  },
  {
   "cell_type": "code",
   "execution_count": 14,
   "metadata": {},
   "outputs": [
    {
     "name": "stdout",
     "output_type": "stream",
     "text": [
      "y = 1.4915737460714782x + 0.12186397820871156\n"
     ]
    }
   ],
   "source": [
    "print('y = {0}x + {1}'.format(m,b))"
   ]
  },
  {
   "cell_type": "markdown",
   "metadata": {},
   "source": [
    "### Ex 7. Find the BEST FIT line i.e., m and c of y=mx+c with least error using trial and error method i.e., modify learning rate or iterations or both"
   ]
  },
  {
   "cell_type": "code",
   "execution_count": 20,
   "metadata": {},
   "outputs": [
    {
     "name": "stdout",
     "output_type": "stream",
     "text": [
      "y = 1.4832663608730705x + 0.09543107972686939       error =>50.58220098979198\n",
      "at learning_rate =>1e-05 & iterations =>1000\n",
      "y = 1.4929407096485403x + 0.09892106451207211       error =>50.55667559672851\n",
      "at learning_rate =>2e-05 & iterations =>1000\n",
      "y = 1.4928252506430004x + 0.10179850019876834       error =>50.55584567457327\n",
      "at learning_rate =>3e-05 & iterations =>1000\n",
      "y = 1.492646483697924x + 0.10467023696486742       error =>50.55501779331457\n",
      "at learning_rate =>4e-05 & iterations =>1000\n",
      "y = 1.492467424948391x + 0.1075402075293702       error =>50.55419091624064\n",
      "at learning_rate =>5e-05 & iterations =>1000\n",
      "y = 1.492288472305722x + 0.11040843777729603       error =>50.553365042092636\n",
      "at learning_rate =>6e-05 & iterations =>1000\n",
      "y = 1.492109628153563x + 0.11327492891553205       error =>50.55254016965489\n",
      "at learning_rate =>7e-05 & iterations =>1000\n",
      "y = 1.4919308924408765x + 0.11613968199842313       error =>50.55171629771294\n",
      "at learning_rate =>8e-05 & iterations =>1000\n",
      "y = 1.4917522651020634x + 0.11900269807876526       error =>50.55089342505394\n",
      "at learning_rate =>9e-05 & iterations =>1000\n",
      "y = 1.4915737460714782x + 0.12186397820871156       error =>50.550071550466335\n",
      "at learning_rate =>0.0001 & iterations =>1000\n",
      "y = 1.491395335283516x + 0.12472352343977774       error =>50.54925067274036\n",
      "at learning_rate =>0.00011 & iterations =>1000\n",
      "y = 1.491217032672611x + 0.1275813348228453       error =>50.54843079066738\n",
      "at learning_rate =>0.00012 & iterations =>1000\n",
      "y = 1.491038838173237x + 0.13043741340815868       error =>50.54761190304029\n",
      "at learning_rate =>0.00013 & iterations =>1000\n",
      "y = 1.4908607517199073x + 0.1332917602453263       error =>50.54679400865368\n",
      "at learning_rate =>0.00014 & iterations =>1000\n",
      "y = 1.4906827732471746x + 0.13614437638332222       error =>50.545977106303354\n",
      "at learning_rate =>0.00015 & iterations =>1000\n",
      "y = 1.4905049026896338x + 0.13899526287048494       error =>50.54516119478666\n",
      "at learning_rate =>0.00016 & iterations =>1000\n",
      "y = 1.490327139981915x + 0.14184442075451964       error =>50.544346272902274\n",
      "at learning_rate =>0.00017 & iterations =>1000\n",
      "y = 1.4901494850586907x + 0.14469185108249646       error =>50.54353233945083\n",
      "at learning_rate =>0.00018 & iterations =>1000\n",
      "y = 1.489971937854672x + 0.14753755490085313       error =>50.54271939323361\n",
      "at learning_rate =>0.00019 & iterations =>1000\n",
      "y = 1.4897944983046107x + 0.15038153325539294       error =>50.54190743305401\n",
      "at learning_rate =>0.0002 & iterations =>1000\n",
      "y = 1.4896171663432964x + 0.15322378719128665       error =>50.541096457716584\n",
      "at learning_rate =>0.00021 & iterations =>1000\n",
      "y = 1.4894399419055597x + 0.15606431775307358       error =>50.54028646602744\n",
      "at learning_rate =>0.00022 & iterations =>1000\n",
      "y = 1.4892628249262694x + 0.15890312598465925       error =>50.539477456794025\n",
      "at learning_rate =>0.00023 & iterations =>1000\n",
      "y = 1.4890858153403344x + 0.1617402129293187       error =>50.53866942882533\n",
      "at learning_rate =>0.00024 & iterations =>1000\n",
      "y = 1.4889089130827027x + 0.1645755796296959       error =>50.53786238093175\n",
      "at learning_rate =>0.00025 & iterations =>1000\n",
      "y = 1.4887321180883613x + 0.1674092271278022       error =>50.53705631192507\n",
      "at learning_rate =>0.00026 & iterations =>1000\n",
      "y = 1.4885554302923383x + 0.17024115646502017       error =>50.53625122061863\n",
      "at learning_rate =>0.00027 & iterations =>1000\n",
      "y = 1.4883788496296988x + 0.17307136868210232       error =>50.53544710582726\n",
      "at learning_rate =>0.00028 & iterations =>1000\n",
      "y = 1.4882023760355483x + 0.1758998648191688       error =>50.53464396636687\n",
      "at learning_rate =>0.00029 & iterations =>1000\n",
      "y = 1.4880260094450317x + 0.17872664591571327       error =>50.533841801055154\n",
      "at learning_rate =>0.0003 & iterations =>1000\n",
      "y = 1.487849749793333x + 0.18155171301059964       error =>50.53304060871115\n",
      "at learning_rate =>0.00031 & iterations =>1000\n",
      "y = 1.4876735970156754x + 0.1843750671420621       error =>50.53224038815539\n",
      "at learning_rate =>0.00032 & iterations =>1000\n",
      "y = 1.4874975510473207x + 0.1871967093477076       error =>50.531441138209544\n",
      "at learning_rate =>0.00033 & iterations =>1000\n",
      "y = 1.4873216118235713x + 0.19001664066451465       error =>50.53064285769715\n",
      "at learning_rate =>0.00034 & iterations =>1000\n",
      "y = 1.487145779279767x + 0.19283486212883524       error =>50.52984554544279\n",
      "at learning_rate =>0.00035 & iterations =>1000\n",
      "y = 1.4869700533512884x + 0.1956513747763914       error =>50.529049200272674\n",
      "at learning_rate =>0.00036 & iterations =>1000\n",
      "y = 1.4867944339735542x + 0.19846617964228244       error =>50.52825382101437\n",
      "at learning_rate =>0.00037 & iterations =>1000\n",
      "y = 1.486618921082022x + 0.20127927776097893       error =>50.52745940649692\n",
      "at learning_rate =>0.00038 & iterations =>1000\n",
      "y = 1.486443514612189x + 0.2040906701663252       error =>50.52666595555062\n",
      "at learning_rate =>0.00039 & iterations =>1000\n",
      "y = 1.4862682144995916x + 0.20690035789154151       error =>50.52587346700742\n",
      "at learning_rate =>0.0004 & iterations =>1000\n",
      "y = 1.4860930206798046x + 0.20970834196922114       error =>50.525081939700584\n",
      "at learning_rate =>0.00041 & iterations =>1000\n",
      "y = 1.4859179330884424x + 0.21251462343133432       error =>50.52429137246475\n",
      "at learning_rate =>0.00042 & iterations =>1000\n",
      "y = 1.4857429516611578x + 0.21531920330922416       error =>50.52350176413598\n",
      "at learning_rate =>0.00043 & iterations =>1000\n",
      "y = 1.4855680763336427x + 0.21812208263361266       error =>50.52271311355176\n",
      "at learning_rate =>0.00044 & iterations =>1000\n",
      "y = 1.485393307041628x + 0.22092326243459695       error =>50.52192541955095\n",
      "at learning_rate =>0.00045 & iterations =>1000\n",
      "y = 1.4852186437208836x + 0.22372274374164983       error =>50.521138680974005\n",
      "at learning_rate =>0.00046 & iterations =>1000\n",
      "y = 1.4850440863072185x + 0.2265205275836227       error =>50.5203528966624\n",
      "at learning_rate =>0.00047 & iterations =>1000\n",
      "y = 1.4848696347364796x + 0.22931661498874292       error =>50.519568065459495\n",
      "at learning_rate =>0.00048 & iterations =>1000\n",
      "y = 1.4846952889445533x + 0.2321110069846171       error =>50.5187841862096\n",
      "at learning_rate =>0.00049 & iterations =>1000\n",
      "y = 1.484521048867365x + 0.23490370459822796       error =>50.518001257758726\n",
      "at learning_rate =>0.0005 & iterations =>1000\n",
      "y = 1.4843469144408785x + 0.23769470885593863       error =>50.51721927895426\n",
      "at learning_rate =>0.00051 & iterations =>1000\n",
      "y = 1.4841728856010965x + 0.24048402078349115       error =>50.51643824864481\n",
      "at learning_rate =>0.00052 & iterations =>1000\n",
      "y = 1.4839989622840604x + 0.2432716414060056       error =>50.51565816568046\n",
      "at learning_rate =>0.00053 & iterations =>1000\n",
      "y = 1.48382514442585x + 0.24605757174798332       error =>50.514879028912766\n",
      "at learning_rate =>0.00054 & iterations =>1000\n",
      "y = 1.4836514319625842x + 0.24884181283330237       error =>50.514100837194626\n",
      "at learning_rate =>0.00055 & iterations =>1000\n",
      "y = 1.4834778248304203x + 0.25162436568522584       error =>50.51332358938026\n",
      "at learning_rate =>0.00056 & iterations =>1000\n",
      "y = 1.4833043229655547x + 0.2544052313263942       error =>50.5125472843254\n",
      "at learning_rate =>0.00057 & iterations =>1000\n",
      "y = 1.4831309263042218x + 0.25718441077883086       error =>50.51177192088707\n",
      "at learning_rate =>0.00058 & iterations =>1000\n",
      "y = 1.482957634782695x + 0.25996190506393974       error =>50.510997497923704\n",
      "at learning_rate =>0.00059 & iterations =>1000\n",
      "y = 1.4827844483372856x + 0.26273771520250694       error =>50.510224014295154\n",
      "at learning_rate =>0.0006 & iterations =>1000\n",
      "y = 1.4826113669043448x + 0.26551184221470175       error =>50.50945146886264\n",
      "at learning_rate =>0.00061 & iterations =>1000\n",
      "y = 1.4824383904202607x + 0.26828428712007435       error =>50.508679860488705\n",
      "at learning_rate =>0.00062 & iterations =>1000\n",
      "y = 1.482265518821461x + 0.27105505093755866       error =>50.50790918803726\n",
      "at learning_rate =>0.00063 & iterations =>1000\n",
      "y = 1.4820927520444116x + 0.2738241346854732       error =>50.5071394503738\n",
      "at learning_rate =>0.00064 & iterations =>1000\n",
      "y = 1.4819200900256166x + 0.27659153938151815       error =>50.50637064636486\n",
      "at learning_rate =>0.00065 & iterations =>1000\n",
      "y = 1.4817475327016187x + 0.2793572660427802       error =>50.50560277487865\n",
      "at learning_rate =>0.00066 & iterations =>1000\n"
     ]
    },
    {
     "name": "stdout",
     "output_type": "stream",
     "text": [
      "y = 1.4815750800089993x + 0.28212131568572896       error =>50.504835834784544\n",
      "at learning_rate =>0.00067 & iterations =>1000\n",
      "y = 1.4814027318843774x + 0.2848836893262185       error =>50.50406982495351\n",
      "at learning_rate =>0.00068 & iterations =>1000\n",
      "y = 1.4812304882644112x + 0.28764438797949016       error =>50.5033047442576\n",
      "at learning_rate =>0.00069 & iterations =>1000\n",
      "y = 1.4810583490857965x + 0.29040341266016917       error =>50.502540591570494\n",
      "at learning_rate =>0.0007 & iterations =>1000\n",
      "y = 1.4808863142852682x + 0.29316076438226707       error =>50.50177736576703\n",
      "at learning_rate =>0.00071 & iterations =>1000\n",
      "y = 1.4807143837995989x + 0.2959164441591825       error =>50.501015065723486\n",
      "at learning_rate =>0.00072 & iterations =>1000\n",
      "y = 1.4805425575655995x + 0.2986704530036999       error =>50.50025369031768\n",
      "at learning_rate =>0.00073 & iterations =>1000\n",
      "y = 1.4803708355201193x + 0.3014227919279918       error =>50.499493238428414\n",
      "at learning_rate =>0.00074 & iterations =>1000\n",
      "y = 1.4801992176000458x + 0.3041734619436174       error =>50.498733708936136\n",
      "at learning_rate =>0.00075 & iterations =>1000\n",
      "y = 1.4800277037423049x + 0.30692246406152346       error =>50.49797510072266\n",
      "at learning_rate =>0.00076 & iterations =>1000\n",
      "y = 1.47985629388386x + 0.30966979929204697       error =>50.49721741267095\n",
      "at learning_rate =>0.00077 & iterations =>1000\n",
      "y = 1.4796849879617133x + 0.3124154686449118       error =>50.4964606436655\n",
      "at learning_rate =>0.00078 & iterations =>1000\n",
      "y = 1.479513785912905x + 0.315159473129229       error =>50.49570479259218\n",
      "at learning_rate =>0.00079 & iterations =>1000\n",
      "y = 1.479342687674513x + 0.31790181375350357       error =>50.49494985833802\n",
      "at learning_rate =>0.0008 & iterations =>1000\n",
      "y = 1.4791716931836538x + 0.32064249152562746       error =>50.494195839791466\n",
      "at learning_rate =>0.00081 & iterations =>1000\n",
      "y = 1.4790008023774819x + 0.32338150745288097       error =>50.4934427358425\n",
      "at learning_rate =>0.00082 & iterations =>1000\n",
      "y = 1.4788300151931895x + 0.32611886254193934       error =>50.492690545382146\n",
      "at learning_rate =>0.00083 & iterations =>1000\n",
      "y = 1.478659331568007x + 0.32885455779886397       error =>50.49193926730308\n",
      "at learning_rate =>0.00084 & iterations =>1000\n",
      "y = 1.4784887514392022x + 0.33158859422911174       error =>50.491188900499075\n",
      "at learning_rate =>0.00085 & iterations =>1000\n",
      "y = 1.4783182747440822x + 0.33432097283752804       error =>50.4904394438654\n",
      "at learning_rate =>0.00086 & iterations =>1000\n",
      "y = 1.478147901419991x + 0.33705169462834905       error =>50.48969089629849\n",
      "at learning_rate =>0.00087 & iterations =>1000\n",
      "y = 1.4779776314043107x + 0.33978076060520757       error =>50.488943256696324\n",
      "at learning_rate =>0.00088 & iterations =>1000\n",
      "y = 1.4778074646344617x + 0.3425081717711266       error =>50.48819652395813\n",
      "at learning_rate =>0.00089 & iterations =>1000\n",
      "y = 1.4776374010479012x + 0.3452339291285218       error =>50.48745069698433\n",
      "at learning_rate =>0.0009 & iterations =>1000\n",
      "y = 1.4774674405821258x + 0.3479580336792024       error =>50.48670577467694\n",
      "at learning_rate =>0.00091 & iterations =>1000\n",
      "y = 1.4772975831746686x + 0.35068048642437205       error =>50.48596175593918\n",
      "at learning_rate =>0.00092 & iterations =>1000\n",
      "y = 1.4771278287631013x + 0.3534012883646277       error =>50.48521863967544\n",
      "at learning_rate =>0.00093 & iterations =>1000\n",
      "y = 1.4769581772850329x + 0.3561204404999615       error =>50.48447642479177\n",
      "at learning_rate =>0.00094 & iterations =>1000\n",
      "y = 1.4767886286781104x + 0.35883794382976036       error =>50.483735110195255\n",
      "at learning_rate =>0.00095 & iterations =>1000\n",
      "y = 1.4766191828800186x + 0.3615537993528053       error =>50.48299469479451\n",
      "at learning_rate =>0.00096 & iterations =>1000\n",
      "y = 1.4764498398284798x + 0.3642680080672755       error =>50.482255177499304\n",
      "at learning_rate =>0.00097 & iterations =>1000\n",
      "y = 1.4762805994612538x + 0.3669805709707434       error =>50.481516557220715\n",
      "at learning_rate =>0.00098 & iterations =>1000\n",
      "y = 1.476111461716139x + 0.3696914890601785       error =>50.480778832871486\n",
      "at learning_rate =>0.00099 & iterations =>1000\n"
     ]
    },
    {
     "data": {
      "image/png": "[encoded data removed]",
      "text/plain": [
       "<matplotlib.figure.Figure at 0xb9972b0>"
      ]
     },
     "metadata": {},
     "output_type": "display_data"
    }
   ],
   "source": [
    "# Combinations of learning rates to get least error\n",
    "x_error = 60  \n",
    "b_final = 0   \n",
    "m_final = 0  \n",
    "l_final = 0   \n",
    "iter_final = 0 \n",
    "\n",
    "# Looping the entire process to find least error value\n",
    "for i in range(1,100,1):\n",
    "    learning_rate = i/100000\n",
    "    num_iterations = 1000\n",
    "    y_initial = 0 \n",
    "    m_initial = 0 \n",
    "    [b, m] = gradient_descent_runner(points, y_initial, m_initial, learning_rate, num_iterations)\n",
    "    x_err = compute_error_for_line_given_points(b, m, points)\n",
    "\n",
    "    # Exchanging final values upon encounter of relative least error\n",
    "    if x_err<=x_error:\n",
    "        x_error=x_err\n",
    "        b_final=b\n",
    "        m_final=m\n",
    "        l_final=learning_rate\n",
    "        iter_final=num_iterations\n",
    "        \n",
    "# Printing the final values\n",
    "        print('y = {0}x + {1}       error =>{2}'.format(m_final,b_final,x_error,))\n",
    "        print('at learning_rate =>{0} & iterations =>{1}'.format(l_final, iter_final))\n",
    "\n",
    "# Plotting\n",
    "for i in range(0, len(points)):\n",
    "        x = points[i, 2]\n",
    "        y = points[i, 1]\n",
    "        plt.scatter(x,y,color='maroon')\n",
    "       \n",
    "        plt.plot(model.acceleration, (m_final * model.acceleration + b_final), color='blue',linewidth=3)\n",
    "        "
   ]
  }
 ],
 "metadata": {
  "kernelspec": {
   "display_name": "Python 3",
   "language": "python",
   "name": "python3"
  },
  "language_info": {
   "codemirror_mode": {
    "name": "ipython",
    "version": 3
   },
   "file_extension": ".py",
   "mimetype": "text/x-python",
   "name": "python",
   "nbconvert_exporter": "python",
   "pygments_lexer": "ipython3",
   "version": "3.6.1"
  }
 },
 "nbformat": 4,
 "nbformat_minor": 2
}
